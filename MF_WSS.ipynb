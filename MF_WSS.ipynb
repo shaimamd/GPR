{
  "cells": [
    {
      "cell_type": "code",
      "execution_count": 8,
      "id": "f100648f",
      "metadata": {
        "id": "f100648f"
      },
      "outputs": [],
      "source": []
    },
    {
      "cell_type": "code",
      "source": [
        "pip install GPy"
      ],
      "metadata": {
        "colab": {
          "base_uri": "https://localhost:8080/"
        },
        "id": "bgob3LqTl3Qg",
        "outputId": "4ad14a34-64c0-4014-8976-1698ff09e6a5"
      },
      "id": "bgob3LqTl3Qg",
      "execution_count": 9,
      "outputs": [
        {
          "output_type": "stream",
          "name": "stdout",
          "text": [
            "Looking in indexes: https://pypi.org/simple, https://us-python.pkg.dev/colab-wheels/public/simple/\n",
            "Requirement already satisfied: GPy in /usr/local/lib/python3.8/dist-packages (1.10.0)\n",
            "Requirement already satisfied: scipy>=1.3.0 in /usr/local/lib/python3.8/dist-packages (from GPy) (1.7.3)\n",
            "Requirement already satisfied: cython>=0.29 in /usr/local/lib/python3.8/dist-packages (from GPy) (0.29.33)\n",
            "Requirement already satisfied: numpy>=1.7 in /usr/local/lib/python3.8/dist-packages (from GPy) (1.21.6)\n",
            "Requirement already satisfied: paramz>=0.9.0 in /usr/local/lib/python3.8/dist-packages (from GPy) (0.9.5)\n",
            "Requirement already satisfied: six in /usr/local/lib/python3.8/dist-packages (from GPy) (1.15.0)\n",
            "Requirement already satisfied: decorator>=4.0.10 in /usr/local/lib/python3.8/dist-packages (from paramz>=0.9.0->GPy) (4.4.2)\n"
          ]
        }
      ]
    },
    {
      "cell_type": "code",
      "execution_count": 10,
      "id": "dab3bb7d",
      "metadata": {
        "colab": {
          "base_uri": "https://localhost:8080/"
        },
        "id": "dab3bb7d",
        "outputId": "b8a637ea-bc9d-4470-88af-2acda4250240"
      },
      "outputs": [
        {
          "output_type": "stream",
          "name": "stdout",
          "text": [
            "Looking in indexes: https://pypi.org/simple, https://us-python.pkg.dev/colab-wheels/public/simple/\n",
            "Requirement already satisfied: emukit in /usr/local/lib/python3.8/dist-packages (0.4.10)\n",
            "Requirement already satisfied: emcee>=2.2.1 in /usr/local/lib/python3.8/dist-packages (from emukit) (3.1.4)\n",
            "Requirement already satisfied: numpy>=1.14.5 in /usr/local/lib/python3.8/dist-packages (from emukit) (1.21.6)\n",
            "Requirement already satisfied: GPy[plotting]>=1.10.0 in /usr/local/lib/python3.8/dist-packages (from emukit) (1.10.0)\n",
            "Requirement already satisfied: setuptools>=40.8.0 in /usr/local/lib/python3.8/dist-packages (from emukit) (57.4.0)\n",
            "Requirement already satisfied: scipy>=1.1.0 in /usr/local/lib/python3.8/dist-packages (from emukit) (1.7.3)\n",
            "Requirement already satisfied: cython>=0.29 in /usr/local/lib/python3.8/dist-packages (from GPy[plotting]>=1.10.0->emukit) (0.29.33)\n",
            "Requirement already satisfied: six in /usr/local/lib/python3.8/dist-packages (from GPy[plotting]>=1.10.0->emukit) (1.15.0)\n",
            "Requirement already satisfied: paramz>=0.9.0 in /usr/local/lib/python3.8/dist-packages (from GPy[plotting]>=1.10.0->emukit) (0.9.5)\n",
            "Requirement already satisfied: matplotlib>=3.0 in /usr/local/lib/python3.8/dist-packages (from GPy[plotting]>=1.10.0->emukit) (3.2.2)\n",
            "Requirement already satisfied: plotly>=1.8.6 in /usr/local/lib/python3.8/dist-packages (from GPy[plotting]>=1.10.0->emukit) (5.5.0)\n",
            "Requirement already satisfied: kiwisolver>=1.0.1 in /usr/local/lib/python3.8/dist-packages (from matplotlib>=3.0->GPy[plotting]>=1.10.0->emukit) (1.4.4)\n",
            "Requirement already satisfied: cycler>=0.10 in /usr/local/lib/python3.8/dist-packages (from matplotlib>=3.0->GPy[plotting]>=1.10.0->emukit) (0.11.0)\n",
            "Requirement already satisfied: python-dateutil>=2.1 in /usr/local/lib/python3.8/dist-packages (from matplotlib>=3.0->GPy[plotting]>=1.10.0->emukit) (2.8.2)\n",
            "Requirement already satisfied: pyparsing!=2.0.4,!=2.1.2,!=2.1.6,>=2.0.1 in /usr/local/lib/python3.8/dist-packages (from matplotlib>=3.0->GPy[plotting]>=1.10.0->emukit) (3.0.9)\n",
            "Requirement already satisfied: decorator>=4.0.10 in /usr/local/lib/python3.8/dist-packages (from paramz>=0.9.0->GPy[plotting]>=1.10.0->emukit) (4.4.2)\n",
            "Requirement already satisfied: tenacity>=6.2.0 in /usr/local/lib/python3.8/dist-packages (from plotly>=1.8.6->GPy[plotting]>=1.10.0->emukit) (8.2.1)\n"
          ]
        }
      ],
      "source": [
        "pip install emukit\n"
      ]
    },
    {
      "cell_type": "code",
      "execution_count": 11,
      "id": "4a232731",
      "metadata": {
        "id": "4a232731"
      },
      "outputs": [],
      "source": [
        "import GPy\n",
        "import emukit.multi_fidelity\n",
        "import emukit.test_functions\n",
        "from emukit.model_wrappers.gpy_model_wrappers import GPyMultiOutputWrapper\n",
        "from emukit.multi_fidelity.models import GPyLinearMultiFidelityModel\n",
        "import numpy as np\n",
        "import matplotlib.pyplot as plt\n",
        "from matplotlib import colors as mcolors\n",
        "colors = dict(mcolors.BASE_COLORS, **mcolors.CSS4_COLORS)\n",
        "%matplotlib inline\n",
        "\n",
        "## Generate samples from the Forrester function\n",
        "\n",
        "\n",
        "\n",
        "x_train_l =  np.array([[70,100],[70,80],[70,50],[70,30],[70,0],[60,100],[60,80],[60,50],[60,30],[60,0],[50,100],[50,80],[50,50],[50,30],[50,0],[40,100],[40,80],[40,50],[40,30],[40,0]])\n",
        "x_train_h = np.array([[70,100],[70,0],[40,0],[40,100],[50,50],[60,80]])\n",
        "\n",
        "y_train_l =  np.array([0.2507382156,\n",
        "0.2381159168,\n",
        "0.2200474795,\n",
        "0.209464005,\n",
        "0.1963243573,\n",
        "0.1641092421,\n",
        "0.1545688867,\n",
        "0.1445713693,\n",
        "0.1367819646,\n",
        "0.1251928921,\n",
        "0.1097292963,\n",
        "0.1026112168,\n",
        "0.09297353899,\n",
        "0.08699840507,\n",
        "0.08040800986,\n",
        "0.07239583902,\n",
        "0.06697339319,\n",
        "0.06697339319,\n",
        "0.05639705844,\n",
        "0.05126751838])\n",
        "y_train_h = np.array([ 0.25904,0.19904,0.051769,0.073881,0.095123,0.16055])"
      ]
    },
    {
      "cell_type": "code",
      "execution_count": 12,
      "id": "283df994",
      "metadata": {
        "id": "283df994"
      },
      "outputs": [],
      "source": [
        "x_train_l=np.c_[ x_train_l, np.zeros(len(x_train_l)) ]   "
      ]
    },
    {
      "cell_type": "code",
      "execution_count": 13,
      "id": "34b36efc",
      "metadata": {
        "id": "34b36efc"
      },
      "outputs": [],
      "source": [
        "x_train_h=np.c_[ x_train_h, np.ones(len(x_train_h)) ]   "
      ]
    },
    {
      "cell_type": "code",
      "execution_count": 14,
      "id": "fce65d63",
      "metadata": {
        "colab": {
          "base_uri": "https://localhost:8080/"
        },
        "id": "fce65d63",
        "outputId": "ade95307-aad8-44d7-8c52-6608b629233b"
      },
      "outputs": [
        {
          "output_type": "stream",
          "name": "stdout",
          "text": [
            "[[ 70. 100.   0.]\n",
            " [ 70.  80.   0.]\n",
            " [ 70.  50.   0.]\n",
            " [ 70.  30.   0.]\n",
            " [ 70.   0.   0.]\n",
            " [ 60. 100.   0.]\n",
            " [ 60.  80.   0.]\n",
            " [ 60.  50.   0.]\n",
            " [ 60.  30.   0.]\n",
            " [ 60.   0.   0.]\n",
            " [ 50. 100.   0.]\n",
            " [ 50.  80.   0.]\n",
            " [ 50.  50.   0.]\n",
            " [ 50.  30.   0.]\n",
            " [ 50.   0.   0.]\n",
            " [ 40. 100.   0.]\n",
            " [ 40.  80.   0.]\n",
            " [ 40.  50.   0.]\n",
            " [ 40.  30.   0.]\n",
            " [ 40.   0.   0.]\n",
            " [ 70. 100.   1.]\n",
            " [ 70.   0.   1.]\n",
            " [ 40.   0.   1.]\n",
            " [ 40. 100.   1.]\n",
            " [ 50.  50.   1.]\n",
            " [ 60.  80.   1.]]\n",
            "[0.25073822 0.23811592 0.22004748 0.20946401 0.19632436 0.16410924\n",
            " 0.07239584 0.14457137 0.13678196 0.12519289 0.1097293  0.10261122\n",
            " 0.09297354 0.08699841 0.08040801 0.07239584 0.06697339 0.06697339\n",
            " 0.05639706 0.05126752 0.25904    0.19904    0.051769   0.073881\n",
            " 0.095123   0.073881  ]\n"
          ]
        }
      ],
      "source": [
        "\n",
        "X_train=np.append(x_train_l,x_train_h,axis=0)\n",
        "Y_train=np.append(y_train_l,y_train_h,axis=0)\n",
        "print(X_train)\n",
        "print(Y_train)"
      ]
    },
    {
      "cell_type": "code",
      "execution_count": 15,
      "id": "a55545a5",
      "metadata": {
        "colab": {
          "base_uri": "https://localhost:8080/"
        },
        "id": "a55545a5",
        "outputId": "3f4bc160-7e9a-4d6a-be2f-3848d5d0b675"
      },
      "outputs": [
        {
          "output_type": "stream",
          "name": "stdout",
          "text": [
            "3\n",
            "[[0.25073822]\n",
            " [0.23811592]\n",
            " [0.22004748]\n",
            " [0.20946401]\n",
            " [0.19632436]\n",
            " [0.16410924]\n",
            " [0.16055]\n",
            " [0.14457137]\n",
            " [0.13678196]\n",
            " [0.12519289]\n",
            " [0.1097293 ]\n",
            " [0.10261122]\n",
            " [0.09297354]\n",
            " [0.08699841]\n",
            " [0.08040801]\n",
            " [0.07239584]\n",
            " [0.06697339]\n",
            " [0.06697339]\n",
            " [0.05639706]\n",
            " [0.05126752]\n",
            " [0.25904   ]\n",
            " [0.19904   ]\n",
            " [0.051769  ]\n",
            " [0.073881  ]\n",
            " [0.095123  ]\n",
            " [0.073881  ]]\n"
          ]
        }
      ],
      "source": [
        "print(X_train.shape[1])\n",
        "Y_train=np.reshape(Y_train,(len(X_train),1))\n",
        "print(Y_train)"
      ]
    },
    {
      "cell_type": "code",
      "execution_count": 16,
      "id": "926d9628",
      "metadata": {
        "colab": {
          "base_uri": "https://localhost:8080/"
        },
        "id": "926d9628",
        "outputId": "27318c1b-cf3f-423d-d149-be78c18d1aed"
      },
      "outputs": [
        {
          "output_type": "stream",
          "name": "stdout",
          "text": [
            "Optimization restart 1/200, f = -42.12846822469348\n",
            "Optimization restart 2/200, f = -42.12846822241277\n",
            "Optimization restart 3/200, f = -42.12846822469195\n",
            "Optimization restart 4/200, f = -42.12846823729738\n",
            "Optimization restart 5/200, f = -42.128495325882874\n",
            "Optimization restart 6/200, f = -42.128468224691915\n",
            "Optimization restart 7/200, f = -42.128468224693876\n",
            "Optimization restart 8/200, f = -42.128468224823955\n",
            "Optimization restart 9/200, f = -42.1284682248923\n",
            "Optimization restart 10/200, f = -42.12846822557299\n",
            "Optimization restart 11/200, f = -42.1284682246951\n",
            "Optimization restart 12/200, f = -42.12846822460492\n",
            "Optimization restart 13/200, f = -42.12846822461323\n",
            "Optimization restart 14/200, f = -42.12846822456008\n",
            "Optimization restart 15/200, f = -42.1284682246951\n",
            "Optimization restart 16/200, f = -42.128468224685115\n",
            "Optimization restart 17/200, f = -42.12846822469509\n",
            "Optimization restart 18/200, f = -42.128468224637\n",
            "Optimization restart 19/200, f = -42.12846822469514\n",
            "Optimization restart 20/200, f = -42.12846822444857\n",
            "Optimization restart 21/200, f = -42.1284682247836\n",
            "Optimization restart 22/200, f = -42.12846822453312\n",
            "Optimization restart 23/200, f = -42.12846822201787\n",
            "Optimization restart 24/200, f = -42.12846822462298\n",
            "Optimization restart 25/200, f = -42.12846822463566\n",
            "Optimization restart 26/200, f = -42.12846822469494\n",
            "Optimization restart 27/200, f = -42.128468224686685\n",
            "Optimization restart 28/200, f = -42.12846822467243\n",
            "Optimization restart 29/200, f = -42.12846822468613\n",
            "Optimization restart 30/200, f = -42.12846822361108\n",
            "Optimization restart 31/200, f = -42.12846822469511\n",
            "Optimization restart 32/200, f = -42.128468224502\n",
            "Optimization restart 33/200, f = -42.128468224634986\n",
            "Optimization restart 34/200, f = -42.12846822473289\n",
            "Optimization restart 35/200, f = -42.128468224694146\n",
            "Optimization restart 36/200, f = -42.12846825748361\n",
            "Optimization restart 37/200, f = -42.12846822352343\n",
            "Optimization restart 38/200, f = -42.12846822469404\n",
            "Optimization restart 39/200, f = -42.12846822457534\n",
            "Optimization restart 40/200, f = -42.12846822458756\n",
            "Optimization restart 41/200, f = -42.12846822460508\n",
            "Optimization restart 42/200, f = -42.12846822466696\n",
            "Optimization restart 43/200, f = -42.128468224618565\n",
            "Optimization restart 44/200, f = -42.12846822452911\n",
            "Optimization restart 45/200, f = -42.12846822469453\n",
            "Optimization restart 46/200, f = -42.128468208914256\n",
            "Optimization restart 47/200, f = -42.12846822469512\n",
            "Optimization restart 48/200, f = -42.12846822439322\n",
            "Optimization restart 49/200, f = -42.128468224693734\n",
            "Optimization restart 50/200, f = -42.12846822469406\n",
            "Optimization restart 51/200, f = -42.12846822469439\n",
            "Optimization restart 52/200, f = -42.128468223709724\n",
            "Optimization restart 53/200, f = -42.12846822469378\n",
            "Optimization restart 54/200, f = -42.12846822469047\n",
            "Optimization restart 55/200, f = -42.128468224694075\n",
            "Optimization restart 56/200, f = -42.128468224600525\n",
            "Optimization restart 57/200, f = -42.12846822465781\n",
            "Optimization restart 58/200, f = -42.12846822300689\n",
            "Optimization restart 59/200, f = -42.12846822479309\n",
            "Optimization restart 60/200, f = -42.128468224565964\n",
            "Optimization restart 61/200, f = -42.128468224656714\n",
            "Optimization restart 62/200, f = -42.12846822469493\n",
            "Optimization restart 63/200, f = -42.12846822467655\n",
            "Optimization restart 64/200, f = -42.12846822436203\n",
            "Optimization restart 65/200, f = -42.12846822469469\n",
            "Optimization restart 66/200, f = -42.12846822469331\n",
            "Optimization restart 67/200, f = -42.13812804101923\n",
            "Optimization restart 68/200, f = -42.1284682242437\n",
            "Optimization restart 69/200, f = -42.12846822469323\n",
            "Optimization restart 70/200, f = -42.12846822464496\n",
            "Optimization restart 71/200, f = -42.12846822453686\n",
            "Optimization restart 72/200, f = -42.128468224695176\n",
            "Optimization restart 73/200, f = -42.128468224690174\n",
            "Optimization restart 74/200, f = -42.12846822395504\n",
            "Optimization restart 75/200, f = -42.12846822467661\n",
            "Optimization restart 76/200, f = -42.1284682246565\n",
            "Optimization restart 77/200, f = -42.12846822469507\n",
            "Optimization restart 78/200, f = -42.128468224693435\n",
            "Optimization restart 79/200, f = -42.12846822471208\n",
            "Optimization restart 80/200, f = -42.128501883411985\n",
            "Optimization restart 81/200, f = -42.12846822469448\n",
            "Optimization restart 82/200, f = -42.12846822466202\n",
            "Optimization restart 83/200, f = -42.12846822469507\n",
            "Optimization restart 84/200, f = -42.1284682246059\n",
            "Optimization restart 85/200, f = -42.12846822469398\n",
            "Optimization restart 86/200, f = -42.12846822469561\n",
            "Optimization restart 87/200, f = -42.12846822467386\n",
            "Optimization restart 88/200, f = -42.128468224695\n",
            "Optimization restart 89/200, f = -42.12846822466723\n",
            "Optimization restart 90/200, f = -42.12846822461676\n",
            "Optimization restart 91/200, f = -42.128468224694146\n",
            "Optimization restart 92/200, f = -42.12846822469514\n",
            "Optimization restart 93/200, f = -42.12846822449522\n",
            "Optimization restart 94/200, f = -42.128468224423116\n",
            "Optimization restart 95/200, f = -42.12846822469486\n",
            "Optimization restart 96/200, f = -42.12846822467634\n",
            "Optimization restart 97/200, f = -42.12846822462234\n",
            "Optimization restart 98/200, f = -42.12846822469367\n",
            "Optimization restart 99/200, f = -42.128468224747415\n",
            "Optimization restart 100/200, f = -42.12846822467296\n",
            "Optimization restart 101/200, f = -42.128468224695\n",
            "Optimization restart 102/200, f = -42.12846822468642\n",
            "Optimization restart 103/200, f = -42.12846822468488\n",
            "Optimization restart 104/200, f = -42.128468236526786\n",
            "Optimization restart 105/200, f = -42.12846822471542\n",
            "Optimization restart 106/200, f = -42.128468224694075\n",
            "Optimization restart 107/200, f = -42.128468224693925\n",
            "Optimization restart 108/200, f = -42.12846822466967\n",
            "Optimization restart 109/200, f = -42.128468224695126\n",
            "Optimization restart 110/200, f = -42.12846822468266\n",
            "Optimization restart 111/200, f = -42.12846822442019\n",
            "Optimization restart 112/200, f = -42.12846822452104\n",
            "Optimization restart 113/200, f = -42.12846822469511\n",
            "Optimization restart 114/200, f = -42.12846822468325\n",
            "Optimization restart 115/200, f = -42.1284682246928\n",
            "Optimization restart 116/200, f = -42.128468224682045\n",
            "Optimization restart 117/200, f = -42.12846822145778\n",
            "Optimization restart 118/200, f = -42.128468224687566\n",
            "Optimization restart 119/200, f = -42.12846822449849\n",
            "Optimization restart 120/200, f = -52.57394882303268\n",
            "Optimization restart 121/200, f = -42.12846822469511\n",
            "Optimization restart 122/200, f = -42.12846822468238\n",
            "Optimization restart 123/200, f = -42.12846822469509\n",
            "Optimization restart 124/200, f = -42.128468224695006\n",
            "Optimization restart 125/200, f = -42.12846822469375\n",
            "Optimization restart 126/200, f = -42.128468224676546\n",
            "Optimization restart 127/200, f = -42.12846822469449\n",
            "Optimization restart 128/200, f = -42.12846822461738\n",
            "Optimization restart 129/200, f = -42.128468229085875\n",
            "Optimization restart 130/200, f = -42.128468224643285\n",
            "Optimization restart 131/200, f = -42.128468892419505\n",
            "Optimization restart 132/200, f = -42.12846822469291\n",
            "Optimization restart 133/200, f = -42.128468224639455\n",
            "Optimization restart 134/200, f = -42.128468224421745\n",
            "Optimization restart 135/200, f = -42.12846822468831\n",
            "Optimization restart 136/200, f = -42.12846822452647\n",
            "Optimization restart 137/200, f = -42.128468224694764\n",
            "Optimization restart 138/200, f = -42.128468224648174\n",
            "Optimization restart 139/200, f = -42.128468224694466\n",
            "Optimization restart 140/200, f = -42.1284682246658\n",
            "Optimization restart 141/200, f = -42.128468224420175\n",
            "Optimization restart 142/200, f = -42.12846822467043\n",
            "Optimization restart 143/200, f = -42.128468223472964\n",
            "Optimization restart 144/200, f = -42.12846822464077\n",
            "Optimization restart 145/200, f = -42.128468224693954\n",
            "Optimization restart 146/200, f = -42.128468224664005\n",
            "Optimization restart 147/200, f = -42.128468224660466\n",
            "Optimization restart 148/200, f = -42.12846822461075\n",
            "Optimization restart 149/200, f = -42.12846822465168\n",
            "Optimization restart 150/200, f = -42.12846822469497\n",
            "Optimization restart 151/200, f = -42.128468224686465\n",
            "Optimization restart 152/200, f = -42.128468224548755\n",
            "Optimization restart 153/200, f = -42.12846822431875\n",
            "Optimization restart 154/200, f = -42.1284682240478\n",
            "Optimization restart 155/200, f = -42.12846822467603\n",
            "Optimization restart 156/200, f = -42.128468224660196\n",
            "Optimization restart 157/200, f = -42.128468224694515\n",
            "Optimization restart 158/200, f = -42.128468224013176\n",
            "Optimization restart 159/200, f = -42.12846822468781\n",
            "Optimization restart 160/200, f = -42.12846822466102\n",
            "Optimization restart 161/200, f = -42.128468224605555\n",
            "Optimization restart 162/200, f = -42.128468224388726\n",
            "Optimization restart 163/200, f = -42.12846822464536\n",
            "Optimization restart 164/200, f = -42.128468271433135\n",
            "Optimization restart 165/200, f = -42.1284682246854\n",
            "Optimization restart 166/200, f = -42.128468224676496\n",
            "Optimization restart 167/200, f = -42.128773657787335\n",
            "Optimization restart 168/200, f = -42.1284682246536\n",
            "Optimization restart 169/200, f = -42.12846822446174\n",
            "Optimization restart 170/200, f = -42.12846822469341\n",
            "Optimization restart 171/200, f = -42.12846822469484\n",
            "Optimization restart 172/200, f = -42.128468224647875\n",
            "Optimization restart 173/200, f = -42.128468224690806\n",
            "Optimization restart 174/200, f = -42.12846822469316\n",
            "Optimization restart 175/200, f = -42.12846822468295\n",
            "Optimization restart 176/200, f = -42.128468224542175\n",
            "Optimization restart 177/200, f = -42.12846822469044\n",
            "Optimization restart 178/200, f = -42.12846822463206\n",
            "Optimization restart 179/200, f = -42.12846822446399\n",
            "Optimization restart 180/200, f = -42.12846822468529\n",
            "Optimization restart 181/200, f = -42.12846846526698\n",
            "Optimization restart 182/200, f = -42.12846822468862\n",
            "Optimization restart 183/200, f = -42.128477915929984\n",
            "Optimization restart 184/200, f = -42.12846822464137\n",
            "Optimization restart 185/200, f = -42.12846822469167\n",
            "Optimization restart 186/200, f = -42.128468224695126\n",
            "Optimization restart 187/200, f = -42.128468224580956\n",
            "Optimization restart 188/200, f = -42.128468224690906\n",
            "Optimization restart 189/200, f = -42.12846822468529\n",
            "Optimization restart 190/200, f = -42.12846822439137\n",
            "Optimization restart 191/200, f = -42.128468224694174\n",
            "Optimization restart 192/200, f = -42.1284682245766\n",
            "Optimization restart 193/200, f = -42.12846822456465\n",
            "Optimization restart 194/200, f = -42.12846822469511\n",
            "Optimization restart 195/200, f = -42.128468224690025\n",
            "Optimization restart 196/200, f = -42.12846822479234\n",
            "Optimization restart 197/200, f = -42.128468224695084\n",
            "Optimization restart 198/200, f = -42.128468224608156\n",
            "Optimization restart 199/200, f = -42.12846822468131\n",
            "Optimization restart 200/200, f = -42.12846822469507\n"
          ]
        }
      ],
      "source": [
        "kernels = [GPy.kern.RBF(2),GPy.kern.RBF(2)]\n",
        "lin_mf_kernel = emukit.multi_fidelity.kernels.LinearMultiFidelityKernel(kernels)\n",
        "gpy_lin_mf_model = GPyLinearMultiFidelityModel(X_train, Y_train, lin_mf_kernel, n_fidelities=2)\n",
        "gpy_lin_mf_model.mixed_noise.Gaussian_noise.fix(0)\n",
        "gpy_lin_mf_model.mixed_noise.Gaussian_noise_1.fix(0)\n",
        "\n",
        "lin_mf_model =model=GPyMultiOutputWrapper(gpy_lin_mf_model, 4, n_optimization_restarts=200)\n",
        "\n",
        "## Fit the model\n",
        "  \n",
        "lin_mf_model.optimize()\n"
      ]
    },
    {
      "cell_type": "code",
      "execution_count": 17,
      "id": "d06a40a8",
      "metadata": {
        "colab": {
          "base_uri": "https://localhost:8080/"
        },
        "id": "d06a40a8",
        "outputId": "5923596c-edfe-480c-b5ff-848a705d0198"
      },
      "outputs": [
        {
          "output_type": "stream",
          "name": "stdout",
          "text": [
            "[[ 70  50]\n",
            " [ 60   0]\n",
            " [ 60  30]\n",
            " [ 40 100]\n",
            " [ 50  80]\n",
            " [ 40  30]]\n"
          ]
        }
      ],
      "source": [
        "## Compute mean and variance predictions\n",
        "#testx = np.linspace(40,70, 100, endpoint=True)\n",
        "\n",
        "#testy= np.linspace(0,100, 100, endpoint=True)\n",
        "\n",
        "\n",
        "#x = [(a, b) for a in testx for b in testy] \n",
        "#x=np.array([x])\n",
        "#x_plot=np.reshape(x,[10000,2])\n",
        "x_plot=np.array([[70,50],[60,0],[60,30],[40,100],[50,80],[40,30]])\n",
        "X_plot_l=np.c_[ x_plot, np.zeros(len(x_plot)) ]   \n",
        "X_plot_h=np.c_[ x_plot, np.ones(len(x_plot)) ]   \n",
        "\n",
        "print(x_plot)"
      ]
    },
    {
      "cell_type": "code",
      "execution_count": 18,
      "id": "db623716",
      "metadata": {
        "id": "db623716"
      },
      "outputs": [],
      "source": [
        "\n",
        "\n",
        "## Compute mean predictions and associated variance\n",
        "\n",
        "## Compute mean predictions and associated variance\n",
        "\n",
        "lf_mean_lin_mf_model, lf_var_lin_mf_model = lin_mf_model.predict(X_plot_l)\n",
        "\n",
        "hf_mean_lin_mf_model, hf_var_lin_mf_model = lin_mf_model.predict(X_plot_h)\n",
        "\n",
        "\n",
        "\n",
        "\n"
      ]
    },
    {
      "cell_type": "code",
      "execution_count": 19,
      "id": "21c16ea4",
      "metadata": {
        "colab": {
          "base_uri": "https://localhost:8080/"
        },
        "id": "21c16ea4",
        "outputId": "d9c07197-4d38-48cc-b005-c4605f72006e"
      },
      "outputs": [
        {
          "output_type": "stream",
          "name": "stdout",
          "text": [
            "[[0.22004739]\n",
            " [0.12519306]\n",
            " [0.13678211]\n",
            " [0.07239382]\n",
            " [0.10261042]\n",
            " [0.0563971 ]]\n"
          ]
        }
      ],
      "source": [
        "print(lf_mean_lin_mf_model)"
      ]
    },
    {
      "cell_type": "code",
      "execution_count": 20,
      "id": "ee2507b4",
      "metadata": {
        "colab": {
          "base_uri": "https://localhost:8080/"
        },
        "id": "ee2507b4",
        "outputId": "fc07fb4c-131a-49e5-c67b-240f01f06c93"
      },
      "outputs": [
        {
          "output_type": "stream",
          "name": "stdout",
          "text": [
            "[[0.22550589]\n",
            " [0.1282986 ]\n",
            " [0.14017513]\n",
            " [0.0738829 ]\n",
            " [0.10515578]\n",
            " [0.05779608]]\n"
          ]
        }
      ],
      "source": [
        "print(hf_mean_lin_mf_model)"
      ]
    },
    {
      "cell_type": "code",
      "execution_count": 21,
      "id": "20a38513",
      "metadata": {
        "id": "20a38513"
      },
      "outputs": [],
      "source": [
        "## Create standard GP model using only high-fidelity data\n",
        "x_train_DNS=np.array([[70,0],[70,100],[70,50],[60,0],[60,30],[60,80],[50,80],[50,50],[40,0],[40,30],[40,100]])\n",
        "y_train_DNS=np.array([0.19904,\n",
        "0.25904,\n",
        "0.22548,\n",
        "0.12664,\n",
        "0.1376,\n",
        "0.073881,\n",
        "0.1055,\n",
        "0.095123,\n",
        "0.051769,\n",
        "0.056826,\n",
        "0.073881\n",
        "])\n",
        "x_train_DNS=np.c_[ x_train_DNS, np.ones(len(x_train_DNS)) ]   \n",
        "y_train_DNS=np.reshape(y_train_DNS,(len(x_train_DNS),1))\n",
        "\n",
        "\n",
        "kernel = GPy.kern.RBF(2)"
      ]
    },
    {
      "cell_type": "code",
      "execution_count": 22,
      "id": "94a2bb92",
      "metadata": {
        "colab": {
          "base_uri": "https://localhost:8080/"
        },
        "id": "94a2bb92",
        "outputId": "42a20c92-e0a2-4503-e641-8ff54b8d3ed4"
      },
      "outputs": [
        {
          "output_type": "stream",
          "name": "stdout",
          "text": [
            "Optimization restart 1/100, f = -5.6744251584077485\n",
            "Optimization restart 2/100, f = -5.674425187394113\n",
            "Optimization restart 3/100, f = -5.674425158407755\n",
            "Optimization restart 4/100, f = -5.674425158406645\n",
            "Optimization restart 5/100, f = -5.6744251584077166\n",
            "Optimization restart 6/100, f = -5.674425158407756\n",
            "Optimization restart 7/100, f = -5.674425158407746\n",
            "Optimization restart 8/100, f = -5.674425158406252\n",
            "Optimization restart 9/100, f = -5.6744251584025065\n"
          ]
        },
        {
          "output_type": "stream",
          "name": "stderr",
          "text": [
            " /usr/local/lib/python3.8/dist-packages/GPy/core/gp.py:85: UserWarning:Your kernel has a different input dimension 2 then the given X dimension 3. Be very sure this is what you want and you have not forgotten to set the right input dimenion in your kernel\n"
          ]
        },
        {
          "output_type": "stream",
          "name": "stdout",
          "text": [
            "Optimization restart 10/100, f = -5.674438446663543\n",
            "Optimization restart 11/100, f = -5.674425158407641\n",
            "Optimization restart 12/100, f = -5.674425158428739\n",
            "Optimization restart 13/100, f = -5.674425158407745\n",
            "Optimization restart 14/100, f = -5.67442515840776\n",
            "Optimization restart 15/100, f = -5.674425161216344\n",
            "Optimization restart 16/100, f = -5.674425158406818\n",
            "Optimization restart 17/100, f = -5.674425158407737\n",
            "Optimization restart 18/100, f = -5.67443875174191\n",
            "Optimization restart 19/100, f = -5.6744251584071375\n",
            "Optimization restart 20/100, f = -5.6744251584077485\n",
            "Optimization restart 21/100, f = -5.674425158407753\n",
            "Optimization restart 22/100, f = -5.674425158407751\n",
            "Optimization restart 23/100, f = -5.674425158407741\n",
            "Optimization restart 24/100, f = -5.674425158407502\n",
            "Optimization restart 25/100, f = -5.674425158407662\n",
            "Optimization restart 26/100, f = -5.674425158407659\n",
            "Optimization restart 27/100, f = -5.674425158407749\n",
            "Optimization restart 28/100, f = -5.674425158404556\n",
            "Optimization restart 29/100, f = -5.674425158407753\n",
            "Optimization restart 30/100, f = -5.674425158407752\n",
            "Optimization restart 31/100, f = -5.674425158407691\n",
            "Optimization restart 32/100, f = -5.674425163215153\n",
            "Optimization restart 33/100, f = -5.674425158407378\n",
            "Optimization restart 34/100, f = -5.674425158407435\n",
            "Optimization restart 35/100, f = -5.674425158403875\n",
            "Optimization restart 36/100, f = -5.674425205013496\n",
            "Optimization restart 37/100, f = -5.6744251584067325\n",
            "Optimization restart 38/100, f = -5.674425158407757\n",
            "Optimization restart 39/100, f = -8.730534164744533\n",
            "Optimization restart 40/100, f = -5.6744251584076455\n",
            "Optimization restart 41/100, f = -5.674425158407393\n",
            "Optimization restart 42/100, f = -5.674425158407741\n",
            "Optimization restart 43/100, f = -8.730534164753127\n",
            "Optimization restart 44/100, f = -5.6744251584077485\n",
            "Optimization restart 45/100, f = -5.674425158407698\n",
            "Optimization restart 46/100, f = -5.674425158407747\n",
            "Optimization restart 47/100, f = -5.674425158407755\n",
            "Optimization restart 48/100, f = -5.674425158407758\n",
            "Optimization restart 49/100, f = -8.730534164652992\n",
            "Optimization restart 50/100, f = -5.674425158404936\n",
            "Optimization restart 51/100, f = -5.674425158407753\n",
            "Optimization restart 52/100, f = -5.6744251584077485\n",
            "Optimization restart 53/100, f = -5.67442515840776\n",
            "Optimization restart 54/100, f = -5.674425158407743\n",
            "Optimization restart 55/100, f = -5.674425158407699\n",
            "Optimization restart 56/100, f = -5.674425158398984\n",
            "Optimization restart 57/100, f = -5.674425158455871\n",
            "Optimization restart 58/100, f = -5.67442515840773\n",
            "Optimization restart 59/100, f = -5.674425158407749\n",
            "Optimization restart 60/100, f = -5.674425158407752\n",
            "Optimization restart 61/100, f = -5.6744373021969405\n",
            "Optimization restart 62/100, f = -5.6744251601668605\n",
            "Optimization restart 63/100, f = -5.674425158407681\n",
            "Optimization restart 64/100, f = -5.674425158407714\n",
            "Optimization restart 65/100, f = -5.674426947394764\n",
            "Optimization restart 66/100, f = -5.674425158407736\n",
            "Optimization restart 67/100, f = -5.674432702155385\n",
            "Optimization restart 68/100, f = -5.6744251584072884\n",
            "Optimization restart 69/100, f = -5.674425158406384\n",
            "Optimization restart 70/100, f = -5.674425158407717\n",
            "Optimization restart 71/100, f = -5.674425174095231\n",
            "Optimization restart 72/100, f = -5.67442515840774\n",
            "Optimization restart 73/100, f = -5.674425158407742\n",
            "Optimization restart 74/100, f = -5.674425158407749\n",
            "Optimization restart 75/100, f = -5.674425158407742\n",
            "Optimization restart 76/100, f = -5.674440475405496\n",
            "Optimization restart 77/100, f = -5.674425158406341\n",
            "Optimization restart 78/100, f = -5.674425158406137\n",
            "Optimization restart 79/100, f = -5.674425158407754\n",
            "Optimization restart 80/100, f = -5.674425158407777\n",
            "Optimization restart 81/100, f = -5.674425158400836\n",
            "Optimization restart 82/100, f = -5.674425158407644\n",
            "Optimization restart 83/100, f = -5.674427456397333\n",
            "Optimization restart 84/100, f = -5.674425158407756\n",
            "Optimization restart 85/100, f = -5.674425158402073\n",
            "Optimization restart 86/100, f = -5.674425158407645\n",
            "Optimization restart 87/100, f = -5.6744251584077565\n",
            "Optimization restart 88/100, f = -5.674425158406002\n",
            "Optimization restart 89/100, f = -5.674425158400912\n",
            "Optimization restart 90/100, f = -5.674425158407733\n",
            "Optimization restart 91/100, f = -5.674425158405187\n",
            "Optimization restart 92/100, f = -5.67442515840774\n",
            "Optimization restart 93/100, f = -5.674425158404553\n",
            "Optimization restart 94/100, f = -5.674425158405975\n",
            "Optimization restart 95/100, f = -8.730534164752388\n",
            "Optimization restart 96/100, f = -5.6744251584077565\n",
            "Optimization restart 97/100, f = -8.73053416475295\n",
            "Optimization restart 98/100, f = -5.674425158407662\n",
            "Optimization restart 99/100, f = -5.674425158407252\n",
            "Optimization restart 100/100, f = -5.6744251584077485\n"
          ]
        },
        {
          "output_type": "execute_result",
          "data": {
            "text/plain": [
              "[<paramz.optimization.optimization.opt_lbfgsb at 0x7f7a7d9c3730>,\n",
              " <paramz.optimization.optimization.opt_lbfgsb at 0x7f7a7d9c3a60>,\n",
              " <paramz.optimization.optimization.opt_lbfgsb at 0x7f7a7d9d48b0>,\n",
              " <paramz.optimization.optimization.opt_lbfgsb at 0x7f7a7d9d4670>,\n",
              " <paramz.optimization.optimization.opt_lbfgsb at 0x7f7a7d9d4e80>,\n",
              " <paramz.optimization.optimization.opt_lbfgsb at 0x7f7a7dbd6430>,\n",
              " <paramz.optimization.optimization.opt_lbfgsb at 0x7f7a7d9d40a0>,\n",
              " <paramz.optimization.optimization.opt_lbfgsb at 0x7f7a7d9d46d0>,\n",
              " <paramz.optimization.optimization.opt_lbfgsb at 0x7f7a7dbae280>,\n",
              " <paramz.optimization.optimization.opt_lbfgsb at 0x7f7aad114c10>,\n",
              " <paramz.optimization.optimization.opt_lbfgsb at 0x7f7aad1141f0>,\n",
              " <paramz.optimization.optimization.opt_lbfgsb at 0x7f7a7d9d4940>,\n",
              " <paramz.optimization.optimization.opt_lbfgsb at 0x7f7a7dbaee80>,\n",
              " <paramz.optimization.optimization.opt_lbfgsb at 0x7f7a7d9d4880>,\n",
              " <paramz.optimization.optimization.opt_lbfgsb at 0x7f7a7d9d4640>,\n",
              " <paramz.optimization.optimization.opt_lbfgsb at 0x7f7a7dbae3a0>,\n",
              " <paramz.optimization.optimization.opt_lbfgsb at 0x7f7a7d9bfb20>,\n",
              " <paramz.optimization.optimization.opt_lbfgsb at 0x7f7a7d9d4b80>,\n",
              " <paramz.optimization.optimization.opt_lbfgsb at 0x7f7a7d9bf340>,\n",
              " <paramz.optimization.optimization.opt_lbfgsb at 0x7f7a7d9c5d60>,\n",
              " <paramz.optimization.optimization.opt_lbfgsb at 0x7f7a7d9c5c10>,\n",
              " <paramz.optimization.optimization.opt_lbfgsb at 0x7f7a7dbcb400>,\n",
              " <paramz.optimization.optimization.opt_lbfgsb at 0x7f7a7d9c5fd0>,\n",
              " <paramz.optimization.optimization.opt_lbfgsb at 0x7f7a7d9c5cd0>,\n",
              " <paramz.optimization.optimization.opt_lbfgsb at 0x7f7aad13a760>,\n",
              " <paramz.optimization.optimization.opt_lbfgsb at 0x7f7a7dbae640>,\n",
              " <paramz.optimization.optimization.opt_lbfgsb at 0x7f7aad1148e0>,\n",
              " <paramz.optimization.optimization.opt_lbfgsb at 0x7f7a7d9bc1f0>,\n",
              " <paramz.optimization.optimization.opt_lbfgsb at 0x7f7a7d9c5100>,\n",
              " <paramz.optimization.optimization.opt_lbfgsb at 0x7f7a7da18a00>,\n",
              " <paramz.optimization.optimization.opt_lbfgsb at 0x7f7a7d9bc790>,\n",
              " <paramz.optimization.optimization.opt_lbfgsb at 0x7f7a7d9c5df0>,\n",
              " <paramz.optimization.optimization.opt_lbfgsb at 0x7f7a7d9de610>,\n",
              " <paramz.optimization.optimization.opt_lbfgsb at 0x7f7a7da18430>,\n",
              " <paramz.optimization.optimization.opt_lbfgsb at 0x7f7a7da18610>,\n",
              " <paramz.optimization.optimization.opt_lbfgsb at 0x7f7a7d9bc250>,\n",
              " <paramz.optimization.optimization.opt_lbfgsb at 0x7f7a7d9ded60>,\n",
              " <paramz.optimization.optimization.opt_lbfgsb at 0x7f7a7d9defa0>,\n",
              " <paramz.optimization.optimization.opt_lbfgsb at 0x7f7a7d9dee20>,\n",
              " <paramz.optimization.optimization.opt_lbfgsb at 0x7f7a7d9ded30>,\n",
              " <paramz.optimization.optimization.opt_lbfgsb at 0x7f7a7d9de790>,\n",
              " <paramz.optimization.optimization.opt_lbfgsb at 0x7f7a7d9dea00>,\n",
              " <paramz.optimization.optimization.opt_lbfgsb at 0x7f7a7d9de580>,\n",
              " <paramz.optimization.optimization.opt_lbfgsb at 0x7f7a7d9de490>,\n",
              " <paramz.optimization.optimization.opt_lbfgsb at 0x7f7a7d9de0d0>,\n",
              " <paramz.optimization.optimization.opt_lbfgsb at 0x7f7a7d9de520>,\n",
              " <paramz.optimization.optimization.opt_lbfgsb at 0x7f7aad129d60>,\n",
              " <paramz.optimization.optimization.opt_lbfgsb at 0x7f7a7d9bcd60>,\n",
              " <paramz.optimization.optimization.opt_lbfgsb at 0x7f7a7d9deca0>,\n",
              " <paramz.optimization.optimization.opt_lbfgsb at 0x7f7a7fc49070>,\n",
              " <paramz.optimization.optimization.opt_lbfgsb at 0x7f7a7fc490d0>,\n",
              " <paramz.optimization.optimization.opt_lbfgsb at 0x7f7a7d9de340>,\n",
              " <paramz.optimization.optimization.opt_lbfgsb at 0x7f7a7fc49d60>,\n",
              " <paramz.optimization.optimization.opt_lbfgsb at 0x7f7aad13a2e0>,\n",
              " <paramz.optimization.optimization.opt_lbfgsb at 0x7f7a7d9bfee0>,\n",
              " <paramz.optimization.optimization.opt_lbfgsb at 0x7f7a7da18f70>,\n",
              " <paramz.optimization.optimization.opt_lbfgsb at 0x7f7a7d9bcd90>,\n",
              " <paramz.optimization.optimization.opt_lbfgsb at 0x7f7a7d9c5a60>,\n",
              " <paramz.optimization.optimization.opt_lbfgsb at 0x7f7a7fc49c10>,\n",
              " <paramz.optimization.optimization.opt_lbfgsb at 0x7f7a7da18e20>,\n",
              " <paramz.optimization.optimization.opt_lbfgsb at 0x7f7a7d9c5490>,\n",
              " <paramz.optimization.optimization.opt_lbfgsb at 0x7f7aad114940>,\n",
              " <paramz.optimization.optimization.opt_lbfgsb at 0x7f7a7d9d47f0>,\n",
              " <paramz.optimization.optimization.opt_lbfgsb at 0x7f7a7d9d43d0>,\n",
              " <paramz.optimization.optimization.opt_lbfgsb at 0x7f7a7dbaebb0>,\n",
              " <paramz.optimization.optimization.opt_lbfgsb at 0x7f7a7fc49d30>,\n",
              " <paramz.optimization.optimization.opt_lbfgsb at 0x7f7aad114c70>,\n",
              " <paramz.optimization.optimization.opt_lbfgsb at 0x7f7a7fc49b50>,\n",
              " <paramz.optimization.optimization.opt_lbfgsb at 0x7f7a7fc49ca0>,\n",
              " <paramz.optimization.optimization.opt_lbfgsb at 0x7f7aad114b50>,\n",
              " <paramz.optimization.optimization.opt_lbfgsb at 0x7f7a7d9de310>,\n",
              " <paramz.optimization.optimization.opt_lbfgsb at 0x7f7aad114af0>,\n",
              " <paramz.optimization.optimization.opt_lbfgsb at 0x7f7a7d9de3a0>,\n",
              " <paramz.optimization.optimization.opt_lbfgsb at 0x7f7a7d9decd0>,\n",
              " <paramz.optimization.optimization.opt_lbfgsb at 0x7f7a7d9ded90>,\n",
              " <paramz.optimization.optimization.opt_lbfgsb at 0x7f7aad114fa0>,\n",
              " <paramz.optimization.optimization.opt_lbfgsb at 0x7f7aad13a040>,\n",
              " <paramz.optimization.optimization.opt_lbfgsb at 0x7f7a7d9dec70>,\n",
              " <paramz.optimization.optimization.opt_lbfgsb at 0x7f7a7d9de550>,\n",
              " <paramz.optimization.optimization.opt_lbfgsb at 0x7f7a7d9d4580>,\n",
              " <paramz.optimization.optimization.opt_lbfgsb at 0x7f7a7d9d4a30>,\n",
              " <paramz.optimization.optimization.opt_lbfgsb at 0x7f7a7dbae700>,\n",
              " <paramz.optimization.optimization.opt_lbfgsb at 0x7f7a7d9de730>,\n",
              " <paramz.optimization.optimization.opt_lbfgsb at 0x7f7a7dbaeaf0>,\n",
              " <paramz.optimization.optimization.opt_lbfgsb at 0x7f7a7d9bc880>,\n",
              " <paramz.optimization.optimization.opt_lbfgsb at 0x7f7a7d9d41c0>,\n",
              " <paramz.optimization.optimization.opt_lbfgsb at 0x7f7a7d9de190>,\n",
              " <paramz.optimization.optimization.opt_lbfgsb at 0x7f7a7d9bcbe0>,\n",
              " <paramz.optimization.optimization.opt_lbfgsb at 0x7f7a7d9bcac0>,\n",
              " <paramz.optimization.optimization.opt_lbfgsb at 0x7f7a7d9bceb0>,\n",
              " <paramz.optimization.optimization.opt_lbfgsb at 0x7f7a7d9c35e0>,\n",
              " <paramz.optimization.optimization.opt_lbfgsb at 0x7f7a7d9d4bb0>,\n",
              " <paramz.optimization.optimization.opt_lbfgsb at 0x7f7a7d9c5e50>,\n",
              " <paramz.optimization.optimization.opt_lbfgsb at 0x7f7a7d9c5520>,\n",
              " <paramz.optimization.optimization.opt_lbfgsb at 0x7f7a7d9c59d0>,\n",
              " <paramz.optimization.optimization.opt_lbfgsb at 0x7f7a7da189a0>,\n",
              " <paramz.optimization.optimization.opt_lbfgsb at 0x7f7a7da183d0>,\n",
              " <paramz.optimization.optimization.opt_lbfgsb at 0x7f7a7da182b0>,\n",
              " <paramz.optimization.optimization.opt_lbfgsb at 0x7f7a7dbd9790>,\n",
              " <paramz.optimization.optimization.opt_lbfgsb at 0x7f7a7da18be0>]"
            ]
          },
          "metadata": {},
          "execution_count": 22
        }
      ],
      "source": [
        "high_gp_model = GPy.models.GPRegression(x_train_DNS, y_train_DNS, kernel)\n",
        "high_gp_model.Gaussian_noise.fix(0)\n",
        "\n",
        "## Fit the GP model\n",
        "\n",
        "high_gp_model.optimize_restarts(100)"
      ]
    },
    {
      "cell_type": "code",
      "execution_count": 23,
      "id": "43ccdd52",
      "metadata": {
        "id": "43ccdd52"
      },
      "outputs": [],
      "source": [
        "hf_mean_high_gp_model, hf_var_high_gp_model  = high_gp_model.predict(x_plot)\n"
      ]
    },
    {
      "cell_type": "code",
      "execution_count": 24,
      "id": "dc8490e4",
      "metadata": {
        "colab": {
          "base_uri": "https://localhost:8080/"
        },
        "id": "dc8490e4",
        "outputId": "baf00001-6f6c-4fb7-8cdf-7ab1dc20989a"
      },
      "outputs": [
        {
          "output_type": "stream",
          "name": "stdout",
          "text": [
            "[[0.22547984]\n",
            " [0.12664014]\n",
            " [0.13760001]\n",
            " [0.07388104]\n",
            " [0.10549978]\n",
            " [0.05682597]]\n",
            "[[0.22550589]\n",
            " [0.1282986 ]\n",
            " [0.14017513]\n",
            " [0.0738829 ]\n",
            " [0.10515578]\n",
            " [0.05779608]]\n"
          ]
        }
      ],
      "source": [
        "print(hf_mean_high_gp_model)\n",
        "print(hf_mean_lin_mf_model)"
      ]
    },
    {
      "cell_type": "code",
      "execution_count": 25,
      "id": "77fd6ae5",
      "metadata": {
        "colab": {
          "base_uri": "https://localhost:8080/",
          "height": 714
        },
        "id": "77fd6ae5",
        "outputId": "c2543a80-5cd0-4441-b6f3-86e12677056a"
      },
      "outputs": [
        {
          "output_type": "display_data",
          "data": {
            "text/plain": [
              "<Figure size 864x864 with 1 Axes>"
            ],
            "image/png": "[encoded data removed]"
          },
          "metadata": {
            "needs_background": "light"
          }
        }
      ],
      "source": [
        "plt.figure(figsize=(12, 12))\n",
        "plt.scatter(hf_mean_lin_mf_model, hf_mean_high_gp_model, c='black')\n",
        "min_max = [hf_mean_high_gp_model.min(),hf_mean_high_gp_model.max()]\n",
        "plt.plot(min_max, min_max, color='r')\n",
        "plt.ylabel('Truth')\n",
        "plt.xlabel('Prediction');"
      ]
    },
    {
      "cell_type": "code",
      "execution_count": 26,
      "id": "a8e61a10",
      "metadata": {
        "colab": {
          "base_uri": "https://localhost:8080/",
          "height": 458
        },
        "id": "a8e61a10",
        "outputId": "c503be4c-9566-43fb-dc7e-29d99cf2ace4"
      },
      "outputs": [
        {
          "output_type": "stream",
          "name": "stderr",
          "text": [
            " /usr/local/lib/python3.8/dist-packages/seaborn/distributions.py:1718: UserWarning:`shade_lowest` is now deprecated in favor of `thresh`. Setting `thresh=0.05`, but please update your code.\n"
          ]
        },
        {
          "output_type": "display_data",
          "data": {
            "text/plain": [
              "<Figure size 432x432 with 4 Axes>"
            ],
            "image/png": "[encoded data removed]"
          },
          "metadata": {
            "needs_background": "light"
          }
        }
      ],
      "source": [
        "import pandas as pd\n",
        "import seaborn as sns\n",
        "df=pd.DataFrame({'20RANS6DNS': hf_mean_high_gp_model.flatten(),'Reference':hf_mean_lin_mf_model.flatten()})\n",
        "rel=sns.jointplot(x=\"20RANS6DNS\", y=\"Reference\", kind = \"kde\",data = df, fill=True, n_levels = 6, shade = True, cbar = True, shade_lowest = False)\n",
        "#rel.fig.suptitle(\"k=0.96\")\n",
        "\n",
        "plt.show()\n"
      ]
    },
    {
      "cell_type": "code",
      "execution_count": 26,
      "id": "aa45a305",
      "metadata": {
        "id": "aa45a305"
      },
      "outputs": [],
      "source": []
    },
    {
      "cell_type": "code",
      "execution_count": 26,
      "id": "3be2dc52",
      "metadata": {
        "id": "3be2dc52"
      },
      "outputs": [],
      "source": []
    }
  ],
  "metadata": {
    "kernelspec": {
      "display_name": "Python 3 (ipykernel)",
      "language": "python",
      "name": "python3"
    },
    "language_info": {
      "codemirror_mode": {
        "name": "ipython",
        "version": 3
      },
      "file_extension": ".py",
      "mimetype": "text/x-python",
      "name": "python",
      "nbconvert_exporter": "python",
      "pygments_lexer": "ipython3",
      "version": "3.9.2"
    },
    "colab": {
      "provenance": []
    }
  },
  "nbformat": 4,
  "nbformat_minor": 5
}
