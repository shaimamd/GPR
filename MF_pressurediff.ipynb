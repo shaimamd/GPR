{
  "cells": [
    {
      "cell_type": "code",
      "execution_count": 1,
      "id": "f100648f",
      "metadata": {
        "id": "f100648f"
      },
      "outputs": [],
      "source": []
    },
    {
      "cell_type": "code",
      "source": [
        "pip install GPy"
      ],
      "metadata": {
        "colab": {
          "base_uri": "https://localhost:8080/"
        },
        "id": "bgob3LqTl3Qg",
        "outputId": "4cbb46fa-2f71-4f58-e467-6659e36b8bb8"
      },
      "id": "bgob3LqTl3Qg",
      "execution_count": 2,
      "outputs": [
        {
          "output_type": "stream",
          "name": "stdout",
          "text": [
            "Looking in indexes: https://pypi.org/simple, https://us-python.pkg.dev/colab-wheels/public/simple/\n",
            "Collecting GPy\n",
            "  Downloading GPy-1.10.0.tar.gz (959 kB)\n",
            "\u001b[2K     \u001b[90m━━━━━━━━━━━━━━━━━━━━━━━━━━━━━━━━━━━━━━\u001b[0m \u001b[32m959.4/959.4 KB\u001b[0m \u001b[31m20.1 MB/s\u001b[0m eta \u001b[36m0:00:00\u001b[0m\n",
            "\u001b[?25h  Preparing metadata (setup.py) ... \u001b[?25l\u001b[?25hdone\n",
            "Requirement already satisfied: numpy>=1.7 in /usr/local/lib/python3.8/dist-packages (from GPy) (1.21.6)\n",
            "Requirement already satisfied: six in /usr/local/lib/python3.8/dist-packages (from GPy) (1.15.0)\n",
            "Collecting paramz>=0.9.0\n",
            "  Downloading paramz-0.9.5.tar.gz (71 kB)\n",
            "\u001b[2K     \u001b[90m━━━━━━━━━━━━━━━━━━━━━━━━━━━━━━━━━━━━━━━━\u001b[0m \u001b[32m71.3/71.3 KB\u001b[0m \u001b[31m9.0 MB/s\u001b[0m eta \u001b[36m0:00:00\u001b[0m\n",
            "\u001b[?25h  Preparing metadata (setup.py) ... \u001b[?25l\u001b[?25hdone\n",
            "Requirement already satisfied: cython>=0.29 in /usr/local/lib/python3.8/dist-packages (from GPy) (0.29.33)\n",
            "Requirement already satisfied: scipy>=1.3.0 in /usr/local/lib/python3.8/dist-packages (from GPy) (1.7.3)\n",
            "Requirement already satisfied: decorator>=4.0.10 in /usr/local/lib/python3.8/dist-packages (from paramz>=0.9.0->GPy) (4.4.2)\n",
            "Building wheels for collected packages: GPy, paramz\n",
            "  Building wheel for GPy (setup.py) ... \u001b[?25l\u001b[?25hdone\n",
            "  Created wheel for GPy: filename=GPy-1.10.0-cp38-cp38-linux_x86_64.whl size=3424736 sha256=067b05d7c01b085ba93ff9c91556c0d5c6c07e7eeb7fa2d7f4710a7797c56362\n",
            "  Stored in directory: /root/.cache/pip/wheels/48/b3/22/31f07cfd7b182ea3703151b7e5a7d6447e3e1ac6aa5c529413\n",
            "  Building wheel for paramz (setup.py) ... \u001b[?25l\u001b[?25hdone\n",
            "  Created wheel for paramz: filename=paramz-0.9.5-py3-none-any.whl size=102566 sha256=56b160586af0ce7d6ec935ee46757adc8798a5f1de93e7298e0c4e350b5c8d24\n",
            "  Stored in directory: /root/.cache/pip/wheels/66/78/6c/d98cb437834de5e29381786b4ba8a77ea68cca74653ab62713\n",
            "Successfully built GPy paramz\n",
            "Installing collected packages: paramz, GPy\n",
            "Successfully installed GPy-1.10.0 paramz-0.9.5\n"
          ]
        }
      ]
    },
    {
      "cell_type": "code",
      "execution_count": 3,
      "id": "dab3bb7d",
      "metadata": {
        "colab": {
          "base_uri": "https://localhost:8080/"
        },
        "id": "dab3bb7d",
        "outputId": "eb9f387a-5f63-4f24-c213-bf51bcc637a6"
      },
      "outputs": [
        {
          "output_type": "stream",
          "name": "stdout",
          "text": [
            "Looking in indexes: https://pypi.org/simple, https://us-python.pkg.dev/colab-wheels/public/simple/\n",
            "Collecting emukit\n",
            "  Downloading emukit-0.4.10.tar.gz (170 kB)\n",
            "\u001b[2K     \u001b[90m━━━━━━━━━━━━━━━━━━━━━━━━━━━━━━━━━━━━━━━\u001b[0m \u001b[32m170.5/170.5 KB\u001b[0m \u001b[31m7.6 MB/s\u001b[0m eta \u001b[36m0:00:00\u001b[0m\n",
            "\u001b[?25h  Installing build dependencies ... \u001b[?25l\u001b[?25hdone\n",
            "  Getting requirements to build wheel ... \u001b[?25l\u001b[?25hdone\n",
            "  Preparing metadata (pyproject.toml) ... \u001b[?25l\u001b[?25hdone\n",
            "Requirement already satisfied: setuptools>=40.8.0 in /usr/local/lib/python3.8/dist-packages (from emukit) (57.4.0)\n",
            "Collecting emcee>=2.2.1\n",
            "  Downloading emcee-3.1.4-py2.py3-none-any.whl (46 kB)\n",
            "\u001b[2K     \u001b[90m━━━━━━━━━━━━━━━━━━━━━━━━━━━━━━━━━━━━━━━━\u001b[0m \u001b[32m46.2/46.2 KB\u001b[0m \u001b[31m5.1 MB/s\u001b[0m eta \u001b[36m0:00:00\u001b[0m\n",
            "\u001b[?25hRequirement already satisfied: scipy>=1.1.0 in /usr/local/lib/python3.8/dist-packages (from emukit) (1.7.3)\n",
            "Requirement already satisfied: numpy>=1.14.5 in /usr/local/lib/python3.8/dist-packages (from emukit) (1.21.6)\n",
            "Requirement already satisfied: GPy[plotting]>=1.10.0 in /usr/local/lib/python3.8/dist-packages (from emukit) (1.10.0)\n",
            "Requirement already satisfied: paramz>=0.9.0 in /usr/local/lib/python3.8/dist-packages (from GPy[plotting]>=1.10.0->emukit) (0.9.5)\n",
            "Requirement already satisfied: cython>=0.29 in /usr/local/lib/python3.8/dist-packages (from GPy[plotting]>=1.10.0->emukit) (0.29.33)\n",
            "Requirement already satisfied: six in /usr/local/lib/python3.8/dist-packages (from GPy[plotting]>=1.10.0->emukit) (1.15.0)\n",
            "Requirement already satisfied: plotly>=1.8.6 in /usr/local/lib/python3.8/dist-packages (from GPy[plotting]>=1.10.0->emukit) (5.5.0)\n",
            "Requirement already satisfied: matplotlib>=3.0 in /usr/local/lib/python3.8/dist-packages (from GPy[plotting]>=1.10.0->emukit) (3.2.2)\n",
            "Requirement already satisfied: cycler>=0.10 in /usr/local/lib/python3.8/dist-packages (from matplotlib>=3.0->GPy[plotting]>=1.10.0->emukit) (0.11.0)\n",
            "Requirement already satisfied: kiwisolver>=1.0.1 in /usr/local/lib/python3.8/dist-packages (from matplotlib>=3.0->GPy[plotting]>=1.10.0->emukit) (1.4.4)\n",
            "Requirement already satisfied: pyparsing!=2.0.4,!=2.1.2,!=2.1.6,>=2.0.1 in /usr/local/lib/python3.8/dist-packages (from matplotlib>=3.0->GPy[plotting]>=1.10.0->emukit) (3.0.9)\n",
            "Requirement already satisfied: python-dateutil>=2.1 in /usr/local/lib/python3.8/dist-packages (from matplotlib>=3.0->GPy[plotting]>=1.10.0->emukit) (2.8.2)\n",
            "Requirement already satisfied: decorator>=4.0.10 in /usr/local/lib/python3.8/dist-packages (from paramz>=0.9.0->GPy[plotting]>=1.10.0->emukit) (4.4.2)\n",
            "Requirement already satisfied: tenacity>=6.2.0 in /usr/local/lib/python3.8/dist-packages (from plotly>=1.8.6->GPy[plotting]>=1.10.0->emukit) (8.2.1)\n",
            "Building wheels for collected packages: emukit\n",
            "  Building wheel for emukit (pyproject.toml) ... \u001b[?25l\u001b[?25hdone\n",
            "  Created wheel for emukit: filename=emukit-0.4.10-py3-none-any.whl size=257070 sha256=2ee4371dfe452dc1a3c3a18f42ec312871cd043fec83fc04fcff168183c2dacf\n",
            "  Stored in directory: /root/.cache/pip/wheels/9f/22/2f/daff2d230945e49b66d5bd44aa0860ee545d60f84823446cc1\n",
            "Successfully built emukit\n",
            "Installing collected packages: emcee, emukit\n",
            "Successfully installed emcee-3.1.4 emukit-0.4.10\n"
          ]
        }
      ],
      "source": [
        "pip install emukit\n"
      ]
    },
    {
      "cell_type": "code",
      "execution_count": 4,
      "id": "4a232731",
      "metadata": {
        "id": "4a232731"
      },
      "outputs": [],
      "source": [
        "import GPy\n",
        "import emukit.multi_fidelity\n",
        "import emukit.test_functions\n",
        "from emukit.model_wrappers.gpy_model_wrappers import GPyMultiOutputWrapper\n",
        "from emukit.multi_fidelity.models import GPyLinearMultiFidelityModel\n",
        "import numpy as np\n",
        "import matplotlib.pyplot as plt\n",
        "from matplotlib import colors as mcolors\n",
        "colors = dict(mcolors.BASE_COLORS, **mcolors.CSS4_COLORS)\n",
        "%matplotlib inline\n",
        "\n",
        "## Generate samples from the Forrester function\n",
        "\n",
        "\n",
        "\n",
        "x_train_l =  np.array([[70,100],[70,80],[70,50],[70,30],[70,0],[60,100],[60,80],[60,50],[60,30],[60,0],[50,100],[50,80],[50,50],[50,30],[50,0],[40,100],[40,80],[40,50],[40,30],[40,0]])\n",
        "x_train_h = np.array([[70,100],[70,0],[40,0],[40,100],[50,50],[60,80]])\n",
        "\n",
        "y_train_l =  np.array([4.5608,\n",
        "4.284,\n",
        "3.9654,\n",
        "3.7805,\n",
        "3.5478,\n",
        "2.5223,\n",
        "2.333,\n",
        "2.1315,\n",
        "2.0013,\n",
        "1.8682,\n",
        "1.4417,\n",
        "1.3231,\n",
        "1.1671,\n",
        "1.0813,\n",
        "0.99393,\n",
        "0.82499,\n",
        "0.75554,\n",
        "0.63434,\n",
        "0.57971,\n",
        "0.49856])\n",
        "y_train_h = np.array([ 4.5608,3.5478,0.49856,0.82499,1.1671,2.333])"
      ]
    },
    {
      "cell_type": "code",
      "execution_count": 5,
      "id": "283df994",
      "metadata": {
        "id": "283df994"
      },
      "outputs": [],
      "source": [
        "x_train_l=np.c_[ x_train_l, np.zeros(len(x_train_l)) ]   "
      ]
    },
    {
      "cell_type": "code",
      "execution_count": 6,
      "id": "34b36efc",
      "metadata": {
        "id": "34b36efc"
      },
      "outputs": [],
      "source": [
        "x_train_h=np.c_[ x_train_h, np.ones(len(x_train_h)) ]   "
      ]
    },
    {
      "cell_type": "code",
      "execution_count": 7,
      "id": "fce65d63",
      "metadata": {
        "colab": {
          "base_uri": "https://localhost:8080/"
        },
        "id": "fce65d63",
        "outputId": "34521b01-95b0-4e4e-adf2-2e303938d986"
      },
      "outputs": [
        {
          "output_type": "stream",
          "name": "stdout",
          "text": [
            "[[ 70. 100.   0.]\n",
            " [ 70.  80.   0.]\n",
            " [ 70.  50.   0.]\n",
            " [ 70.  30.   0.]\n",
            " [ 70.   0.   0.]\n",
            " [ 60. 100.   0.]\n",
            " [ 60.  80.   0.]\n",
            " [ 60.  50.   0.]\n",
            " [ 60.  30.   0.]\n",
            " [ 60.   0.   0.]\n",
            " [ 50. 100.   0.]\n",
            " [ 50.  80.   0.]\n",
            " [ 50.  50.   0.]\n",
            " [ 50.  30.   0.]\n",
            " [ 50.   0.   0.]\n",
            " [ 40. 100.   0.]\n",
            " [ 40.  80.   0.]\n",
            " [ 40.  50.   0.]\n",
            " [ 40.  30.   0.]\n",
            " [ 40.   0.   0.]\n",
            " [ 70. 100.   1.]\n",
            " [ 70.   0.   1.]\n",
            " [ 40.   0.   1.]\n",
            " [ 40. 100.   1.]\n",
            " [ 50.  50.   1.]\n",
            " [ 60.  80.   1.]]\n",
            "[4.5608  4.284   3.9654  3.7805  3.5478  2.5223  2.333   2.1315  2.0013\n",
            " 1.8682  1.4417  1.3231  1.1671  1.0813  0.99393 0.82499 0.75554 0.63434\n",
            " 0.57971 0.49856 4.5608  3.5478  0.49856 0.82499 1.1671  2.333  ]\n"
          ]
        }
      ],
      "source": [
        "\n",
        "X_train=np.append(x_train_l,x_train_h,axis=0)\n",
        "Y_train=np.append(y_train_l,y_train_h,axis=0)\n",
        "print(X_train)\n",
        "print(Y_train)"
      ]
    },
    {
      "cell_type": "code",
      "execution_count": 8,
      "id": "a55545a5",
      "metadata": {
        "colab": {
          "base_uri": "https://localhost:8080/"
        },
        "id": "a55545a5",
        "outputId": "59c59094-d06b-492c-9e1b-4dc0b60dbc99"
      },
      "outputs": [
        {
          "output_type": "stream",
          "name": "stdout",
          "text": [
            "3\n",
            "[[4.5608 ]\n",
            " [4.284  ]\n",
            " [3.9654 ]\n",
            " [3.7805 ]\n",
            " [3.5478 ]\n",
            " [2.5223 ]\n",
            " [2.333  ]\n",
            " [2.1315 ]\n",
            " [2.0013 ]\n",
            " [1.8682 ]\n",
            " [1.4417 ]\n",
            " [1.3231 ]\n",
            " [1.1671 ]\n",
            " [1.0813 ]\n",
            " [0.99393]\n",
            " [0.82499]\n",
            " [0.75554]\n",
            " [0.63434]\n",
            " [0.57971]\n",
            " [0.49856]\n",
            " [4.5608 ]\n",
            " [3.5478 ]\n",
            " [0.49856]\n",
            " [0.82499]\n",
            " [1.1671 ]\n",
            " [2.333  ]]\n"
          ]
        }
      ],
      "source": [
        "print(X_train.shape[1])\n",
        "Y_train=np.reshape(Y_train,(len(X_train),1))\n",
        "print(Y_train)"
      ]
    },
    {
      "cell_type": "code",
      "execution_count": 9,
      "id": "926d9628",
      "metadata": {
        "colab": {
          "base_uri": "https://localhost:8080/"
        },
        "id": "926d9628",
        "outputId": "1e3ad8a4-3075-44c6-e6ec-805c95a4a087"
      },
      "outputs": [
        {
          "output_type": "stream",
          "name": "stderr",
          "text": [
            " /usr/local/lib/python3.8/dist-packages/paramz/transformations.py:111: RuntimeWarning:divide by zero encountered in log\n"
          ]
        },
        {
          "output_type": "stream",
          "name": "stdout",
          "text": [
            "Optimization restart 1/200, f = -1.7812516831429335\n",
            "Optimization restart 2/200, f = -1.781922380554974\n",
            "Optimization restart 3/200, f = -1.781922107630729\n",
            "Optimization restart 4/200, f = 6.807911999936601\n",
            "Optimization restart 5/200, f = 2.865619467149962\n",
            "Optimization restart 6/200, f = -1.781922380508485\n",
            "Optimization restart 7/200, f = 8.294531707613604\n",
            "Optimization restart 8/200, f = -1.7819226464547224\n",
            "Optimization restart 9/200, f = -1.7819219807528093\n",
            "Optimization restart 10/200, f = -1.7813118019095153\n",
            "Optimization restart 11/200, f = -1.781920381955434\n",
            "Optimization restart 12/200, f = -1.7819225136821366\n",
            "Optimization restart 13/200, f = -1.78192251376265\n",
            "Optimization restart 14/200, f = -1.781922510702742\n",
            "Optimization restart 15/200, f = -1.781922646909317\n",
            "Optimization restart 16/200, f = -1.78192596604549\n",
            "Optimization restart 17/200, f = -1.7819223806224151\n",
            "Optimization restart 18/200, f = -1.781922247270714\n",
            "Optimization restart 19/200, f = -1.7819224957956976\n",
            "Optimization restart 20/200, f = 9.434323333212475\n",
            "Optimization restart 21/200, f = -1.78192224727459\n",
            "Optimization restart 22/200, f = -1.5710990931385211\n",
            "Optimization restart 23/200, f = -1.7819225136484675\n",
            "Optimization restart 24/200, f = -1.7819225136073449\n",
            "Optimization restart 25/200, f = -1.7819223770737604\n",
            "Optimization restart 26/200, f = 8.61333239103184\n",
            "Optimization restart 27/200, f = -1.7819223804963364\n",
            "Optimization restart 28/200, f = 6.0565609757273755\n",
            "Optimization restart 29/200, f = 9.832861840055072\n",
            "Optimization restart 30/200, f = -1.7819214487178865\n",
            "Optimization restart 31/200, f = 5.6602312088053175\n",
            "Optimization restart 32/200, f = 8.542055228443086\n",
            "Optimization restart 33/200, f = -1.7819178507907125\n",
            "Optimization restart 34/200, f = 4.55473044179889\n",
            "Optimization restart 35/200, f = 7.104171127478821\n",
            "Optimization restart 36/200, f = -1.7819225102624845\n",
            "Optimization restart 37/200, f = -1.7819225130104392\n",
            "Optimization restart 38/200, f = -1.7819225133515246\n",
            "Optimization restart 39/200, f = -35.64471793598741\n",
            "Optimization restart 40/200, f = -1.7819225137292083\n",
            "Optimization restart 41/200, f = 5.5372319488253225\n",
            "Optimization restart 42/200, f = -1.7819224909263536\n",
            "Optimization restart 43/200, f = -1.7819223802115545\n",
            "Optimization restart 44/200, f = -1.7819219808276952\n",
            "Optimization restart 45/200, f = -1.7819225137399268\n",
            "Optimization restart 46/200, f = -1.7819225137242949\n",
            "Optimization restart 47/200, f = 7.095187713756556\n",
            "Optimization restart 48/200, f = -1.7819225142436537\n",
            "Optimization restart 49/200, f = 9.990034173560014\n",
            "Optimization restart 50/200, f = -1.7819226469513225\n",
            "Optimization restart 51/200, f = -1.7819222484535633\n",
            "Optimization restart 52/200, f = -1.78192224690574\n",
            "Optimization restart 53/200, f = -1.781921980817204\n",
            "Optimization restart 54/200, f = -1.781926751327859\n",
            "Optimization restart 55/200, f = -1.781922380586888\n",
            "Optimization restart 56/200, f = 7.560704971017902\n",
            "Optimization restart 57/200, f = -1.7819221140625565\n",
            "Optimization restart 58/200, f = -1.7819223793714567\n",
            "Optimization restart 59/200, f = 8.760415441238859\n",
            "Optimization restart 60/200, f = 9.797741384891829\n",
            "Optimization restart 61/200, f = -1.7819225137764043\n",
            "Optimization restart 62/200, f = -1.7819225137236323\n",
            "Optimization restart 63/200, f = -1.7819221140251944\n",
            "Optimization restart 64/200, f = -1.6541775554237201\n",
            "Optimization restart 65/200, f = -1.7819226469509637\n",
            "Optimization restart 66/200, f = -1.7819223785738778\n",
            "Optimization restart 67/200, f = -1.7819222472652125\n",
            "Optimization restart 68/200, f = -1.781922646951049\n",
            "Optimization restart 69/200, f = 7.097756297675897\n",
            "Optimization restart 70/200, f = -1.7819225141510238\n",
            "Optimization restart 71/200, f = -1.7819222472707068\n",
            "Optimization restart 72/200, f = -1.7819226469844232\n",
            "Optimization restart 73/200, f = -1.7819226454739798\n",
            "Optimization restart 74/200, f = -1.7819225137242523\n",
            "Optimization restart 75/200, f = -1.7819214477540797\n",
            "Optimization restart 76/200, f = -1.684242309720128\n",
            "Optimization restart 77/200, f = 8.194067658006825\n",
            "Optimization restart 78/200, f = -1.7819223814312242\n",
            "Optimization restart 79/200, f = -1.7819223804975834\n",
            "Optimization restart 80/200, f = -1.7819221140450097\n",
            "Optimization restart 81/200, f = -1.7819222467137497\n",
            "Optimization restart 82/200, f = -1.7819218461612643\n",
            "Optimization restart 83/200, f = -1.7819225133852417\n",
            "Optimization restart 84/200, f = -1.7819226482178543\n",
            "Optimization restart 85/200, f = -1.7819222472696161\n",
            "Optimization restart 86/200, f = 7.208998166217189\n",
            "Optimization restart 87/200, f = -1.781922373547573\n",
            "Optimization restart 88/200, f = 4.46589011869073\n",
            "Optimization restart 89/200, f = -1.7819223802213973\n",
            "Optimization restart 90/200, f = -1.7819222134812858\n",
            "Optimization restart 91/200, f = 8.205104453548124\n",
            "Optimization restart 92/200, f = -1.7819243039192099\n",
            "Optimization restart 93/200, f = -1.7819225137348127\n",
            "Optimization restart 94/200, f = 6.255622855980494\n",
            "Optimization restart 95/200, f = 8.785399115932588\n",
            "Optimization restart 96/200, f = -1.7819197159653655\n",
            "Optimization restart 97/200, f = -1.7819225475627185\n",
            "Optimization restart 98/200, f = -1.7819225155182163\n",
            "Optimization restart 99/200, f = -1.7819222472706873\n",
            "Optimization restart 100/200, f = -1.7819225137228631\n",
            "Optimization restart 101/200, f = -1.7819223805090285\n",
            "Optimization restart 102/200, f = -1.781922646933129\n",
            "Optimization restart 103/200, f = -1.781903995587859\n",
            "Optimization restart 104/200, f = -1.7819226481709443\n",
            "Optimization restart 105/200, f = -1.7819226469562963\n",
            "Optimization restart 106/200, f = 2.9073661625786187\n",
            "Optimization restart 107/200, f = 9.603782883310528\n",
            "Optimization restart 108/200, f = -1.7819225108490286\n",
            "Optimization restart 109/200, f = 8.291322417530424\n",
            "Optimization restart 110/200, f = -1.7819225142099775\n",
            "Optimization restart 111/200, f = -1.7819225133031829\n",
            "Optimization restart 112/200, f = -1.781922513794516\n",
            "Optimization restart 113/200, f = 6.393787981001415\n",
            "Optimization restart 114/200, f = -1.7819226469509477\n",
            "Optimization restart 115/200, f = -1.781921847443991\n",
            "Optimization restart 116/200, f = 8.868446087495798\n",
            "Optimization restart 117/200, f = -1.7819223804905207\n",
            "Optimization restart 118/200, f = -1.7819225137188237\n",
            "Optimization restart 119/200, f = -1.7819225137253571\n",
            "Optimization restart 120/200, f = -1.7819219808171258\n",
            "Optimization restart 121/200, f = -1.781915053095732\n",
            "Optimization restart 122/200, f = -1.7819226411483111\n",
            "Optimization restart 123/200, f = -1.7819226469380887\n",
            "Optimization restart 124/200, f = -1.7819225140865065\n",
            "Optimization restart 125/200, f = -1.7819225091064492\n",
            "Optimization restart 126/200, f = -1.7819223307206808\n",
            "Optimization restart 127/200, f = -1.7819226469572111\n",
            "Optimization restart 128/200, f = -1.6133133143248735\n",
            "Optimization restart 129/200, f = 1.043039940303224\n",
            "Optimization restart 130/200, f = -1.7819390914741486\n",
            "Optimization restart 131/200, f = -1.7819222486079145\n",
            "Optimization restart 132/200, f = -1.7819223804973632\n",
            "Optimization restart 133/200, f = -1.7819225105566812\n",
            "Optimization restart 134/200, f = -1.7819223616237672\n",
            "Optimization restart 135/200, f = -1.781923237367316\n",
            "Optimization restart 136/200, f = -1.7819223806011717\n",
            "Optimization restart 137/200, f = 7.6318429214672605\n",
            "Optimization restart 138/200, f = 10.14709990514783\n",
            "Optimization restart 139/200, f = -1.781922383294507\n",
            "Optimization restart 140/200, f = -1.781922377341532\n",
            "Optimization restart 141/200, f = -17.944388070193085\n",
            "Optimization restart 142/200, f = -1.7819225137154842\n",
            "Optimization restart 143/200, f = -1.7819225145920843\n",
            "Optimization restart 144/200, f = -1.7819223805279645\n",
            "Optimization restart 145/200, f = -1.7819371298130449\n",
            "Optimization restart 146/200, f = 7.955987192137757\n",
            "Optimization restart 147/200, f = -1.7819225096101707\n",
            "Optimization restart 148/200, f = -1.7819226457113366\n",
            "Optimization restart 149/200, f = -1.7819223825666963\n",
            "Optimization restart 150/200, f = -1.7819221140439474\n",
            "Optimization restart 151/200, f = 9.084313992005416\n",
            "Optimization restart 152/200, f = 3.756784863745551\n",
            "Optimization restart 153/200, f = -1.7819225137632273\n",
            "Optimization restart 154/200, f = -1.7819208860289617\n",
            "Optimization restart 155/200, f = -1.7819221140446384\n",
            "Optimization restart 156/200, f = -1.781922354428028\n",
            "Optimization restart 157/200, f = -1.7819225545470534\n",
            "Optimization restart 158/200, f = -1.7819222473136573\n",
            "Optimization restart 159/200, f = -1.7819226458852029\n",
            "Optimization restart 160/200, f = -1.781922247235455\n",
            "Optimization restart 161/200, f = -1.7819218475903593\n",
            "Optimization restart 162/200, f = -1.7819224928272064\n",
            "Optimization restart 163/200, f = -1.7819223804985462\n",
            "Optimization restart 164/200, f = 10.998674535586142\n",
            "Optimization restart 165/200, f = -1.7819226469507434\n",
            "Optimization restart 166/200, f = -1.781926277026603\n",
            "Optimization restart 167/200, f = -1.0217045408357182\n",
            "Optimization restart 168/200, f = 9.06819532977\n",
            "Optimization restart 169/200, f = -1.0765756665681607\n",
            "Optimization restart 170/200, f = -1.781916042251888\n",
            "Optimization restart 171/200, f = 7.7562665940822075\n",
            "Optimization restart 172/200, f = -1.7819225133389676\n",
            "Optimization restart 173/200, f = -1.7817904889138987\n",
            "Optimization restart 174/200, f = -1.7819225978063304\n",
            "Optimization restart 175/200, f = -1.7819223804774005\n",
            "Optimization restart 176/200, f = -1.7819218427767236\n",
            "Optimization restart 177/200, f = -1.781923932286082\n",
            "Optimization restart 178/200, f = -1.781922247176869\n",
            "Optimization restart 179/200, f = -1.781922242830536\n",
            "Optimization restart 180/200, f = -1.7819222472246707\n",
            "Optimization restart 181/200, f = 9.371422989043786\n",
            "Optimization restart 182/200, f = -1.7819222470276017\n",
            "Optimization restart 183/200, f = -1.7819223812342546\n",
            "Optimization restart 184/200, f = 8.686902678387101\n",
            "Optimization restart 185/200, f = -1.781922379938738\n",
            "Optimization restart 186/200, f = -1.781854268901352\n",
            "Optimization restart 187/200, f = -1.781921712673924\n",
            "Optimization restart 188/200, f = -1.7819223480670132\n",
            "Optimization restart 189/200, f = -1.7819223804974698\n",
            "Optimization restart 190/200, f = 4.725518278000602\n",
            "Optimization restart 191/200, f = -1.7819222472712593\n",
            "Optimization restart 192/200, f = -1.7819226475944383\n",
            "Optimization restart 193/200, f = -1.781922515687242\n",
            "Optimization restart 194/200, f = -1.781922247250236\n",
            "Optimization restart 195/200, f = 2.4572308097078874\n",
            "Optimization restart 196/200, f = 9.620951582651635\n",
            "Optimization restart 197/200, f = 0.30098021766849214\n",
            "Optimization restart 198/200, f = -1.7819222472708258\n",
            "Optimization restart 199/200, f = -1.7818262236578821\n",
            "Optimization restart 200/200, f = -1.4330645388973693\n"
          ]
        }
      ],
      "source": [
        "kernels = [GPy.kern.RBF(2),GPy.kern.RBF(2)]\n",
        "lin_mf_kernel = emukit.multi_fidelity.kernels.LinearMultiFidelityKernel(kernels)\n",
        "gpy_lin_mf_model = GPyLinearMultiFidelityModel(X_train, Y_train, lin_mf_kernel, n_fidelities=2)\n",
        "gpy_lin_mf_model.mixed_noise.Gaussian_noise.fix(0)\n",
        "gpy_lin_mf_model.mixed_noise.Gaussian_noise_1.fix(0)\n",
        "\n",
        "lin_mf_model =model=GPyMultiOutputWrapper(gpy_lin_mf_model, 4, n_optimization_restarts=200)\n",
        "\n",
        "## Fit the model\n",
        "  \n",
        "lin_mf_model.optimize()\n"
      ]
    },
    {
      "cell_type": "code",
      "execution_count": 10,
      "id": "d06a40a8",
      "metadata": {
        "colab": {
          "base_uri": "https://localhost:8080/"
        },
        "id": "d06a40a8",
        "outputId": "f9b2040b-ac22-45e4-c0b9-2a3167133f4e"
      },
      "outputs": [
        {
          "output_type": "stream",
          "name": "stdout",
          "text": [
            "[[ 70  50]\n",
            " [ 60   0]\n",
            " [ 60  30]\n",
            " [ 40 100]\n",
            " [ 50  80]\n",
            " [ 40  30]]\n"
          ]
        }
      ],
      "source": [
        "## Compute mean and variance predictions\n",
        "#testx = np.linspace(40,70, 100, endpoint=True)\n",
        "\n",
        "#testy= np.linspace(0,100, 100, endpoint=True)\n",
        "\n",
        "\n",
        "#x = [(a, b) for a in testx for b in testy] \n",
        "#x=np.array([x])\n",
        "#x_plot=np.reshape(x,[10000,2])\n",
        "x_plot=np.array([[70,50],[60,0],[60,30],[40,100],[50,80],[40,30]])\n",
        "X_plot_l=np.c_[ x_plot, np.zeros(len(x_plot)) ]   \n",
        "X_plot_h=np.c_[ x_plot, np.ones(len(x_plot)) ]   \n",
        "\n",
        "print(x_plot)"
      ]
    },
    {
      "cell_type": "code",
      "execution_count": 11,
      "id": "db623716",
      "metadata": {
        "id": "db623716"
      },
      "outputs": [],
      "source": [
        "\n",
        "\n",
        "## Compute mean predictions and associated variance\n",
        "\n",
        "## Compute mean predictions and associated variance\n",
        "\n",
        "lf_mean_lin_mf_model, lf_var_lin_mf_model = lin_mf_model.predict(X_plot_l)\n",
        "\n",
        "hf_mean_lin_mf_model, hf_var_lin_mf_model = lin_mf_model.predict(X_plot_h)\n",
        "\n",
        "\n",
        "\n",
        "\n"
      ]
    },
    {
      "cell_type": "code",
      "execution_count": 12,
      "id": "21c16ea4",
      "metadata": {
        "colab": {
          "base_uri": "https://localhost:8080/"
        },
        "id": "21c16ea4",
        "outputId": "4df3e59d-e8e6-4c80-d09c-ab135718e9e2"
      },
      "outputs": [
        {
          "output_type": "stream",
          "name": "stdout",
          "text": [
            "[[3.96540128]\n",
            " [1.86819965]\n",
            " [2.00130287]\n",
            " [0.82498998]\n",
            " [1.3230973 ]\n",
            " [0.57971102]]\n"
          ]
        }
      ],
      "source": [
        "print(lf_mean_lin_mf_model)"
      ]
    },
    {
      "cell_type": "code",
      "execution_count": 13,
      "id": "ee2507b4",
      "metadata": {
        "colab": {
          "base_uri": "https://localhost:8080/"
        },
        "id": "ee2507b4",
        "outputId": "84e2cbc4-35c8-4c59-f18a-2c7814cc24a6"
      },
      "outputs": [
        {
          "output_type": "stream",
          "name": "stdout",
          "text": [
            "[[3.96540014]\n",
            " [1.86819911]\n",
            " [2.00130229]\n",
            " [0.82498974]\n",
            " [1.32309692]\n",
            " [0.57971085]]\n"
          ]
        }
      ],
      "source": [
        "print(hf_mean_lin_mf_model)"
      ]
    },
    {
      "cell_type": "code",
      "execution_count": 14,
      "id": "20a38513",
      "metadata": {
        "id": "20a38513"
      },
      "outputs": [],
      "source": [
        "## Create standard GP model using only high-fidelity data\n",
        "x_train_DNS=np.array([[70,0],[70,100],[70,50],[60,0],[60,30],[60,80],[50,80],[50,50],[40,0],[40,30],[40,100]])\n",
        "y_train_DNS=np.array([3.5457,\n",
        "4.7628,\n",
        "4.0937,\n",
        "1.8453,\n",
        "2.0809,\n",
        "2.4286,\n",
        "1.3877,\n",
        "1.2605,\n",
        "0.6215,\n",
        "0.69657,\n",
        "0.88475\n",
        "])\n",
        "x_train_DNS=np.c_[ x_train_DNS, np.ones(len(x_train_DNS)) ]   \n",
        "y_train_DNS=np.reshape(y_train_DNS,(len(x_train_DNS),1))\n",
        "\n",
        "\n",
        "kernel = GPy.kern.RBF(2)"
      ]
    },
    {
      "cell_type": "code",
      "execution_count": 15,
      "id": "94a2bb92",
      "metadata": {
        "colab": {
          "base_uri": "https://localhost:8080/"
        },
        "id": "94a2bb92",
        "outputId": "2c253c95-f031-493e-812e-11f1968f1d3a"
      },
      "outputs": [
        {
          "output_type": "stream",
          "name": "stdout",
          "text": [
            "Optimization restart 1/100, f = 25.85043186139212\n",
            "Optimization restart 2/100, f = 25.85043186138691\n",
            "Optimization restart 3/100, f = 25.8504318613869\n",
            "Optimization restart 4/100, f = 25.850431861386976\n",
            "Optimization restart 5/100, f = 25.850431861386994\n",
            "Optimization restart 6/100, f = 25.850431861417437\n"
          ]
        },
        {
          "output_type": "stream",
          "name": "stderr",
          "text": [
            " /usr/local/lib/python3.8/dist-packages/GPy/core/gp.py:85: UserWarning:Your kernel has a different input dimension 2 then the given X dimension 3. Be very sure this is what you want and you have not forgotten to set the right input dimenion in your kernel\n"
          ]
        },
        {
          "output_type": "stream",
          "name": "stdout",
          "text": [
            "Optimization restart 7/100, f = 25.85043186153486\n",
            "Optimization restart 8/100, f = 25.85043186138719\n",
            "Optimization restart 9/100, f = 25.850431861386905\n",
            "Optimization restart 10/100, f = 25.85043186138692\n",
            "Optimization restart 11/100, f = 25.850431861386944\n",
            "Optimization restart 12/100, f = 25.850431861389048\n",
            "Optimization restart 13/100, f = 25.85043186141251\n",
            "Optimization restart 14/100, f = 25.8504318614179\n",
            "Optimization restart 15/100, f = 25.850431861388458\n",
            "Optimization restart 16/100, f = 25.85043186139638\n",
            "Optimization restart 17/100, f = 25.850431861386916\n",
            "Optimization restart 18/100, f = 25.850431861389538\n",
            "Optimization restart 19/100, f = 25.850431861420972\n",
            "Optimization restart 20/100, f = 25.850431861398633\n",
            "Optimization restart 21/100, f = 25.850431861386927\n",
            "Optimization restart 22/100, f = 25.850431861386898\n",
            "Optimization restart 23/100, f = 25.85043186139331\n",
            "Optimization restart 24/100, f = 25.850431861397276\n",
            "Optimization restart 25/100, f = 25.8504318613869\n",
            "Optimization restart 26/100, f = 25.850431861391467\n",
            "Optimization restart 27/100, f = 25.85043186145855\n",
            "Optimization restart 28/100, f = 19.06454266831988\n",
            "Optimization restart 29/100, f = 25.85043186138693\n",
            "Optimization restart 30/100, f = 25.85043186138698\n",
            "Optimization restart 31/100, f = 25.85043186138718\n",
            "Optimization restart 32/100, f = 25.850431861386912\n",
            "Optimization restart 33/100, f = 25.85043186139998\n",
            "Optimization restart 34/100, f = 25.850431861387396\n",
            "Optimization restart 35/100, f = 25.85043186143405\n",
            "Optimization restart 36/100, f = 19.064542668323174\n",
            "Optimization restart 37/100, f = 25.850431861386923\n",
            "Optimization restart 38/100, f = 25.850431861387726\n",
            "Optimization restart 39/100, f = 25.850431861387122\n",
            "Optimization restart 40/100, f = 25.85043186138702\n",
            "Optimization restart 41/100, f = 25.850431861387424\n",
            "Optimization restart 42/100, f = 25.850431861387495\n",
            "Optimization restart 43/100, f = 19.064542668319437\n",
            "Optimization restart 44/100, f = 25.8504318613869\n",
            "Optimization restart 45/100, f = 25.850431861387765\n",
            "Optimization restart 46/100, f = 25.850431861401518\n",
            "Optimization restart 47/100, f = 25.85043186138691\n",
            "Optimization restart 48/100, f = 25.85043186175629\n",
            "Optimization restart 49/100, f = 25.8504318614503\n",
            "Optimization restart 50/100, f = 25.850428258641593\n",
            "Optimization restart 51/100, f = 25.850431861395872\n",
            "Optimization restart 52/100, f = 25.85043186138691\n",
            "Optimization restart 53/100, f = 25.850431861418052\n",
            "Optimization restart 54/100, f = 25.85043186154796\n",
            "Optimization restart 55/100, f = 25.850431861433783\n",
            "Optimization restart 56/100, f = 25.850431861386912\n",
            "Optimization restart 57/100, f = 25.850431861386546\n",
            "Optimization restart 58/100, f = 25.85043185856005\n",
            "Optimization restart 59/100, f = 25.85043186138996\n",
            "Optimization restart 60/100, f = 25.850431861387545\n",
            "Optimization restart 61/100, f = 25.850431861386937\n",
            "Optimization restart 62/100, f = 25.850431861399272\n",
            "Optimization restart 63/100, f = 25.85043185717363\n",
            "Optimization restart 64/100, f = 25.85043186152761\n",
            "Optimization restart 65/100, f = 25.850431861386916\n",
            "Optimization restart 66/100, f = 25.850431848168483\n",
            "Optimization restart 67/100, f = 25.850431861387623\n",
            "Optimization restart 68/100, f = 25.850431861393993\n",
            "Optimization restart 69/100, f = 25.850431861395446\n",
            "Optimization restart 70/100, f = 25.850431861700418\n",
            "Optimization restart 71/100, f = 25.850431861466696\n",
            "Optimization restart 72/100, f = 25.850431861387037\n",
            "Optimization restart 73/100, f = 25.8504318613881\n",
            "Optimization restart 74/100, f = 25.850431861386923\n",
            "Optimization restart 75/100, f = 25.85043186102823\n",
            "Optimization restart 76/100, f = 25.850431861392508\n",
            "Optimization restart 77/100, f = 25.85043186154467\n",
            "Optimization restart 78/100, f = 25.85043176444664\n",
            "Optimization restart 79/100, f = 25.85043186136693\n",
            "Optimization restart 80/100, f = 25.85043186136467\n",
            "Optimization restart 81/100, f = 25.850431861386898\n",
            "Optimization restart 82/100, f = 25.85043186142127\n",
            "Optimization restart 83/100, f = 25.850431861386912\n",
            "Optimization restart 84/100, f = 25.850429556499744\n",
            "Optimization restart 85/100, f = 25.85043186145421\n",
            "Optimization restart 86/100, f = 25.850431861386912\n",
            "Optimization restart 87/100, f = 25.850431861386898\n",
            "Optimization restart 88/100, f = 25.850431861392877\n",
            "Optimization restart 89/100, f = 25.850431861387584\n",
            "Optimization restart 90/100, f = 25.850431861387122\n",
            "Optimization restart 91/100, f = 25.85043186138731\n",
            "Optimization restart 92/100, f = 25.850431861396007\n",
            "Optimization restart 93/100, f = 25.85043186146535\n",
            "Optimization restart 94/100, f = 25.850431861387136\n",
            "Optimization restart 95/100, f = 25.8504318613883\n",
            "Optimization restart 96/100, f = 25.85043186150919\n",
            "Optimization restart 97/100, f = 25.850431861394025\n",
            "Optimization restart 98/100, f = 25.850431861616094\n",
            "Optimization restart 99/100, f = 25.85043186141474\n",
            "Optimization restart 100/100, f = 25.850431861450815\n"
          ]
        },
        {
          "output_type": "execute_result",
          "data": {
            "text/plain": [
              "[<paramz.optimization.optimization.opt_lbfgsb at 0x7f1ae89b4d00>,\n",
              " <paramz.optimization.optimization.opt_lbfgsb at 0x7f1ae89b4910>,\n",
              " <paramz.optimization.optimization.opt_lbfgsb at 0x7f1aeaa2e880>,\n",
              " <paramz.optimization.optimization.opt_lbfgsb at 0x7f1ae899f730>,\n",
              " <paramz.optimization.optimization.opt_lbfgsb at 0x7f1ae89b43a0>,\n",
              " <paramz.optimization.optimization.opt_lbfgsb at 0x7f1ae899fe80>,\n",
              " <paramz.optimization.optimization.opt_lbfgsb at 0x7f1ae89abe50>,\n",
              " <paramz.optimization.optimization.opt_lbfgsb at 0x7f1aeaa2ed30>,\n",
              " <paramz.optimization.optimization.opt_lbfgsb at 0x7f1ae899f640>,\n",
              " <paramz.optimization.optimization.opt_lbfgsb at 0x7f1aeaa2e670>,\n",
              " <paramz.optimization.optimization.opt_lbfgsb at 0x7f1ae899a280>,\n",
              " <paramz.optimization.optimization.opt_lbfgsb at 0x7f1ae899adf0>,\n",
              " <paramz.optimization.optimization.opt_lbfgsb at 0x7f1ae89abd00>,\n",
              " <paramz.optimization.optimization.opt_lbfgsb at 0x7f1b147a48b0>,\n",
              " <paramz.optimization.optimization.opt_lbfgsb at 0x7f1ae89ab070>,\n",
              " <paramz.optimization.optimization.opt_lbfgsb at 0x7f1b147a4700>,\n",
              " <paramz.optimization.optimization.opt_lbfgsb at 0x7f1ae89a94f0>,\n",
              " <paramz.optimization.optimization.opt_lbfgsb at 0x7f1ae899a970>,\n",
              " <paramz.optimization.optimization.opt_lbfgsb at 0x7f1ae89a9e50>,\n",
              " <paramz.optimization.optimization.opt_lbfgsb at 0x7f1ae89ab880>,\n",
              " <paramz.optimization.optimization.opt_lbfgsb at 0x7f1ae89973a0>,\n",
              " <paramz.optimization.optimization.opt_lbfgsb at 0x7f1b147870d0>,\n",
              " <paramz.optimization.optimization.opt_lbfgsb at 0x7f1ae89c1fd0>,\n",
              " <paramz.optimization.optimization.opt_lbfgsb at 0x7f1ae89c13a0>,\n",
              " <paramz.optimization.optimization.opt_lbfgsb at 0x7f1ae89c1220>,\n",
              " <paramz.optimization.optimization.opt_lbfgsb at 0x7f1ae89c1190>,\n",
              " <paramz.optimization.optimization.opt_lbfgsb at 0x7f1ae89a9df0>,\n",
              " <paramz.optimization.optimization.opt_lbfgsb at 0x7f1ae89c1400>,\n",
              " <paramz.optimization.optimization.opt_lbfgsb at 0x7f1b14787a30>,\n",
              " <paramz.optimization.optimization.opt_lbfgsb at 0x7f1ae89a95b0>,\n",
              " <paramz.optimization.optimization.opt_lbfgsb at 0x7f1b14787df0>,\n",
              " <paramz.optimization.optimization.opt_lbfgsb at 0x7f1ae89a9ac0>,\n",
              " <paramz.optimization.optimization.opt_lbfgsb at 0x7f1ae89a9130>,\n",
              " <paramz.optimization.optimization.opt_lbfgsb at 0x7f1ae899a790>,\n",
              " <paramz.optimization.optimization.opt_lbfgsb at 0x7f1ae89c10a0>,\n",
              " <paramz.optimization.optimization.opt_lbfgsb at 0x7f1b147a4b50>,\n",
              " <paramz.optimization.optimization.opt_lbfgsb at 0x7f1aeaa2ee50>,\n",
              " <paramz.optimization.optimization.opt_lbfgsb at 0x7f1ae8997a60>,\n",
              " <paramz.optimization.optimization.opt_lbfgsb at 0x7f1aeaa2edf0>,\n",
              " <paramz.optimization.optimization.opt_lbfgsb at 0x7f1ae89a9430>,\n",
              " <paramz.optimization.optimization.opt_lbfgsb at 0x7f1ae899abb0>,\n",
              " <paramz.optimization.optimization.opt_lbfgsb at 0x7f1ae89c1df0>,\n",
              " <paramz.optimization.optimization.opt_lbfgsb at 0x7f1aea9e6550>,\n",
              " <paramz.optimization.optimization.opt_lbfgsb at 0x7f1aea9e6a30>,\n",
              " <paramz.optimization.optimization.opt_lbfgsb at 0x7f1aea9e66a0>,\n",
              " <paramz.optimization.optimization.opt_lbfgsb at 0x7f1aea9e6cd0>,\n",
              " <paramz.optimization.optimization.opt_lbfgsb at 0x7f1aea9e67c0>,\n",
              " <paramz.optimization.optimization.opt_lbfgsb at 0x7f1aea9e6a60>,\n",
              " <paramz.optimization.optimization.opt_lbfgsb at 0x7f1ae899f2e0>,\n",
              " <paramz.optimization.optimization.opt_lbfgsb at 0x7f1ae899ff70>,\n",
              " <paramz.optimization.optimization.opt_lbfgsb at 0x7f1aeaa2eca0>,\n",
              " <paramz.optimization.optimization.opt_lbfgsb at 0x7f1aeaa2ea60>,\n",
              " <paramz.optimization.optimization.opt_lbfgsb at 0x7f1aeaa2ec10>,\n",
              " <paramz.optimization.optimization.opt_lbfgsb at 0x7f1ae899a7c0>,\n",
              " <paramz.optimization.optimization.opt_lbfgsb at 0x7f1aeaa2e220>,\n",
              " <paramz.optimization.optimization.opt_lbfgsb at 0x7f1ae899a7f0>,\n",
              " <paramz.optimization.optimization.opt_lbfgsb at 0x7f1aea9e6670>,\n",
              " <paramz.optimization.optimization.opt_lbfgsb at 0x7f1aeaa2e8b0>,\n",
              " <paramz.optimization.optimization.opt_lbfgsb at 0x7f1aeaa2ebe0>,\n",
              " <paramz.optimization.optimization.opt_lbfgsb at 0x7f1ae899a3a0>,\n",
              " <paramz.optimization.optimization.opt_lbfgsb at 0x7f1aea9e6850>,\n",
              " <paramz.optimization.optimization.opt_lbfgsb at 0x7f1ae899aa90>,\n",
              " <paramz.optimization.optimization.opt_lbfgsb at 0x7f1ae8997b80>,\n",
              " <paramz.optimization.optimization.opt_lbfgsb at 0x7f1ae89c1610>,\n",
              " <paramz.optimization.optimization.opt_lbfgsb at 0x7f1aea9e68b0>,\n",
              " <paramz.optimization.optimization.opt_lbfgsb at 0x7f1ae8997190>,\n",
              " <paramz.optimization.optimization.opt_lbfgsb at 0x7f1ae895a340>,\n",
              " <paramz.optimization.optimization.opt_lbfgsb at 0x7f1ae8997730>,\n",
              " <paramz.optimization.optimization.opt_lbfgsb at 0x7f1ae895ad30>,\n",
              " <paramz.optimization.optimization.opt_lbfgsb at 0x7f1ae895abe0>,\n",
              " <paramz.optimization.optimization.opt_lbfgsb at 0x7f1ae89a9a30>,\n",
              " <paramz.optimization.optimization.opt_lbfgsb at 0x7f1ae895afa0>,\n",
              " <paramz.optimization.optimization.opt_lbfgsb at 0x7f1ae89c1850>,\n",
              " <paramz.optimization.optimization.opt_lbfgsb at 0x7f1ae895ad00>,\n",
              " <paramz.optimization.optimization.opt_lbfgsb at 0x7f1ae89a9400>,\n",
              " <paramz.optimization.optimization.opt_lbfgsb at 0x7f1ae895aca0>,\n",
              " <paramz.optimization.optimization.opt_lbfgsb at 0x7f1ae895afd0>,\n",
              " <paramz.optimization.optimization.opt_lbfgsb at 0x7f1ae895aa60>,\n",
              " <paramz.optimization.optimization.opt_lbfgsb at 0x7f1ae895a610>,\n",
              " <paramz.optimization.optimization.opt_lbfgsb at 0x7f1ae895a460>,\n",
              " <paramz.optimization.optimization.opt_lbfgsb at 0x7f1ae895a1c0>,\n",
              " <paramz.optimization.optimization.opt_lbfgsb at 0x7f1ae895af70>,\n",
              " <paramz.optimization.optimization.opt_lbfgsb at 0x7f1ae895a490>,\n",
              " <paramz.optimization.optimization.opt_lbfgsb at 0x7f1ae895a8e0>,\n",
              " <paramz.optimization.optimization.opt_lbfgsb at 0x7f1ae895ab20>,\n",
              " <paramz.optimization.optimization.opt_lbfgsb at 0x7f1ae89a9f40>,\n",
              " <paramz.optimization.optimization.opt_lbfgsb at 0x7f1ae89c1f70>,\n",
              " <paramz.optimization.optimization.opt_lbfgsb at 0x7f1ae895a5b0>,\n",
              " <paramz.optimization.optimization.opt_lbfgsb at 0x7f1ae89a9310>,\n",
              " <paramz.optimization.optimization.opt_lbfgsb at 0x7f1ae89a9b50>,\n",
              " <paramz.optimization.optimization.opt_lbfgsb at 0x7f1ae8997100>,\n",
              " <paramz.optimization.optimization.opt_lbfgsb at 0x7f1b147a4670>,\n",
              " <paramz.optimization.optimization.opt_lbfgsb at 0x7f1b147a48e0>,\n",
              " <paramz.optimization.optimization.opt_lbfgsb at 0x7f1b147a43d0>,\n",
              " <paramz.optimization.optimization.opt_lbfgsb at 0x7f1b147a4b20>,\n",
              " <paramz.optimization.optimization.opt_lbfgsb at 0x7f1aeaa2e550>,\n",
              " <paramz.optimization.optimization.opt_lbfgsb at 0x7f1aeaa2ee20>,\n",
              " <paramz.optimization.optimization.opt_lbfgsb at 0x7f1ae89972e0>,\n",
              " <paramz.optimization.optimization.opt_lbfgsb at 0x7f1aeaa2e400>,\n",
              " <paramz.optimization.optimization.opt_lbfgsb at 0x7f1ae899f850>]"
            ]
          },
          "metadata": {},
          "execution_count": 15
        }
      ],
      "source": [
        "high_gp_model = GPy.models.GPRegression(x_train_DNS, y_train_DNS, kernel)\n",
        "high_gp_model.Gaussian_noise.fix(0)\n",
        "\n",
        "## Fit the GP model\n",
        "\n",
        "high_gp_model.optimize_restarts(100)"
      ]
    },
    {
      "cell_type": "code",
      "execution_count": 16,
      "id": "43ccdd52",
      "metadata": {
        "id": "43ccdd52"
      },
      "outputs": [],
      "source": [
        "hf_mean_high_gp_model, hf_var_high_gp_model  = high_gp_model.predict(x_plot)\n"
      ]
    },
    {
      "cell_type": "code",
      "execution_count": 17,
      "id": "dc8490e4",
      "metadata": {
        "colab": {
          "base_uri": "https://localhost:8080/"
        },
        "id": "dc8490e4",
        "outputId": "e0039e06-f03e-432f-ed39-e179b2b920d8"
      },
      "outputs": [
        {
          "output_type": "stream",
          "name": "stdout",
          "text": [
            "[[4.09369996]\n",
            " [1.84530003]\n",
            " [2.08090002]\n",
            " [0.88475002]\n",
            " [1.38769989]\n",
            " [0.69657001]]\n",
            "[[3.96540014]\n",
            " [1.86819911]\n",
            " [2.00130229]\n",
            " [0.82498974]\n",
            " [1.32309692]\n",
            " [0.57971085]]\n"
          ]
        }
      ],
      "source": [
        "print(hf_mean_high_gp_model)\n",
        "print(hf_mean_lin_mf_model)"
      ]
    },
    {
      "cell_type": "code",
      "execution_count": 18,
      "id": "77fd6ae5",
      "metadata": {
        "colab": {
          "base_uri": "https://localhost:8080/",
          "height": 714
        },
        "id": "77fd6ae5",
        "outputId": "7a47d91d-6b82-44e4-e46e-9684bce8786a"
      },
      "outputs": [
        {
          "output_type": "display_data",
          "data": {
            "text/plain": [
              "<Figure size 864x864 with 1 Axes>"
            ],
            "image/png": "[encoded data removed]"
          },
          "metadata": {
            "needs_background": "light"
          }
        }
      ],
      "source": [
        "plt.figure(figsize=(12, 12))\n",
        "plt.scatter(hf_mean_lin_mf_model, hf_mean_high_gp_model, c='black')\n",
        "min_max = [hf_mean_high_gp_model.min(),hf_mean_high_gp_model.max()]\n",
        "plt.plot(min_max, min_max, color='r')\n",
        "plt.ylabel('Truth')\n",
        "plt.xlabel('Prediction');"
      ]
    },
    {
      "cell_type": "code",
      "execution_count": 21,
      "id": "a8e61a10",
      "metadata": {
        "colab": {
          "base_uri": "https://localhost:8080/",
          "height": 458
        },
        "id": "a8e61a10",
        "outputId": "b3aea2d3-8d33-4d15-9c8e-52d0cfbf1678"
      },
      "outputs": [
        {
          "output_type": "stream",
          "name": "stderr",
          "text": [
            " /usr/local/lib/python3.8/dist-packages/seaborn/distributions.py:1718: UserWarning:`shade_lowest` is now deprecated in favor of `thresh`. Setting `thresh=0.05`, but please update your code.\n"
          ]
        },
        {
          "output_type": "display_data",
          "data": {
            "text/plain": [
              "<Figure size 432x432 with 4 Axes>"
            ],
            "image/png": "[encoded data removed]"
          },
          "metadata": {
            "needs_background": "light"
          }
        }
      ],
      "source": [
        "import pandas as pd\n",
        "import seaborn as sns\n",
        "df=pd.DataFrame({'20RANS6DNS': hf_mean_high_gp_model.flatten(),'Reference':hf_mean_lin_mf_model.flatten()})\n",
        "rel=sns.jointplot(x=\"20RANS6DNS\", y=\"Reference\", kind = \"kde\",data = df, fill=True, n_levels = 6, shade = True, cbar = True, shade_lowest = False)\n",
        "#rel.fig.suptitle(\"k=0.96\")\n",
        "\n",
        "plt.show()\n"
      ]
    },
    {
      "cell_type": "code",
      "execution_count": 19,
      "id": "aa45a305",
      "metadata": {
        "id": "aa45a305"
      },
      "outputs": [],
      "source": []
    },
    {
      "cell_type": "code",
      "execution_count": 19,
      "id": "3be2dc52",
      "metadata": {
        "id": "3be2dc52"
      },
      "outputs": [],
      "source": []
    }
  ],
  "metadata": {
    "kernelspec": {
      "display_name": "Python 3 (ipykernel)",
      "language": "python",
      "name": "python3"
    },
    "language_info": {
      "codemirror_mode": {
        "name": "ipython",
        "version": 3
      },
      "file_extension": ".py",
      "mimetype": "text/x-python",
      "name": "python",
      "nbconvert_exporter": "python",
      "pygments_lexer": "ipython3",
      "version": "3.9.2"
    },
    "colab": {
      "provenance": []
    }
  },
  "nbformat": 4,
  "nbformat_minor": 5
}