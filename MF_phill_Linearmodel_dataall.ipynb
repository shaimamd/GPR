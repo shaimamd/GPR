{
 "cells": [
  {
   "cell_type": "code",
   "execution_count": 12,
   "id": "ef878114",
   "metadata": {},
   "outputs": [],
   "source": [
    "import GPy\n",
    "import emukit.multi_fidelity\n",
    "import emukit.test_functions\n",
    "from emukit.model_wrappers.gpy_model_wrappers import GPyMultiOutputWrapper\n",
    "from emukit.multi_fidelity.models import GPyLinearMultiFidelityModel\n",
    "import numpy as np\n",
    "import matplotlib.pyplot as plt\n",
    "from matplotlib import colors as mcolors\n",
    "colors = dict(mcolors.BASE_COLORS, **mcolors.CSS4_COLORS)\n",
    "%matplotlib inline\n",
    "\n",
    "## Generate samples from the Forrester function\n",
    "\n",
    "\n",
    "x_train_h=np.array([[0.5,0.42],[0.5,1],[0.5,1.58],[1,0.42],[1,1],[1,1.58],[1.5,0.42],[1.5,1],[1.5,1.58]])\n",
    "x_train_l =  np.array([[0.5,0.42],[0.50,0.65],[0.50,1],[0.5,1.35],[0.5,1.58],[0.7,0.42],[0.7,0.65],[0.7,1],[0.7,1.35],[0.7,1.58],[1,0.42],[1,0.65],[1,1],[1,1.35],[1,1.58],\\\n",
    "[1.3,0.42],[1.3,0.65],[1.3,1],[1.3,1.35],[1.3,1.58],[1.5,0.42],[1.5,0.65],[1.5,1],[1.5,1.35],[1.5,1.58]])\n",
    "y_train_l = np.array([0.4986808747,\n",
    "0.475976665,\n",
    "0.4777031069,\n",
    "0.4923418646,\n",
    "0.5028265703,\n",
    "0.4753060066,\n",
    "0.4595472371,\n",
    "0.4620449908,\n",
    "0.4691087625,\n",
    "0.4742488188,\n",
    "0.4513367251,\n",
    "0.4396361379,\n",
    "0.4368311097,\n",
    "0.437009123,\n",
    "0.4393375827,\n",
    "0.4180588293,\n",
    "0.4084524096,\n",
    "0.404768885,\n",
    "0.4059021486,\n",
    "0.40739032015181575,\n",
    "0.3861760934,\n",
    "0.3767324971,\n",
    "0.3724887529,\n",
    "0.3747228606,\n",
    "0.3767415899])\n",
    "y_train_h = np.array([0.5047597937,\n",
    "0.5222562742,\n",
    "0.5985461618,\n",
    "0.4187630715,\n",
    "0.3821620197,\n",
    "0.4202147777,\n",
    "0.2783293064,\n",
    "0.3080605842,\n",
    "0.3428283998159303\n",
    "])\n",
    "\n",
    "\n"
   ]
  },
  {
   "cell_type": "code",
   "execution_count": 13,
   "id": "bf1ac176",
   "metadata": {},
   "outputs": [],
   "source": [
    "x_train_l=np.c_[ x_train_l, np.zeros(len(x_train_l)) ]   \n",
    "\n",
    "x_train_h=np.c_[ x_train_h, np.ones(len(x_train_h)) ]   \n"
   ]
  },
  {
   "cell_type": "code",
   "execution_count": 24,
   "id": "cf5567e0",
   "metadata": {},
   "outputs": [
    {
     "name": "stdout",
     "output_type": "stream",
     "text": [
      "3\n",
      "[[0.49868087]\n",
      " [0.47597667]\n",
      " [0.47770311]\n",
      " [0.49234186]\n",
      " [0.50282657]\n",
      " [0.47530601]\n",
      " [0.45954724]\n",
      " [0.46204499]\n",
      " [0.46910876]\n",
      " [0.47424882]\n",
      " [0.45133673]\n",
      " [0.43963614]\n",
      " [0.43683111]\n",
      " [0.43700912]\n",
      " [0.43933758]\n",
      " [0.41805883]\n",
      " [0.40845241]\n",
      " [0.40476889]\n",
      " [0.40590215]\n",
      " [0.40739032]\n",
      " [0.38617609]\n",
      " [0.3767325 ]\n",
      " [0.37248875]\n",
      " [0.37472286]\n",
      " [0.37674159]\n",
      " [0.50475979]\n",
      " [0.52225627]\n",
      " [0.59854616]\n",
      " [0.41876307]\n",
      " [0.38216202]\n",
      " [0.42021478]\n",
      " [0.27832931]\n",
      " [0.30806058]\n",
      " [0.3428284 ]]\n"
     ]
    }
   ],
   "source": [
    "\n",
    "\n",
    "X_train=np.append(x_train_l,x_train_h,axis=0)\n",
    "Y_train=np.append(y_train_l,y_train_h,axis=0)\n",
    "print(X_train.shape[1])\n",
    "Y_train=np.reshape(Y_train,(len(X_train),1))\n",
    "print(Y_train)\n"
   ]
  },
  {
   "cell_type": "code",
   "execution_count": 31,
   "id": "7795d4bd",
   "metadata": {},
   "outputs": [
    {
     "ename": "LinAlgError",
     "evalue": "not positive definite, even with jitter.",
     "output_type": "error",
     "traceback": [
      "\u001b[0;31m---------------------------------------------------------------------------\u001b[0m",
      "\u001b[0;31mLinAlgError\u001b[0m                               Traceback (most recent call last)",
      "Cell \u001b[0;32mIn [31], line 3\u001b[0m\n\u001b[1;32m      1\u001b[0m kernels \u001b[38;5;241m=\u001b[39m [GPy\u001b[38;5;241m.\u001b[39mkern\u001b[38;5;241m.\u001b[39mRBF(\u001b[38;5;241m1\u001b[39m),GPy\u001b[38;5;241m.\u001b[39mkern\u001b[38;5;241m.\u001b[39mRBF(\u001b[38;5;241m1\u001b[39m)]\n\u001b[1;32m      2\u001b[0m lin_mf_kernel \u001b[38;5;241m=\u001b[39m emukit\u001b[38;5;241m.\u001b[39mmulti_fidelity\u001b[38;5;241m.\u001b[39mkernels\u001b[38;5;241m.\u001b[39mLinearMultiFidelityKernel(kernels)\n\u001b[0;32m----> 3\u001b[0m gpy_lin_mf_model \u001b[38;5;241m=\u001b[39m GPyLinearMultiFidelityModel(X_train, Y_train, lin_mf_kernel, n_fidelities\u001b[38;5;241m=\u001b[39m\u001b[38;5;241m2\u001b[39m)\n\u001b[1;32m      4\u001b[0m gpy_lin_mf_model\u001b[38;5;241m.\u001b[39mmixed_noise\u001b[38;5;241m.\u001b[39mGaussian_noise\u001b[38;5;241m.\u001b[39mfix(\u001b[38;5;241m0\u001b[39m)\n\u001b[1;32m      5\u001b[0m gpy_lin_mf_model\u001b[38;5;241m.\u001b[39mmixed_noise\u001b[38;5;241m.\u001b[39mGaussian_noise_1\u001b[38;5;241m.\u001b[39mfix(\u001b[38;5;241m0\u001b[39m)\n",
      "File \u001b[0;32m~/.local/lib/python3.9/site-packages/paramz/parameterized.py:58\u001b[0m, in \u001b[0;36mParametersChangedMeta.__call__\u001b[0;34m(self, *args, **kw)\u001b[0m\n\u001b[1;32m     56\u001b[0m \u001b[38;5;28mself\u001b[39m\u001b[38;5;241m.\u001b[39m_model_initialized_ \u001b[38;5;241m=\u001b[39m \u001b[38;5;28;01mFalse\u001b[39;00m\n\u001b[1;32m     57\u001b[0m \u001b[38;5;28;01mif\u001b[39;00m initialize:\n\u001b[0;32m---> 58\u001b[0m     \u001b[38;5;28;43mself\u001b[39;49m\u001b[38;5;241;43m.\u001b[39;49m\u001b[43minitialize_parameter\u001b[49m\u001b[43m(\u001b[49m\u001b[43m)\u001b[49m\n\u001b[1;32m     59\u001b[0m \u001b[38;5;28;01melse\u001b[39;00m:\n\u001b[1;32m     60\u001b[0m     \u001b[38;5;28;01mimport\u001b[39;00m \u001b[38;5;21;01mwarnings\u001b[39;00m\n",
      "File \u001b[0;32m~/.local/lib/python3.9/site-packages/paramz/core/parameter_core.py:337\u001b[0m, in \u001b[0;36mParameterizable.initialize_parameter\u001b[0;34m(self)\u001b[0m\n\u001b[1;32m    335\u001b[0m \u001b[38;5;28mself\u001b[39m\u001b[38;5;241m.\u001b[39m_highest_parent_\u001b[38;5;241m.\u001b[39m_connect_parameters() \u001b[38;5;66;03m#logger.debug(\"calling parameters changed\")\u001b[39;00m\n\u001b[1;32m    336\u001b[0m \u001b[38;5;28mself\u001b[39m\u001b[38;5;241m.\u001b[39m_highest_parent_\u001b[38;5;241m.\u001b[39m_connect_fixes()\n\u001b[0;32m--> 337\u001b[0m \u001b[38;5;28;43mself\u001b[39;49m\u001b[38;5;241;43m.\u001b[39;49m\u001b[43mtrigger_update\u001b[49m\u001b[43m(\u001b[49m\u001b[43m)\u001b[49m\n",
      "File \u001b[0;32m~/.local/lib/python3.9/site-packages/paramz/core/updateable.py:79\u001b[0m, in \u001b[0;36mUpdateable.trigger_update\u001b[0;34m(self, trigger_parent)\u001b[0m\n\u001b[1;32m     76\u001b[0m \u001b[38;5;28;01mif\u001b[39;00m \u001b[38;5;129;01mnot\u001b[39;00m \u001b[38;5;28mself\u001b[39m\u001b[38;5;241m.\u001b[39mupdate_model() \u001b[38;5;129;01mor\u001b[39;00m (\u001b[38;5;28mhasattr\u001b[39m(\u001b[38;5;28mself\u001b[39m, \u001b[38;5;124m\"\u001b[39m\u001b[38;5;124m_in_init_\u001b[39m\u001b[38;5;124m\"\u001b[39m) \u001b[38;5;129;01mand\u001b[39;00m \u001b[38;5;28mself\u001b[39m\u001b[38;5;241m.\u001b[39m_in_init_):\n\u001b[1;32m     77\u001b[0m     \u001b[38;5;66;03m#print \"Warning: updates are off, updating the model will do nothing\"\u001b[39;00m\n\u001b[1;32m     78\u001b[0m     \u001b[38;5;28;01mreturn\u001b[39;00m\n\u001b[0;32m---> 79\u001b[0m \u001b[38;5;28;43mself\u001b[39;49m\u001b[38;5;241;43m.\u001b[39;49m\u001b[43m_trigger_params_changed\u001b[49m\u001b[43m(\u001b[49m\u001b[43mtrigger_parent\u001b[49m\u001b[43m)\u001b[49m\n",
      "File \u001b[0;32m~/.local/lib/python3.9/site-packages/paramz/core/parameter_core.py:134\u001b[0m, in \u001b[0;36mOptimizationHandlable._trigger_params_changed\u001b[0;34m(self, trigger_parent)\u001b[0m\n\u001b[1;32m    127\u001b[0m \u001b[38;5;124;03m\"\"\"\u001b[39;00m\n\u001b[1;32m    128\u001b[0m \u001b[38;5;124;03mFirst tell all children to update,\u001b[39;00m\n\u001b[1;32m    129\u001b[0m \u001b[38;5;124;03mthen update yourself.\u001b[39;00m\n\u001b[1;32m    130\u001b[0m \n\u001b[1;32m    131\u001b[0m \u001b[38;5;124;03mIf trigger_parent is True, we will tell the parent, otherwise not.\u001b[39;00m\n\u001b[1;32m    132\u001b[0m \u001b[38;5;124;03m\"\"\"\u001b[39;00m\n\u001b[1;32m    133\u001b[0m [p\u001b[38;5;241m.\u001b[39m_trigger_params_changed(trigger_parent\u001b[38;5;241m=\u001b[39m\u001b[38;5;28;01mFalse\u001b[39;00m) \u001b[38;5;28;01mfor\u001b[39;00m p \u001b[38;5;129;01min\u001b[39;00m \u001b[38;5;28mself\u001b[39m\u001b[38;5;241m.\u001b[39mparameters \u001b[38;5;28;01mif\u001b[39;00m \u001b[38;5;129;01mnot\u001b[39;00m p\u001b[38;5;241m.\u001b[39mis_fixed]\n\u001b[0;32m--> 134\u001b[0m \u001b[38;5;28;43mself\u001b[39;49m\u001b[38;5;241;43m.\u001b[39;49m\u001b[43mnotify_observers\u001b[49m\u001b[43m(\u001b[49m\u001b[38;5;28;43;01mNone\u001b[39;49;00m\u001b[43m,\u001b[49m\u001b[43m \u001b[49m\u001b[38;5;28;43;01mNone\u001b[39;49;00m\u001b[43m \u001b[49m\u001b[38;5;28;43;01mif\u001b[39;49;00m\u001b[43m \u001b[49m\u001b[43mtrigger_parent\u001b[49m\u001b[43m \u001b[49m\u001b[38;5;28;43;01melse\u001b[39;49;00m\u001b[43m \u001b[49m\u001b[38;5;241;43m-\u001b[39;49m\u001b[43mnp\u001b[49m\u001b[38;5;241;43m.\u001b[39;49m\u001b[43minf\u001b[49m\u001b[43m)\u001b[49m\n",
      "File \u001b[0;32m~/.local/lib/python3.9/site-packages/paramz/core/observable.py:91\u001b[0m, in \u001b[0;36mObservable.notify_observers\u001b[0;34m(self, which, min_priority)\u001b[0m\n\u001b[1;32m     89\u001b[0m     which \u001b[38;5;241m=\u001b[39m \u001b[38;5;28mself\u001b[39m\n\u001b[1;32m     90\u001b[0m \u001b[38;5;28;01mif\u001b[39;00m min_priority \u001b[38;5;129;01mis\u001b[39;00m \u001b[38;5;28;01mNone\u001b[39;00m:\n\u001b[0;32m---> 91\u001b[0m     [callble(\u001b[38;5;28mself\u001b[39m, which\u001b[38;5;241m=\u001b[39mwhich) \u001b[38;5;28;01mfor\u001b[39;00m _, _, callble \u001b[38;5;129;01min\u001b[39;00m \u001b[38;5;28mself\u001b[39m\u001b[38;5;241m.\u001b[39mobservers]\n\u001b[1;32m     92\u001b[0m \u001b[38;5;28;01melse\u001b[39;00m:\n\u001b[1;32m     93\u001b[0m     \u001b[38;5;28;01mfor\u001b[39;00m p, _, callble \u001b[38;5;129;01min\u001b[39;00m \u001b[38;5;28mself\u001b[39m\u001b[38;5;241m.\u001b[39mobservers:\n",
      "File \u001b[0;32m~/.local/lib/python3.9/site-packages/paramz/core/observable.py:91\u001b[0m, in \u001b[0;36m<listcomp>\u001b[0;34m(.0)\u001b[0m\n\u001b[1;32m     89\u001b[0m     which \u001b[38;5;241m=\u001b[39m \u001b[38;5;28mself\u001b[39m\n\u001b[1;32m     90\u001b[0m \u001b[38;5;28;01mif\u001b[39;00m min_priority \u001b[38;5;129;01mis\u001b[39;00m \u001b[38;5;28;01mNone\u001b[39;00m:\n\u001b[0;32m---> 91\u001b[0m     [\u001b[43mcallble\u001b[49m\u001b[43m(\u001b[49m\u001b[38;5;28;43mself\u001b[39;49m\u001b[43m,\u001b[49m\u001b[43m \u001b[49m\u001b[43mwhich\u001b[49m\u001b[38;5;241;43m=\u001b[39;49m\u001b[43mwhich\u001b[49m\u001b[43m)\u001b[49m \u001b[38;5;28;01mfor\u001b[39;00m _, _, callble \u001b[38;5;129;01min\u001b[39;00m \u001b[38;5;28mself\u001b[39m\u001b[38;5;241m.\u001b[39mobservers]\n\u001b[1;32m     92\u001b[0m \u001b[38;5;28;01melse\u001b[39;00m:\n\u001b[1;32m     93\u001b[0m     \u001b[38;5;28;01mfor\u001b[39;00m p, _, callble \u001b[38;5;129;01min\u001b[39;00m \u001b[38;5;28mself\u001b[39m\u001b[38;5;241m.\u001b[39mobservers:\n",
      "File \u001b[0;32m~/.local/lib/python3.9/site-packages/paramz/core/parameter_core.py:508\u001b[0m, in \u001b[0;36mParameterizable._parameters_changed_notification\u001b[0;34m(self, me, which)\u001b[0m\n\u001b[1;32m    503\u001b[0m \u001b[38;5;124;03m\"\"\"\u001b[39;00m\n\u001b[1;32m    504\u001b[0m \u001b[38;5;124;03mIn parameterizable we just need to make sure, that the next call to optimizer_array\u001b[39;00m\n\u001b[1;32m    505\u001b[0m \u001b[38;5;124;03mwill update the optimizer_array to the latest parameters\u001b[39;00m\n\u001b[1;32m    506\u001b[0m \u001b[38;5;124;03m\"\"\"\u001b[39;00m\n\u001b[1;32m    507\u001b[0m \u001b[38;5;28mself\u001b[39m\u001b[38;5;241m.\u001b[39m_optimizer_copy_transformed \u001b[38;5;241m=\u001b[39m \u001b[38;5;28;01mFalse\u001b[39;00m \u001b[38;5;66;03m# tells the optimizer array to update on next request\u001b[39;00m\n\u001b[0;32m--> 508\u001b[0m \u001b[38;5;28;43mself\u001b[39;49m\u001b[38;5;241;43m.\u001b[39;49m\u001b[43mparameters_changed\u001b[49m\u001b[43m(\u001b[49m\u001b[43m)\u001b[49m\n",
      "File \u001b[0;32m~/.local/lib/python3.9/site-packages/GPy/core/gp.py:274\u001b[0m, in \u001b[0;36mGP.parameters_changed\u001b[0;34m(self)\u001b[0m\n\u001b[1;32m    265\u001b[0m \u001b[38;5;28;01mdef\u001b[39;00m \u001b[38;5;21mparameters_changed\u001b[39m(\u001b[38;5;28mself\u001b[39m):\n\u001b[1;32m    266\u001b[0m     \u001b[38;5;124;03m\"\"\"\u001b[39;00m\n\u001b[1;32m    267\u001b[0m \u001b[38;5;124;03m    Method that is called upon any changes to :class:`~GPy.core.parameterization.param.Param` variables within the model.\u001b[39;00m\n\u001b[1;32m    268\u001b[0m \u001b[38;5;124;03m    In particular in the GP class this method re-performs inference, recalculating the posterior and log marginal likelihood and gradients of the model\u001b[39;00m\n\u001b[0;32m   (...)\u001b[0m\n\u001b[1;32m    272\u001b[0m \u001b[38;5;124;03m        this method yourself, there may be unexpected consequences.\u001b[39;00m\n\u001b[1;32m    273\u001b[0m \u001b[38;5;124;03m    \"\"\"\u001b[39;00m\n\u001b[0;32m--> 274\u001b[0m     \u001b[38;5;28mself\u001b[39m\u001b[38;5;241m.\u001b[39mposterior, \u001b[38;5;28mself\u001b[39m\u001b[38;5;241m.\u001b[39m_log_marginal_likelihood, \u001b[38;5;28mself\u001b[39m\u001b[38;5;241m.\u001b[39mgrad_dict \u001b[38;5;241m=\u001b[39m \u001b[38;5;28;43mself\u001b[39;49m\u001b[38;5;241;43m.\u001b[39;49m\u001b[43minference_method\u001b[49m\u001b[38;5;241;43m.\u001b[39;49m\u001b[43minference\u001b[49m\u001b[43m(\u001b[49m\u001b[38;5;28;43mself\u001b[39;49m\u001b[38;5;241;43m.\u001b[39;49m\u001b[43mkern\u001b[49m\u001b[43m,\u001b[49m\u001b[43m \u001b[49m\u001b[38;5;28;43mself\u001b[39;49m\u001b[38;5;241;43m.\u001b[39;49m\u001b[43mX\u001b[49m\u001b[43m,\u001b[49m\u001b[43m \u001b[49m\u001b[38;5;28;43mself\u001b[39;49m\u001b[38;5;241;43m.\u001b[39;49m\u001b[43mlikelihood\u001b[49m\u001b[43m,\u001b[49m\u001b[43m \u001b[49m\u001b[38;5;28;43mself\u001b[39;49m\u001b[38;5;241;43m.\u001b[39;49m\u001b[43mY_normalized\u001b[49m\u001b[43m,\u001b[49m\u001b[43m \u001b[49m\u001b[38;5;28;43mself\u001b[39;49m\u001b[38;5;241;43m.\u001b[39;49m\u001b[43mmean_function\u001b[49m\u001b[43m,\u001b[49m\u001b[43m \u001b[49m\u001b[38;5;28;43mself\u001b[39;49m\u001b[38;5;241;43m.\u001b[39;49m\u001b[43mY_metadata\u001b[49m\u001b[43m)\u001b[49m\n\u001b[1;32m    275\u001b[0m     \u001b[38;5;28mself\u001b[39m\u001b[38;5;241m.\u001b[39mlikelihood\u001b[38;5;241m.\u001b[39mupdate_gradients(\u001b[38;5;28mself\u001b[39m\u001b[38;5;241m.\u001b[39mgrad_dict[\u001b[38;5;124m'\u001b[39m\u001b[38;5;124mdL_dthetaL\u001b[39m\u001b[38;5;124m'\u001b[39m])\n\u001b[1;32m    276\u001b[0m     \u001b[38;5;28mself\u001b[39m\u001b[38;5;241m.\u001b[39mkern\u001b[38;5;241m.\u001b[39mupdate_gradients_full(\u001b[38;5;28mself\u001b[39m\u001b[38;5;241m.\u001b[39mgrad_dict[\u001b[38;5;124m'\u001b[39m\u001b[38;5;124mdL_dK\u001b[39m\u001b[38;5;124m'\u001b[39m], \u001b[38;5;28mself\u001b[39m\u001b[38;5;241m.\u001b[39mX)\n",
      "File \u001b[0;32m~/.local/lib/python3.9/site-packages/GPy/inference/latent_function_inference/exact_gaussian_inference.py:58\u001b[0m, in \u001b[0;36mExactGaussianInference.inference\u001b[0;34m(self, kern, X, likelihood, Y, mean_function, Y_metadata, K, variance, Z_tilde)\u001b[0m\n\u001b[1;32m     55\u001b[0m Ky \u001b[38;5;241m=\u001b[39m K\u001b[38;5;241m.\u001b[39mcopy()\n\u001b[1;32m     56\u001b[0m diag\u001b[38;5;241m.\u001b[39madd(Ky, variance\u001b[38;5;241m+\u001b[39m\u001b[38;5;241m1e-8\u001b[39m)\n\u001b[0;32m---> 58\u001b[0m Wi, LW, LWi, W_logdet \u001b[38;5;241m=\u001b[39m \u001b[43mpdinv\u001b[49m\u001b[43m(\u001b[49m\u001b[43mKy\u001b[49m\u001b[43m)\u001b[49m\n\u001b[1;32m     60\u001b[0m alpha, _ \u001b[38;5;241m=\u001b[39m dpotrs(LW, YYT_factor, lower\u001b[38;5;241m=\u001b[39m\u001b[38;5;241m1\u001b[39m)\n\u001b[1;32m     62\u001b[0m log_marginal \u001b[38;5;241m=\u001b[39m  \u001b[38;5;241m0.5\u001b[39m\u001b[38;5;241m*\u001b[39m(\u001b[38;5;241m-\u001b[39mY\u001b[38;5;241m.\u001b[39msize \u001b[38;5;241m*\u001b[39m log_2_pi \u001b[38;5;241m-\u001b[39m Y\u001b[38;5;241m.\u001b[39mshape[\u001b[38;5;241m1\u001b[39m] \u001b[38;5;241m*\u001b[39m W_logdet \u001b[38;5;241m-\u001b[39m np\u001b[38;5;241m.\u001b[39msum(alpha \u001b[38;5;241m*\u001b[39m YYT_factor))\n",
      "File \u001b[0;32m~/.local/lib/python3.9/site-packages/GPy/util/linalg.py:207\u001b[0m, in \u001b[0;36mpdinv\u001b[0;34m(A, *args)\u001b[0m\n\u001b[1;32m    193\u001b[0m \u001b[38;5;28;01mdef\u001b[39;00m \u001b[38;5;21mpdinv\u001b[39m(A, \u001b[38;5;241m*\u001b[39margs):\n\u001b[1;32m    194\u001b[0m     \u001b[38;5;124;03m\"\"\"\u001b[39;00m\n\u001b[1;32m    195\u001b[0m \u001b[38;5;124;03m    :param A: A DxD pd numpy array\u001b[39;00m\n\u001b[1;32m    196\u001b[0m \n\u001b[0;32m   (...)\u001b[0m\n\u001b[1;32m    205\u001b[0m \n\u001b[1;32m    206\u001b[0m \u001b[38;5;124;03m    \"\"\"\u001b[39;00m\n\u001b[0;32m--> 207\u001b[0m     L \u001b[38;5;241m=\u001b[39m \u001b[43mjitchol\u001b[49m\u001b[43m(\u001b[49m\u001b[43mA\u001b[49m\u001b[43m,\u001b[49m\u001b[43m \u001b[49m\u001b[38;5;241;43m*\u001b[39;49m\u001b[43margs\u001b[49m\u001b[43m)\u001b[49m\n\u001b[1;32m    208\u001b[0m     logdet \u001b[38;5;241m=\u001b[39m \u001b[38;5;241m2.\u001b[39m\u001b[38;5;241m*\u001b[39mnp\u001b[38;5;241m.\u001b[39msum(np\u001b[38;5;241m.\u001b[39mlog(np\u001b[38;5;241m.\u001b[39mdiag(L)))\n\u001b[1;32m    209\u001b[0m     Li \u001b[38;5;241m=\u001b[39m dtrtri(L)\n",
      "File \u001b[0;32m~/.local/lib/python3.9/site-packages/GPy/util/linalg.py:75\u001b[0m, in \u001b[0;36mjitchol\u001b[0;34m(A, maxtries)\u001b[0m\n\u001b[1;32m     73\u001b[0m         \u001b[38;5;28;01mfinally\u001b[39;00m:\n\u001b[1;32m     74\u001b[0m             num_tries \u001b[38;5;241m+\u001b[39m\u001b[38;5;241m=\u001b[39m \u001b[38;5;241m1\u001b[39m\n\u001b[0;32m---> 75\u001b[0m     \u001b[38;5;28;01mraise\u001b[39;00m linalg\u001b[38;5;241m.\u001b[39mLinAlgError(\u001b[38;5;124m\"\u001b[39m\u001b[38;5;124mnot positive definite, even with jitter.\u001b[39m\u001b[38;5;124m\"\u001b[39m)\n\u001b[1;32m     76\u001b[0m \u001b[38;5;28;01mimport\u001b[39;00m \u001b[38;5;21;01mtraceback\u001b[39;00m\n\u001b[1;32m     77\u001b[0m \u001b[38;5;28;01mtry\u001b[39;00m: \u001b[38;5;28;01mraise\u001b[39;00m\n",
      "\u001b[0;31mLinAlgError\u001b[0m: not positive definite, even with jitter."
     ]
    }
   ],
   "source": [
    "kernels = [GPy.kern.RBF(1),GPy.kern.RBF(1)]\n",
    "lin_mf_kernel = emukit.multi_fidelity.kernels.LinearMultiFidelityKernel(kernels)\n",
    "gpy_lin_mf_model = GPyLinearMultiFidelityModel(X_train, Y_train, lin_mf_kernel, n_fidelities=2)\n",
    "gpy_lin_mf_model.mixed_noise.Gaussian_noise.fix(0)\n",
    "gpy_lin_mf_model.mixed_noise.Gaussian_noise_1.fix(0)\n",
    "\n",
    "lin_mf_model = model = GPyMultiOutputWrapper(gpy_lin_mf_model, 2, n_optimization_restarts=5)\n",
    "\n",
    "## Fit the model\n",
    "  \n",
    "lin_mf_model.optimize()\n"
   ]
  },
  {
   "cell_type": "code",
   "execution_count": 32,
   "id": "165be7f4",
   "metadata": {},
   "outputs": [
    {
     "ename": "NameError",
     "evalue": "name 'lin_mf_model' is not defined",
     "output_type": "error",
     "traceback": [
      "\u001b[0;31m---------------------------------------------------------------------------\u001b[0m",
      "\u001b[0;31mNameError\u001b[0m                                 Traceback (most recent call last)",
      "Cell \u001b[0;32mIn [32], line 19\u001b[0m\n\u001b[1;32m     11\u001b[0m X_plot_h\u001b[38;5;241m=\u001b[39mnp\u001b[38;5;241m.\u001b[39mc_[ x_plot, np\u001b[38;5;241m.\u001b[39mones(\u001b[38;5;28mlen\u001b[39m(x_plot)) ]   \n\u001b[1;32m     15\u001b[0m \u001b[38;5;66;03m## Compute mean predictions and associated variance\u001b[39;00m\n\u001b[1;32m     16\u001b[0m \n\u001b[1;32m     17\u001b[0m \u001b[38;5;66;03m## Compute mean predictions and associated variance\u001b[39;00m\n\u001b[0;32m---> 19\u001b[0m lf_mean_lin_mf_model, lf_var_lin_mf_model \u001b[38;5;241m=\u001b[39m lin_mf_model\u001b[38;5;241m.\u001b[39mpredict(X_plot_l)\n\u001b[1;32m     21\u001b[0m hf_mean_lin_mf_model, hf_var_lin_mf_model \u001b[38;5;241m=\u001b[39m lin_mf_model\u001b[38;5;241m.\u001b[39mpredict(X_plot_h)\n",
      "\u001b[0;31mNameError\u001b[0m: name 'lin_mf_model' is not defined"
     ]
    }
   ],
   "source": [
    "\n",
    "## Compute mean and variance predictions\n",
    "testx = np.linspace(0.5,1.5, 101, endpoint=True)\n",
    "\n",
    "testy= np.linspace(0.42,1.58, 101, endpoint=True)\n",
    "\n",
    "\n",
    "x = [(a, b) for a in testx for b in testy] \n",
    "x=np.array([x])\n",
    "x_plot=np.reshape(x,[10201,2])\n",
    "X_plot_l=np.c_[ x_plot, np.zeros(len(x_plot)) ]   \n",
    "X_plot_h=np.c_[ x_plot, np.ones(len(x_plot)) ]   \n",
    "\n",
    "\n",
    "\n",
    "## Compute mean predictions and associated variance\n",
    "\n",
    "## Compute mean predictions and associated variance\n",
    "\n",
    "lf_mean_lin_mf_model, lf_var_lin_mf_model = lin_mf_model.predict(X_plot_l)\n",
    "\n",
    "hf_mean_lin_mf_model, hf_var_lin_mf_model = lin_mf_model.predict(X_plot_h)\n",
    "\n",
    "\n",
    "\n"
   ]
  },
  {
   "cell_type": "code",
   "execution_count": 21,
   "id": "0544f6b3",
   "metadata": {},
   "outputs": [
    {
     "name": "stdout",
     "output_type": "stream",
     "text": [
      "Optimization restart 1/5, f = 399363.7885887812\n",
      "Optimization restart 2/5, f = 399363.78576171363\n",
      "Optimization restart 3/5, f = 399363.78690962447\n",
      "Optimization restart 4/5, f = 399363.78844026395\n",
      "Optimization restart 5/5, f = 399363.7867631742\n",
      "[[0.54185396]\n",
      " [0.54185396]\n",
      " [0.54185396]\n",
      " ...\n",
      " [0.30973934]\n",
      " [0.30973934]\n",
      " [0.30973934]]\n"
     ]
    }
   ],
   "source": [
    "## Create standard GP model using only high-fidelity data\n",
    "x_train_DNS=np.array([[0.5,0.42],[0.5,1],[0.5,1.58],[1,0.42],[1,1],[1,1.58],[1.5,0.42],[1.5,1],[1.5,1.58]])\n",
    "y_train_DNS=np.array([0.5047597937,\n",
    "0.5222562742,\n",
    "0.5985461618,\n",
    "0.4187630715,\n",
    "0.3821620197,\n",
    "0.4202147777,\n",
    "0.2783293064,\n",
    "0.3080605842,\n",
    "0.3428283998159303])\n",
    "x_train_DNS=np.c_[ x_train_DNS, np.ones(len(x_train_DNS)) ]   \n",
    "y_train_DNS=np.reshape(y_train_DNS,(len(x_train_DNS),1))\n",
    "\n",
    "\n",
    "kernel = GPy.kern.RBF(1)\n",
    "\n",
    "high_gp_model = GPy.models.GPRegression(x_train_DNS, y_train_DNS, kernel)\n",
    "high_gp_model.Gaussian_noise.fix(0)\n",
    "\n",
    "## Fit the GP model\n",
    "\n",
    "high_gp_model.optimize_restarts(5)\n",
    "\n",
    "hf_mean_high_gp_model, hf_var_high_gp_model  = high_gp_model.predict(x_plot)\n",
    "\n",
    "\n",
    "print(hf_mean_high_gp_model)\n",
    "\n"
   ]
  },
  {
   "cell_type": "code",
   "execution_count": 19,
   "id": "36869c9c",
   "metadata": {},
   "outputs": [
    {
     "ename": "NameError",
     "evalue": "name 'hf_mean_lin_mf_model' is not defined",
     "output_type": "error",
     "traceback": [
      "\u001b[0;31m---------------------------------------------------------------------------\u001b[0m",
      "\u001b[0;31mNameError\u001b[0m                                 Traceback (most recent call last)",
      "Cell \u001b[0;32mIn [19], line 2\u001b[0m\n\u001b[1;32m      1\u001b[0m plt\u001b[38;5;241m.\u001b[39mfigure(figsize\u001b[38;5;241m=\u001b[39m(\u001b[38;5;241m12\u001b[39m, \u001b[38;5;241m12\u001b[39m))\n\u001b[0;32m----> 2\u001b[0m plt\u001b[38;5;241m.\u001b[39mscatter(hf_mean_lin_mf_model, hf_mean_high_gp_model, alpha\u001b[38;5;241m=\u001b[39m\u001b[38;5;241m0.1\u001b[39m)\n\u001b[1;32m      3\u001b[0m min_max \u001b[38;5;241m=\u001b[39m [hf_mean_high_gp_model\u001b[38;5;241m.\u001b[39mmin(),hf_mean_high_gp_model\u001b[38;5;241m.\u001b[39mmax()]\n\u001b[1;32m      4\u001b[0m plt\u001b[38;5;241m.\u001b[39mplot(min_max, min_max, color\u001b[38;5;241m=\u001b[39m\u001b[38;5;124m'\u001b[39m\u001b[38;5;124mr\u001b[39m\u001b[38;5;124m'\u001b[39m)\n",
      "\u001b[0;31mNameError\u001b[0m: name 'hf_mean_lin_mf_model' is not defined"
     ]
    },
    {
     "data": {
      "text/plain": [
       "<Figure size 1200x1200 with 0 Axes>"
      ]
     },
     "metadata": {},
     "output_type": "display_data"
    }
   ],
   "source": [
    "plt.figure(figsize=(12, 12))\n",
    "plt.scatter(hf_mean_lin_mf_model, hf_mean_high_gp_model, alpha=0.1)\n",
    "min_max = [hf_mean_high_gp_model.min(),hf_mean_high_gp_model.max()]\n",
    "plt.plot(min_max, min_max, color='r')\n",
    "plt.ylabel('Truth')\n",
    "plt.xlabel('Prediction');\n",
    "\n",
    "\n"
   ]
  },
  {
   "cell_type": "code",
   "execution_count": 8,
   "id": "aae118b9",
   "metadata": {},
   "outputs": [
    {
     "ename": "NameError",
     "evalue": "name 'hf_mean_lin_mf_model' is not defined",
     "output_type": "error",
     "traceback": [
      "\u001b[0;31m---------------------------------------------------------------------------\u001b[0m",
      "\u001b[0;31mNameError\u001b[0m                                 Traceback (most recent call last)",
      "Cell \u001b[0;32mIn [8], line 3\u001b[0m\n\u001b[1;32m      1\u001b[0m \u001b[38;5;28;01mimport\u001b[39;00m \u001b[38;5;21;01mpandas\u001b[39;00m \u001b[38;5;28;01mas\u001b[39;00m \u001b[38;5;21;01mpd\u001b[39;00m\n\u001b[1;32m      2\u001b[0m \u001b[38;5;28;01mimport\u001b[39;00m \u001b[38;5;21;01mseaborn\u001b[39;00m \u001b[38;5;28;01mas\u001b[39;00m \u001b[38;5;21;01msns\u001b[39;00m\n\u001b[0;32m----> 3\u001b[0m df\u001b[38;5;241m=\u001b[39mpd\u001b[38;5;241m.\u001b[39mDataFrame({\u001b[38;5;124m'\u001b[39m\u001b[38;5;124m25RANS4DNS\u001b[39m\u001b[38;5;124m'\u001b[39m: hf_mean_high_gp_model\u001b[38;5;241m.\u001b[39mflatten(),\u001b[38;5;124m'\u001b[39m\u001b[38;5;124mReference\u001b[39m\u001b[38;5;124m'\u001b[39m:hf_mean_lin_mf_model\u001b[38;5;241m.\u001b[39mflatten()})\n\u001b[1;32m      4\u001b[0m rel\u001b[38;5;241m=\u001b[39msns\u001b[38;5;241m.\u001b[39mjointplot(x\u001b[38;5;241m=\u001b[39m\u001b[38;5;124m\"\u001b[39m\u001b[38;5;124m25RANS4DNS\u001b[39m\u001b[38;5;124m\"\u001b[39m, y\u001b[38;5;241m=\u001b[39m\u001b[38;5;124m\"\u001b[39m\u001b[38;5;124mReference\u001b[39m\u001b[38;5;124m\"\u001b[39m, kind \u001b[38;5;241m=\u001b[39m \u001b[38;5;124m\"\u001b[39m\u001b[38;5;124mkde\u001b[39m\u001b[38;5;124m\"\u001b[39m,data \u001b[38;5;241m=\u001b[39m df, fill\u001b[38;5;241m=\u001b[39m\u001b[38;5;28;01mTrue\u001b[39;00m, n_levels \u001b[38;5;241m=\u001b[39m \u001b[38;5;241m6\u001b[39m, shade \u001b[38;5;241m=\u001b[39m \u001b[38;5;28;01mTrue\u001b[39;00m, cbar \u001b[38;5;241m=\u001b[39m \u001b[38;5;28;01mTrue\u001b[39;00m, shade_lowest \u001b[38;5;241m=\u001b[39m \u001b[38;5;28;01mFalse\u001b[39;00m)\n\u001b[1;32m      5\u001b[0m rel\u001b[38;5;241m.\u001b[39mfig\u001b[38;5;241m.\u001b[39msuptitle(\u001b[38;5;124m\"\u001b[39m\u001b[38;5;124m25RANS + 4 DNS\u001b[39m\u001b[38;5;124m\"\u001b[39m)\n",
      "\u001b[0;31mNameError\u001b[0m: name 'hf_mean_lin_mf_model' is not defined"
     ]
    }
   ],
   "source": [
    "\n",
    "import pandas as pd\n",
    "import seaborn as sns\n",
    "df=pd.DataFrame({'25RANS4DNS': hf_mean_high_gp_model.flatten(),'Reference':hf_mean_lin_mf_model.flatten()})\n",
    "rel=sns.jointplot(x=\"25RANS4DNS\", y=\"Reference\", kind = \"kde\",data = df, fill=True, n_levels = 6, shade = True, cbar = True, shade_lowest = False)\n",
    "rel.fig.suptitle(\"25RANS + 4 DNS\")\n",
    "plt.plot(min_max, min_max, color='r')\n",
    "plt.show()\n"
   ]
  },
  {
   "cell_type": "code",
   "execution_count": null,
   "id": "570b1ba9",
   "metadata": {},
   "outputs": [],
   "source": []
  },
  {
   "cell_type": "code",
   "execution_count": null,
   "id": "a80f16d2",
   "metadata": {},
   "outputs": [],
   "source": []
  },
  {
   "cell_type": "code",
   "execution_count": null,
   "id": "8fe7beb2",
   "metadata": {},
   "outputs": [],
   "source": []
  }
 ],
 "metadata": {
  "kernelspec": {
   "display_name": "Python 3 (ipykernel)",
   "language": "python",
   "name": "python3"
  },
  "language_info": {
   "codemirror_mode": {
    "name": "ipython",
    "version": 3
   },
   "file_extension": ".py",
   "mimetype": "text/x-python",
   "name": "python",
   "nbconvert_exporter": "python",
   "pygments_lexer": "ipython3",
   "version": "3.9.2"
  }
 },
 "nbformat": 4,
 "nbformat_minor": 5
}
