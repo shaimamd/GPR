{
  "cells": [
    {
      "cell_type": "code",
      "execution_count": 4,
      "id": "bf071da3",
      "metadata": {
        "id": "bf071da3",
        "colab": {
          "base_uri": "https://localhost:8080/"
        },
        "outputId": "5e37f644-d50c-4bb9-d674-894674c6b258"
      },
      "outputs": [
        {
          "output_type": "stream",
          "name": "stdout",
          "text": [
            "Looking in indexes: https://pypi.org/simple, https://us-python.pkg.dev/colab-wheels/public/simple/\n",
            "Requirement already satisfied: GPy in /usr/local/lib/python3.8/dist-packages (1.10.0)\n",
            "Requirement already satisfied: cython>=0.29 in /usr/local/lib/python3.8/dist-packages (from GPy) (0.29.33)\n",
            "Requirement already satisfied: paramz>=0.9.0 in /usr/local/lib/python3.8/dist-packages (from GPy) (0.9.5)\n",
            "Requirement already satisfied: numpy>=1.7 in /usr/local/lib/python3.8/dist-packages (from GPy) (1.21.6)\n",
            "Requirement already satisfied: scipy>=1.3.0 in /usr/local/lib/python3.8/dist-packages (from GPy) (1.7.3)\n",
            "Requirement already satisfied: six in /usr/local/lib/python3.8/dist-packages (from GPy) (1.15.0)\n",
            "Requirement already satisfied: decorator>=4.0.10 in /usr/local/lib/python3.8/dist-packages (from paramz>=0.9.0->GPy) (4.4.2)\n"
          ]
        }
      ],
      "source": [
        "pip install GPy"
      ]
    },
    {
      "cell_type": "code",
      "source": [
        "pip install emukit"
      ],
      "metadata": {
        "colab": {
          "base_uri": "https://localhost:8080/"
        },
        "id": "5kiRWbBjj4Yc",
        "outputId": "82db6c3f-8e73-46c3-a4fd-805e4dd4a0e5"
      },
      "id": "5kiRWbBjj4Yc",
      "execution_count": 5,
      "outputs": [
        {
          "output_type": "stream",
          "name": "stdout",
          "text": [
            "Looking in indexes: https://pypi.org/simple, https://us-python.pkg.dev/colab-wheels/public/simple/\n",
            "Requirement already satisfied: emukit in /usr/local/lib/python3.8/dist-packages (0.4.10)\n",
            "Requirement already satisfied: setuptools>=40.8.0 in /usr/local/lib/python3.8/dist-packages (from emukit) (57.4.0)\n",
            "Requirement already satisfied: scipy>=1.1.0 in /usr/local/lib/python3.8/dist-packages (from emukit) (1.7.3)\n",
            "Requirement already satisfied: numpy>=1.14.5 in /usr/local/lib/python3.8/dist-packages (from emukit) (1.21.6)\n",
            "Requirement already satisfied: emcee>=2.2.1 in /usr/local/lib/python3.8/dist-packages (from emukit) (3.1.4)\n",
            "Requirement already satisfied: GPy[plotting]>=1.10.0 in /usr/local/lib/python3.8/dist-packages (from emukit) (1.10.0)\n",
            "Requirement already satisfied: six in /usr/local/lib/python3.8/dist-packages (from GPy[plotting]>=1.10.0->emukit) (1.15.0)\n",
            "Requirement already satisfied: paramz>=0.9.0 in /usr/local/lib/python3.8/dist-packages (from GPy[plotting]>=1.10.0->emukit) (0.9.5)\n",
            "Requirement already satisfied: cython>=0.29 in /usr/local/lib/python3.8/dist-packages (from GPy[plotting]>=1.10.0->emukit) (0.29.33)\n",
            "Requirement already satisfied: plotly>=1.8.6 in /usr/local/lib/python3.8/dist-packages (from GPy[plotting]>=1.10.0->emukit) (5.5.0)\n",
            "Requirement already satisfied: matplotlib>=3.0 in /usr/local/lib/python3.8/dist-packages (from GPy[plotting]>=1.10.0->emukit) (3.2.2)\n",
            "Requirement already satisfied: pyparsing!=2.0.4,!=2.1.2,!=2.1.6,>=2.0.1 in /usr/local/lib/python3.8/dist-packages (from matplotlib>=3.0->GPy[plotting]>=1.10.0->emukit) (3.0.9)\n",
            "Requirement already satisfied: cycler>=0.10 in /usr/local/lib/python3.8/dist-packages (from matplotlib>=3.0->GPy[plotting]>=1.10.0->emukit) (0.11.0)\n",
            "Requirement already satisfied: python-dateutil>=2.1 in /usr/local/lib/python3.8/dist-packages (from matplotlib>=3.0->GPy[plotting]>=1.10.0->emukit) (2.8.2)\n",
            "Requirement already satisfied: kiwisolver>=1.0.1 in /usr/local/lib/python3.8/dist-packages (from matplotlib>=3.0->GPy[plotting]>=1.10.0->emukit) (1.4.4)\n",
            "Requirement already satisfied: decorator>=4.0.10 in /usr/local/lib/python3.8/dist-packages (from paramz>=0.9.0->GPy[plotting]>=1.10.0->emukit) (4.4.2)\n",
            "Requirement already satisfied: tenacity>=6.2.0 in /usr/local/lib/python3.8/dist-packages (from plotly>=1.8.6->GPy[plotting]>=1.10.0->emukit) (8.2.0)\n"
          ]
        }
      ]
    },
    {
      "cell_type": "code",
      "source": [],
      "metadata": {
        "id": "vrKqq2n7j4cx"
      },
      "id": "vrKqq2n7j4cx",
      "execution_count": 5,
      "outputs": []
    },
    {
      "cell_type": "code",
      "source": [
        "\n",
        "import numpy as np\n",
        "\n",
        "\n",
        "import GPy\n",
        "import emukit.multi_fidelity\n",
        "import emukit.test_functions\n",
        "from emukit.model_wrappers.gpy_model_wrappers import GPyMultiOutputWrapper\n",
        "from emukit.multi_fidelity.models import GPyLinearMultiFidelityModel\n",
        "\n"
      ],
      "metadata": {
        "id": "JqX65x4Rj4g8"
      },
      "id": "JqX65x4Rj4g8",
      "execution_count": 6,
      "outputs": []
    },
    {
      "cell_type": "code",
      "execution_count": 7,
      "id": "40170d1a",
      "metadata": {
        "id": "40170d1a"
      },
      "outputs": [],
      "source": [
        "##High fidelity output\n",
        "def high_fidelity(X):\n",
        "   return(6*X-2)**2*np.sin(12*X-4)\n",
        "##Low fidelity output\n",
        "def low_fidelity(X):\n",
        "   return 0.5* ((6*X-2)**2*np.sin(12*X-4))+10*(X-0.5)-5\n",
        "\n",
        "x_plot = np.linspace(0, 1, 200)[:, np.newaxis]\n",
        "y_plot_l = low_fidelity(x_plot)\n",
        "y_plot_h = high_fidelity(x_plot)\n",
        "\n",
        "##High fidelity samples\n",
        "x_train_h =  np.array([0,0.4,0.6,1.0])\n",
        "x_train_h=x_train_h.reshape(-1,1)\n",
        "##Low fidelity samples\n",
        "x_train_l=np.linspace(0,1,11)\n",
        "x_train_l=x_train_l.reshape(-1,1)\n",
        "\n",
        "\n",
        "y_train_l = low_fidelity(x_train_l)\n",
        "y_train_h = high_fidelity(x_train_h)"
      ]
    },
    {
      "cell_type": "code",
      "execution_count": 8,
      "id": "25ad0fcf",
      "metadata": {
        "id": "25ad0fcf",
        "outputId": "ff6dbbf1-a2bb-412e-9415-5fef4949a60b",
        "colab": {
          "base_uri": "https://localhost:8080/"
        }
      },
      "outputs": [
        {
          "output_type": "stream",
          "name": "stdout",
          "text": [
            "[[-8.48639501]\n",
            " [-9.32828839]\n",
            " [-8.31986355]\n",
            " [-7.00778837]\n",
            " [-5.94261151]\n",
            " [-4.54535129]\n",
            " [-4.0747189 ]\n",
            " [-5.30287702]\n",
            " [-4.47456522]\n",
            " [ 1.85597517]\n",
            " [ 7.91486597]\n",
            " [ 3.02720998]\n",
            " [ 0.11477697]\n",
            " [-0.14943781]\n",
            " [15.82973195]]\n"
          ]
        }
      ],
      "source": [
        "\n",
        "\n",
        "from emukit.multi_fidelity.convert_lists_to_array import convert_x_list_to_array, convert_xy_lists_to_arrays\n",
        "\n",
        "X_train, Y_train = convert_xy_lists_to_arrays([x_train_l, x_train_h], \n",
        "                                                    [y_train_l, y_train_h])\n",
        "print(Y_train)"
      ]
    },
    {
      "cell_type": "code",
      "execution_count": 9,
      "id": "59d86f06",
      "metadata": {
        "id": "59d86f06",
        "outputId": "5606f090-abee-43aa-aa0d-a9d6c2e62335",
        "colab": {
          "base_uri": "https://localhost:8080/"
        }
      },
      "outputs": [
        {
          "output_type": "execute_result",
          "data": {
            "text/plain": [
              "array([0])"
            ]
          },
          "metadata": {},
          "execution_count": 9
        }
      ],
      "source": [
        "kernels = [GPy.kern.RBF(1), GPy.kern.RBF(1)]\n",
        "lin_mf_kernel = emukit.multi_fidelity.kernels.LinearMultiFidelityKernel(kernels)\n",
        "gpy_lin_mf_model = GPyLinearMultiFidelityModel(X_train, Y_train, lin_mf_kernel, n_fidelities=2)\n",
        "gpy_lin_mf_model.mixed_noise.Gaussian_noise.fix(0)\n",
        "gpy_lin_mf_model.mixed_noise.Gaussian_noise_1.fix(0)"
      ]
    },
    {
      "cell_type": "code",
      "execution_count": 10,
      "id": "275f8b58",
      "metadata": {
        "id": "275f8b58"
      },
      "outputs": [],
      "source": [
        "\n",
        "lin_mf_model = GPyMultiOutputWrapper(gpy_lin_mf_model, 2, n_optimization_restarts=100)\n",
        "\n"
      ]
    },
    {
      "cell_type": "code",
      "execution_count": 11,
      "id": "3edc6ccc",
      "metadata": {
        "id": "3edc6ccc",
        "outputId": "07533082-4c75-4e87-94cb-98ee41e9ef4c",
        "colab": {
          "base_uri": "https://localhost:8080/"
        }
      },
      "outputs": [
        {
          "output_type": "stream",
          "name": "stderr",
          "text": [
            " /usr/local/lib/python3.8/dist-packages/paramz/transformations.py:111: RuntimeWarning:divide by zero encountered in log\n"
          ]
        },
        {
          "output_type": "stream",
          "name": "stdout",
          "text": [
            "Optimization restart 1/100, f = 34.658061109676765\n",
            "Optimization restart 2/100, f = 24.174999156963246\n",
            "Optimization restart 3/100, f = 29.422153664683602\n",
            "Optimization restart 4/100, f = 24.34480437532099\n",
            "Optimization restart 5/100, f = 24.186261752830312\n",
            "Optimization restart 6/100, f = 34.65806112021211\n",
            "Optimization restart 7/100, f = 24.04684655177646\n",
            "Optimization restart 8/100, f = 26.36434656239431\n",
            "Optimization restart 9/100, f = 34.65806112020811\n",
            "Optimization restart 10/100, f = 24.30264415288964\n",
            "Optimization restart 11/100, f = 34.65806112020778\n",
            "Optimization restart 12/100, f = 25.030921806729964\n",
            "Optimization restart 13/100, f = 24.67902929702468\n",
            "Optimization restart 14/100, f = 24.728906778589767\n",
            "Optimization restart 15/100, f = 25.58812312886944\n",
            "Optimization restart 16/100, f = 34.65958273420113\n",
            "Optimization restart 17/100, f = 24.91036219208179\n",
            "Optimization restart 18/100, f = 24.144176754589523\n",
            "Optimization restart 19/100, f = 24.65428715117092\n",
            "Optimization restart 20/100, f = 24.43728471065497\n",
            "Optimization restart 21/100, f = 34.65806112357907\n",
            "Optimization restart 22/100, f = 34.65805872575695\n",
            "Optimization restart 23/100, f = 34.658061122232596\n",
            "Optimization restart 24/100, f = 26.80001359158706\n",
            "Optimization restart 25/100, f = 24.071079241528977\n",
            "Optimization restart 26/100, f = 24.524258861969027\n",
            "Optimization restart 27/100, f = 31.573593299171048\n",
            "Optimization restart 28/100, f = 34.65806112022416\n",
            "Optimization restart 29/100, f = 24.11924972225283\n",
            "Optimization restart 30/100, f = 24.47572576385416\n",
            "Optimization restart 31/100, f = 30.315375632906495\n",
            "Optimization restart 32/100, f = 24.92174337702547\n",
            "Optimization restart 33/100, f = 24.350706672949052\n",
            "Optimization restart 34/100, f = 24.431830232148773\n",
            "Optimization restart 35/100, f = 24.17185797578189\n",
            "Optimization restart 36/100, f = 34.65806112022225\n",
            "Optimization restart 37/100, f = 24.087919385464485\n",
            "Optimization restart 38/100, f = 31.493975872572143\n",
            "Optimization restart 39/100, f = 30.004358513705668\n",
            "Optimization restart 40/100, f = 24.093290681724387\n",
            "Optimization restart 41/100, f = 24.277674206502752\n",
            "Optimization restart 42/100, f = 24.159512748892897\n",
            "Optimization restart 43/100, f = 24.30035487469877\n",
            "Optimization restart 44/100, f = 24.141090135421592\n",
            "Optimization restart 45/100, f = 24.651047578637463\n",
            "Optimization restart 46/100, f = 34.65806112041935\n",
            "Optimization restart 47/100, f = 25.008943738486348\n",
            "Optimization restart 48/100, f = 25.869158398605283\n",
            "Optimization restart 49/100, f = 24.36920934659848\n",
            "Optimization restart 50/100, f = 24.155916361521996\n",
            "Optimization restart 51/100, f = 34.658061120210355\n",
            "Optimization restart 52/100, f = 24.086981713203613\n",
            "Optimization restart 53/100, f = 39.43013096571393\n",
            "Optimization restart 54/100, f = 31.77973757735149\n",
            "Optimization restart 55/100, f = 24.25281211893939\n",
            "Optimization restart 56/100, f = 24.28752467127979\n",
            "Optimization restart 57/100, f = 23.938039703484918\n",
            "Optimization restart 58/100, f = 25.200800238590972\n",
            "Optimization restart 59/100, f = 24.50965496140642\n",
            "Optimization restart 60/100, f = 39.58619992071284\n",
            "Optimization restart 61/100, f = 32.59704382813091\n",
            "Optimization restart 62/100, f = 24.57240581270679\n",
            "Optimization restart 63/100, f = 26.64623004497757\n",
            "Optimization restart 64/100, f = 24.016751087789174\n",
            "Optimization restart 65/100, f = 31.66551450467987\n",
            "Optimization restart 66/100, f = 24.24268425374013\n",
            "Optimization restart 67/100, f = 24.72039875867836\n",
            "Optimization restart 68/100, f = 31.18796070391837\n",
            "Optimization restart 69/100, f = 24.276546676999068\n",
            "Optimization restart 70/100, f = 34.65806112023752\n",
            "Optimization restart 71/100, f = 24.728404996663897\n",
            "Optimization restart 72/100, f = 34.65806112023575\n",
            "Optimization restart 73/100, f = 24.273570861609734\n",
            "Optimization restart 74/100, f = 23.968825726873618\n",
            "Optimization restart 75/100, f = 34.65806112027724\n",
            "Optimization restart 76/100, f = 31.38777863054933\n",
            "Optimization restart 77/100, f = 24.555647469160153\n",
            "Optimization restart 78/100, f = 24.468720412961268\n",
            "Optimization restart 79/100, f = 29.783379313634697\n",
            "Optimization restart 80/100, f = 24.524336745655567\n",
            "Optimization restart 81/100, f = 26.07170613611435\n",
            "Optimization restart 82/100, f = 31.518642024241615\n",
            "Optimization restart 83/100, f = 34.658061120216715\n",
            "Optimization restart 84/100, f = 31.69311407467808\n",
            "Optimization restart 85/100, f = 24.301748425345103\n",
            "Optimization restart 86/100, f = 34.658061120207556\n",
            "Optimization restart 87/100, f = 24.703106392003477\n",
            "Optimization restart 88/100, f = 24.157266016038832\n",
            "Optimization restart 89/100, f = 24.93516293248038\n",
            "Optimization restart 90/100, f = 30.76572491303618\n",
            "Optimization restart 91/100, f = 24.29624494107162\n",
            "Optimization restart 92/100, f = 24.026995954819036\n",
            "Optimization restart 93/100, f = 31.667081902918902\n",
            "Optimization restart 94/100, f = 24.042150596023177\n",
            "Optimization restart 95/100, f = 34.65806112038062\n",
            "Optimization restart 96/100, f = 24.44025336734204\n",
            "Optimization restart 97/100, f = 31.927034432798564\n",
            "Optimization restart 98/100, f = 24.36431198902582\n",
            "Optimization restart 99/100, f = 24.18986211608393\n",
            "Optimization restart 100/100, f = 28.50210725782999\n"
          ]
        }
      ],
      "source": [
        "lin_mf_model.optimize()"
      ]
    },
    {
      "cell_type": "code",
      "execution_count": 12,
      "id": "bbdec20c",
      "metadata": {
        "id": "bbdec20c"
      },
      "outputs": [],
      "source": [
        "\n",
        "X_plot = convert_x_list_to_array([x_plot, x_plot])\n",
        "X_plot_l = X_plot[:len(x_plot)]\n",
        "X_plot_h = X_plot[len(x_plot):]"
      ]
    },
    {
      "cell_type": "code",
      "execution_count": 12,
      "id": "66e1e218",
      "metadata": {
        "id": "66e1e218"
      },
      "outputs": [],
      "source": []
    },
    {
      "cell_type": "code",
      "execution_count": 13,
      "id": "0aa6de36",
      "metadata": {
        "id": "0aa6de36",
        "outputId": "8917d5b9-c4d8-4428-99f8-724461f7930c",
        "colab": {
          "base_uri": "https://localhost:8080/"
        }
      },
      "outputs": [
        {
          "output_type": "execute_result",
          "data": {
            "text/plain": [
              "array([0])"
            ]
          },
          "metadata": {},
          "execution_count": 13
        }
      ],
      "source": [
        "kernel = GPy.kern.RBF(1)\n",
        "high_gp_model = GPy.models.GPRegression(x_train_h, y_train_h, kernel)\n",
        "high_gp_model.Gaussian_noise.fix(0)"
      ]
    },
    {
      "cell_type": "code",
      "execution_count": 14,
      "id": "3bee2ad9",
      "metadata": {
        "id": "3bee2ad9",
        "outputId": "a76a1933-aac0-4a1c-8445-4bf2129bbc40",
        "colab": {
          "base_uri": "https://localhost:8080/"
        }
      },
      "outputs": [
        {
          "output_type": "stream",
          "name": "stdout",
          "text": [
            "Optimization restart 1/100, f = 13.759352280846326\n",
            "Optimization restart 2/100, f = 13.759352261430099\n",
            "Optimization restart 3/100, f = 13.759352261422213\n",
            "Optimization restart 4/100, f = 13.759352261548077\n",
            "Optimization restart 5/100, f = 13.759352308156817\n",
            "Optimization restart 6/100, f = 14.022835026613997\n",
            "Optimization restart 7/100, f = 14.022835026640669\n",
            "Optimization restart 8/100, f = 13.759352261413929\n",
            "Optimization restart 9/100, f = 13.759352261413593\n",
            "Optimization restart 10/100, f = 14.022835027765435\n",
            "Optimization restart 11/100, f = 14.022835026820616\n",
            "Optimization restart 12/100, f = 14.022835026297367\n",
            "Optimization restart 13/100, f = 13.75935226490726\n",
            "Optimization restart 14/100, f = 13.759352261420766\n",
            "Optimization restart 15/100, f = 14.022835098518769\n",
            "Optimization restart 16/100, f = 14.022835026381411\n",
            "Optimization restart 17/100, f = 14.022835033991925\n",
            "Optimization restart 18/100, f = 14.02283510661552\n",
            "Optimization restart 19/100, f = 14.02283503711938\n",
            "Optimization restart 20/100, f = 13.759352261413616\n",
            "Optimization restart 21/100, f = 14.022835026365062\n",
            "Optimization restart 22/100, f = 13.759352261413687\n",
            "Optimization restart 23/100, f = 14.022835028768341\n",
            "Optimization restart 24/100, f = 13.759352261668749\n",
            "Optimization restart 25/100, f = 14.02283502682372\n",
            "Optimization restart 26/100, f = 14.02283512829565\n",
            "Optimization restart 27/100, f = 14.022835072275317\n",
            "Optimization restart 28/100, f = 14.022835026212377\n",
            "Optimization restart 29/100, f = 13.759352261432245\n",
            "Optimization restart 30/100, f = 14.022835027573029\n",
            "Optimization restart 31/100, f = 13.759352261413383\n",
            "Optimization restart 32/100, f = 14.02283502624178\n",
            "Optimization restart 33/100, f = 13.759352261414328\n",
            "Optimization restart 34/100, f = 14.02283508231932\n",
            "Optimization restart 35/100, f = 14.022835026697738\n",
            "Optimization restart 36/100, f = 14.022835030109253\n",
            "Optimization restart 37/100, f = 13.759352261959187\n",
            "Optimization restart 38/100, f = 14.022835026249117\n",
            "Optimization restart 39/100, f = 14.022835026218702\n",
            "Optimization restart 40/100, f = 14.022835037222901\n",
            "Optimization restart 41/100, f = 14.022835026620477\n",
            "Optimization restart 42/100, f = 13.759352261413781\n",
            "Optimization restart 43/100, f = 13.759352261527859\n",
            "Optimization restart 44/100, f = 13.759352261413383\n",
            "Optimization restart 45/100, f = 14.022835087244488\n",
            "Optimization restart 46/100, f = 14.022835026349489\n",
            "Optimization restart 47/100, f = 14.022835080324036\n",
            "Optimization restart 48/100, f = 13.759352261691063\n",
            "Optimization restart 49/100, f = 14.022835055620693\n",
            "Optimization restart 50/100, f = 13.759352261688502\n",
            "Optimization restart 51/100, f = 13.759352261427521\n",
            "Optimization restart 52/100, f = 13.759352263775686\n",
            "Optimization restart 53/100, f = 13.759352261420755\n",
            "Optimization restart 54/100, f = 14.022835043079906\n",
            "Optimization restart 55/100, f = 13.75935226142435\n",
            "Optimization restart 56/100, f = 14.022835032955447\n",
            "Optimization restart 57/100, f = 13.759352261430122\n",
            "Optimization restart 58/100, f = 14.02283502648004\n",
            "Optimization restart 59/100, f = 14.02283502676104\n",
            "Optimization restart 60/100, f = 13.759352261413603\n",
            "Optimization restart 61/100, f = 14.022835026207524\n",
            "Optimization restart 62/100, f = 13.759352261413444\n",
            "Optimization restart 63/100, f = 13.759352330306607\n",
            "Optimization restart 64/100, f = 13.75935226142106\n",
            "Optimization restart 65/100, f = 13.759352261423297\n",
            "Optimization restart 66/100, f = 14.022835100374767\n",
            "Optimization restart 67/100, f = 14.022835026477857\n",
            "Optimization restart 68/100, f = 13.759352262566656\n",
            "Optimization restart 69/100, f = 14.022835026234816\n",
            "Optimization restart 70/100, f = 14.022835028276063\n",
            "Optimization restart 71/100, f = 13.759352261413387\n",
            "Optimization restart 72/100, f = 14.022835029986906\n",
            "Optimization restart 73/100, f = 14.022835031409313\n",
            "Optimization restart 74/100, f = 14.022835026462069\n",
            "Optimization restart 75/100, f = 13.759352261480002\n",
            "Optimization restart 76/100, f = 13.75935226185117\n",
            "Optimization restart 77/100, f = 13.759352261469868\n",
            "Optimization restart 78/100, f = 14.02283504874828\n",
            "Optimization restart 79/100, f = 13.75935226141339\n",
            "Optimization restart 80/100, f = 14.022835110493643\n",
            "Optimization restart 81/100, f = 13.759352261414747\n",
            "Optimization restart 82/100, f = 14.022835121199238\n",
            "Optimization restart 83/100, f = 14.02283502620731\n",
            "Optimization restart 84/100, f = 14.022835026704517\n",
            "Optimization restart 85/100, f = 14.022835036286013\n",
            "Optimization restart 86/100, f = 13.759352261413778\n",
            "Optimization restart 87/100, f = 14.022835029268016\n",
            "Optimization restart 88/100, f = 14.02283502621647\n",
            "Optimization restart 89/100, f = 14.02283502934068\n",
            "Optimization restart 90/100, f = 14.022835028970833\n",
            "Optimization restart 91/100, f = 14.022835027093171\n",
            "Optimization restart 92/100, f = 14.022835031947562\n",
            "Optimization restart 93/100, f = 14.022835026295375\n",
            "Optimization restart 94/100, f = 13.759352261870976\n",
            "Optimization restart 95/100, f = 13.759352261413538\n",
            "Optimization restart 96/100, f = 13.759352261479897\n",
            "Optimization restart 97/100, f = 13.759352261419274\n",
            "Optimization restart 98/100, f = 14.022835097736206\n",
            "Optimization restart 99/100, f = 13.759352261413412\n",
            "Optimization restart 100/100, f = 13.759352261422446\n"
          ]
        },
        {
          "output_type": "execute_result",
          "data": {
            "text/plain": [
              "[<paramz.optimization.optimization.opt_lbfgsb at 0x7efbc83b97c0>,\n",
              " <paramz.optimization.optimization.opt_lbfgsb at 0x7efbc83b9af0>,\n",
              " <paramz.optimization.optimization.opt_lbfgsb at 0x7efbc83b9d30>,\n",
              " <paramz.optimization.optimization.opt_lbfgsb at 0x7efbc83b9700>,\n",
              " <paramz.optimization.optimization.opt_lbfgsb at 0x7efbc83b4910>,\n",
              " <paramz.optimization.optimization.opt_lbfgsb at 0x7efbc83b9940>,\n",
              " <paramz.optimization.optimization.opt_lbfgsb at 0x7efbca4118b0>,\n",
              " <paramz.optimization.optimization.opt_lbfgsb at 0x7efbca41f460>,\n",
              " <paramz.optimization.optimization.opt_lbfgsb at 0x7efbf49cfa00>,\n",
              " <paramz.optimization.optimization.opt_lbfgsb at 0x7efbca3e92b0>,\n",
              " <paramz.optimization.optimization.opt_lbfgsb at 0x7efbc83b9bb0>,\n",
              " <paramz.optimization.optimization.opt_lbfgsb at 0x7efbc83b94c0>,\n",
              " <paramz.optimization.optimization.opt_lbfgsb at 0x7efbf416de80>,\n",
              " <paramz.optimization.optimization.opt_lbfgsb at 0x7efbca451f70>,\n",
              " <paramz.optimization.optimization.opt_lbfgsb at 0x7efbca517be0>,\n",
              " <paramz.optimization.optimization.opt_lbfgsb at 0x7efc147957c0>,\n",
              " <paramz.optimization.optimization.opt_lbfgsb at 0x7efbf416d820>,\n",
              " <paramz.optimization.optimization.opt_lbfgsb at 0x7efc14795820>,\n",
              " <paramz.optimization.optimization.opt_lbfgsb at 0x7efbca3e9c40>,\n",
              " <paramz.optimization.optimization.opt_lbfgsb at 0x7efbca4582e0>,\n",
              " <paramz.optimization.optimization.opt_lbfgsb at 0x7efbca3e9af0>,\n",
              " <paramz.optimization.optimization.opt_lbfgsb at 0x7efbf416dee0>,\n",
              " <paramz.optimization.optimization.opt_lbfgsb at 0x7efbc83b9d00>,\n",
              " <paramz.optimization.optimization.opt_lbfgsb at 0x7efbc83b93d0>,\n",
              " <paramz.optimization.optimization.opt_lbfgsb at 0x7efbca41fe80>,\n",
              " <paramz.optimization.optimization.opt_lbfgsb at 0x7efc147958e0>,\n",
              " <paramz.optimization.optimization.opt_lbfgsb at 0x7efbca4113a0>,\n",
              " <paramz.optimization.optimization.opt_lbfgsb at 0x7efc14795460>,\n",
              " <paramz.optimization.optimization.opt_lbfgsb at 0x7efbc83b96d0>,\n",
              " <paramz.optimization.optimization.opt_lbfgsb at 0x7efbca411e20>,\n",
              " <paramz.optimization.optimization.opt_lbfgsb at 0x7efbca41ff70>,\n",
              " <paramz.optimization.optimization.opt_lbfgsb at 0x7efbc83c0910>,\n",
              " <paramz.optimization.optimization.opt_lbfgsb at 0x7efbca41f190>,\n",
              " <paramz.optimization.optimization.opt_lbfgsb at 0x7efbca4584c0>,\n",
              " <paramz.optimization.optimization.opt_lbfgsb at 0x7efbca41f9a0>,\n",
              " <paramz.optimization.optimization.opt_lbfgsb at 0x7efbc83d6430>,\n",
              " <paramz.optimization.optimization.opt_lbfgsb at 0x7efbc83d65b0>,\n",
              " <paramz.optimization.optimization.opt_lbfgsb at 0x7efbc83c09a0>,\n",
              " <paramz.optimization.optimization.opt_lbfgsb at 0x7efbc83c0f10>,\n",
              " <paramz.optimization.optimization.opt_lbfgsb at 0x7efbc83c0190>,\n",
              " <paramz.optimization.optimization.opt_lbfgsb at 0x7efbc83c0c40>,\n",
              " <paramz.optimization.optimization.opt_lbfgsb at 0x7efbc83c00d0>,\n",
              " <paramz.optimization.optimization.opt_lbfgsb at 0x7efbc83c0a00>,\n",
              " <paramz.optimization.optimization.opt_lbfgsb at 0x7efbc83c0640>,\n",
              " <paramz.optimization.optimization.opt_lbfgsb at 0x7efbc83c0220>,\n",
              " <paramz.optimization.optimization.opt_lbfgsb at 0x7efbc83c0cd0>,\n",
              " <paramz.optimization.optimization.opt_lbfgsb at 0x7efbca411e80>,\n",
              " <paramz.optimization.optimization.opt_lbfgsb at 0x7efbc83c0c10>,\n",
              " <paramz.optimization.optimization.opt_lbfgsb at 0x7efbca4111c0>,\n",
              " <paramz.optimization.optimization.opt_lbfgsb at 0x7efbca411610>,\n",
              " <paramz.optimization.optimization.opt_lbfgsb at 0x7efbc83b9df0>,\n",
              " <paramz.optimization.optimization.opt_lbfgsb at 0x7efbc83b9b50>,\n",
              " <paramz.optimization.optimization.opt_lbfgsb at 0x7efbc83c0490>,\n",
              " <paramz.optimization.optimization.opt_lbfgsb at 0x7efbca41f640>,\n",
              " <paramz.optimization.optimization.opt_lbfgsb at 0x7efbca3e9a90>,\n",
              " <paramz.optimization.optimization.opt_lbfgsb at 0x7efbf416d640>,\n",
              " <paramz.optimization.optimization.opt_lbfgsb at 0x7efbca41ff10>,\n",
              " <paramz.optimization.optimization.opt_lbfgsb at 0x7efbca4585e0>,\n",
              " <paramz.optimization.optimization.opt_lbfgsb at 0x7efbc83c04f0>,\n",
              " <paramz.optimization.optimization.opt_lbfgsb at 0x7efbf416d910>,\n",
              " <paramz.optimization.optimization.opt_lbfgsb at 0x7efbc83c0280>,\n",
              " <paramz.optimization.optimization.opt_lbfgsb at 0x7efbc83d6fd0>,\n",
              " <paramz.optimization.optimization.opt_lbfgsb at 0x7efbca41f7f0>,\n",
              " <paramz.optimization.optimization.opt_lbfgsb at 0x7efbf416d6d0>,\n",
              " <paramz.optimization.optimization.opt_lbfgsb at 0x7efbc83d9550>,\n",
              " <paramz.optimization.optimization.opt_lbfgsb at 0x7efbca411220>,\n",
              " <paramz.optimization.optimization.opt_lbfgsb at 0x7efbc83d9d90>,\n",
              " <paramz.optimization.optimization.opt_lbfgsb at 0x7efbca458970>,\n",
              " <paramz.optimization.optimization.opt_lbfgsb at 0x7efbc83d9370>,\n",
              " <paramz.optimization.optimization.opt_lbfgsb at 0x7efbc83d9c70>,\n",
              " <paramz.optimization.optimization.opt_lbfgsb at 0x7efbc83d9850>,\n",
              " <paramz.optimization.optimization.opt_lbfgsb at 0x7efbc83d91f0>,\n",
              " <paramz.optimization.optimization.opt_lbfgsb at 0x7efbc83d9130>,\n",
              " <paramz.optimization.optimization.opt_lbfgsb at 0x7efbc83d90a0>,\n",
              " <paramz.optimization.optimization.opt_lbfgsb at 0x7efbc83d98b0>,\n",
              " <paramz.optimization.optimization.opt_lbfgsb at 0x7efbc83d93d0>,\n",
              " <paramz.optimization.optimization.opt_lbfgsb at 0x7efbc83d9040>,\n",
              " <paramz.optimization.optimization.opt_lbfgsb at 0x7efbc83d9c40>,\n",
              " <paramz.optimization.optimization.opt_lbfgsb at 0x7efbc83d6940>,\n",
              " <paramz.optimization.optimization.opt_lbfgsb at 0x7efbc83d97f0>,\n",
              " <paramz.optimization.optimization.opt_lbfgsb at 0x7efbc83d6760>,\n",
              " <paramz.optimization.optimization.opt_lbfgsb at 0x7efbca3e9fa0>,\n",
              " <paramz.optimization.optimization.opt_lbfgsb at 0x7efbca3e9b80>,\n",
              " <paramz.optimization.optimization.opt_lbfgsb at 0x7efbca41fd90>,\n",
              " <paramz.optimization.optimization.opt_lbfgsb at 0x7efbca41fa60>,\n",
              " <paramz.optimization.optimization.opt_lbfgsb at 0x7efbf416ddc0>,\n",
              " <paramz.optimization.optimization.opt_lbfgsb at 0x7efbca3e9c70>,\n",
              " <paramz.optimization.optimization.opt_lbfgsb at 0x7efbc83b95e0>,\n",
              " <paramz.optimization.optimization.opt_lbfgsb at 0x7efbca3e9d90>,\n",
              " <paramz.optimization.optimization.opt_lbfgsb at 0x7efbc83b9eb0>,\n",
              " <paramz.optimization.optimization.opt_lbfgsb at 0x7efbc83d6a90>,\n",
              " <paramz.optimization.optimization.opt_lbfgsb at 0x7efbca411a00>,\n",
              " <paramz.optimization.optimization.opt_lbfgsb at 0x7efbc83b9a30>,\n",
              " <paramz.optimization.optimization.opt_lbfgsb at 0x7efbca41f0d0>,\n",
              " <paramz.optimization.optimization.opt_lbfgsb at 0x7efbca4110d0>,\n",
              " <paramz.optimization.optimization.opt_lbfgsb at 0x7efbca411640>,\n",
              " <paramz.optimization.optimization.opt_lbfgsb at 0x7efbca411d30>,\n",
              " <paramz.optimization.optimization.opt_lbfgsb at 0x7efbca411ee0>,\n",
              " <paramz.optimization.optimization.opt_lbfgsb at 0x7efbc83b96a0>,\n",
              " <paramz.optimization.optimization.opt_lbfgsb at 0x7efbca411c70>]"
            ]
          },
          "metadata": {},
          "execution_count": 14
        }
      ],
      "source": [
        "high_gp_model.optimize_restarts(100)"
      ]
    },
    {
      "cell_type": "code",
      "execution_count": 15,
      "id": "d3a60a08",
      "metadata": {
        "id": "d3a60a08"
      },
      "outputs": [],
      "source": [
        "hf_mean_high_gp_model, hf_var_high_gp_model  = high_gp_model.predict(x_plot)\n",
        "hf_std_hf_gp_model = np.sqrt(hf_var_high_gp_model)"
      ]
    },
    {
      "cell_type": "code",
      "execution_count": 17,
      "id": "c02ace1c",
      "metadata": {
        "id": "c02ace1c",
        "outputId": "a3cc5337-356b-456e-c1ec-a67c13d7e09c",
        "colab": {
          "base_uri": "https://localhost:8080/",
          "height": 202
        }
      },
      "outputs": [
        {
          "output_type": "error",
          "ename": "NameError",
          "evalue": "ignored",
          "traceback": [
            "\u001b[0;31m---------------------------------------------------------------------------\u001b[0m",
            "\u001b[0;31mNameError\u001b[0m                                 Traceback (most recent call last)",
            "\u001b[0;32m<ipython-input-17-3d8e59144b8a>\u001b[0m in \u001b[0;36m<module>\u001b[0;34m\u001b[0m\n\u001b[1;32m     24\u001b[0m     \u001b[0mplt\u001b[0m\u001b[0;34m.\u001b[0m\u001b[0mshow\u001b[0m\u001b[0;34m(\u001b[0m\u001b[0;34m)\u001b[0m\u001b[0;34m\u001b[0m\u001b[0;34m\u001b[0m\u001b[0m\n\u001b[1;32m     25\u001b[0m \u001b[0;34m\u001b[0m\u001b[0m\n\u001b[0;32m---> 26\u001b[0;31m \u001b[0mplot_model\u001b[0m\u001b[0;34m(\u001b[0m\u001b[0mx_low\u001b[0m\u001b[0;34m,\u001b[0m \u001b[0my_low\u001b[0m\u001b[0;34m,\u001b[0m \u001b[0mx_high\u001b[0m\u001b[0;34m,\u001b[0m \u001b[0my_high\u001b[0m\u001b[0;34m)\u001b[0m\u001b[0;34m\u001b[0m\u001b[0;34m\u001b[0m\u001b[0m\n\u001b[0m",
            "\u001b[0;31mNameError\u001b[0m: name 'x_low' is not defined"
          ]
        }
      ],
      "source": [
        "\n"
      ]
    },
    {
      "cell_type": "code",
      "execution_count": 18,
      "id": "4eedeb8c",
      "metadata": {
        "id": "4eedeb8c"
      },
      "outputs": [],
      "source": [
        "lf_mean_lin_mf_model, lf_var_lin_mf_model = lin_mf_model.predict(X_plot_l)\n",
        "lf_std_lin_mf_model = np.sqrt(lf_var_lin_mf_model)\n",
        "hf_mean_lin_mf_model, hf_var_lin_mf_model = lin_mf_model.predict(X_plot_h)\n",
        "hf_std_lin_mf_model = np.sqrt(hf_var_lin_mf_model)\n"
      ]
    },
    {
      "cell_type": "code",
      "execution_count": 23,
      "id": "86594123",
      "metadata": {
        "id": "86594123",
        "colab": {
          "base_uri": "https://localhost:8080/",
          "height": 265
        },
        "outputId": "bfdc88a3-f6fd-4433-8982-1cf0f9647693"
      },
      "outputs": [
        {
          "output_type": "display_data",
          "data": {
            "text/plain": [
              "<Figure size 432x288 with 1 Axes>"
            ],
            "image/png": "[encoded data removed]"
          },
          "metadata": {
            "needs_background": "light"
          }
        }
      ],
      "source": [
        "import matplotlib.pyplot as plt\n",
        "\n",
        "\n",
        "plt.plot(x_train_h,y_train_h,'ro', markersize=5,label='High fidelity')\n",
        "\n",
        "plt.plot(x_train_l,y_train_l,'bo', markersize=5,label='Low fidelity')\n",
        "plt.plot(x_plot,hf_mean_lin_mf_model,'g-', label='Prediction')\n",
        "plt.plot(x_plot,y_plot_h,'k--', label='True')\n",
        "plt.legend()\n",
        "plt.show()"
      ]
    },
    {
      "cell_type": "code",
      "execution_count": null,
      "id": "401af323",
      "metadata": {
        "id": "401af323"
      },
      "outputs": [],
      "source": []
    }
  ],
  "metadata": {
    "kernelspec": {
      "display_name": "Python 3 (ipykernel)",
      "language": "python",
      "name": "python3"
    },
    "language_info": {
      "codemirror_mode": {
        "name": "ipython",
        "version": 3
      },
      "file_extension": ".py",
      "mimetype": "text/x-python",
      "name": "python",
      "nbconvert_exporter": "python",
      "pygments_lexer": "ipython3",
      "version": "3.9.2"
    },
    "colab": {
      "provenance": []
    }
  },
  "nbformat": 4,
  "nbformat_minor": 5
}