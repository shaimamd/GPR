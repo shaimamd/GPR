{
  "nbformat": 4,
  "nbformat_minor": 0,
  "metadata": {
    "colab": {
      "provenance": []
    },
    "kernelspec": {
      "name": "python3",
      "display_name": "Python 3"
    },
    "language_info": {
      "name": "python"
    }
  },
  "cells": [
    {
      "cell_type": "code",
      "execution_count": 4,
      "metadata": {
        "colab": {
          "base_uri": "https://localhost:8080/"
        },
        "id": "HcHC-XZQrKRL",
        "outputId": "52f5a34a-4ad4-4926-bd1f-49f0425b127a"
      },
      "outputs": [
        {
          "output_type": "stream",
          "name": "stdout",
          "text": [
            "Looking in indexes: https://pypi.org/simple, https://us-python.pkg.dev/colab-wheels/public/simple/\n",
            "Collecting GPy\n",
            "  Downloading GPy-1.10.0.tar.gz (959 kB)\n",
            "\u001b[2K     \u001b[90m━━━━━━━━━━━━━━━━━━━━━━━━━━━━━━━━━━━━━━\u001b[0m \u001b[32m959.4/959.4 KB\u001b[0m \u001b[31m12.8 MB/s\u001b[0m eta \u001b[36m0:00:00\u001b[0m\n",
            "\u001b[?25h  Preparing metadata (setup.py) ... \u001b[?25l\u001b[?25hdone\n",
            "Requirement already satisfied: numpy>=1.7 in /usr/local/lib/python3.8/dist-packages (from GPy) (1.21.6)\n",
            "Requirement already satisfied: six in /usr/local/lib/python3.8/dist-packages (from GPy) (1.15.0)\n",
            "Collecting paramz>=0.9.0\n",
            "  Downloading paramz-0.9.5.tar.gz (71 kB)\n",
            "\u001b[2K     \u001b[90m━━━━━━━━━━━━━━━━━━━━━━━━━━━━━━━━━━━━━━━━\u001b[0m \u001b[32m71.3/71.3 KB\u001b[0m \u001b[31m7.9 MB/s\u001b[0m eta \u001b[36m0:00:00\u001b[0m\n",
            "\u001b[?25h  Preparing metadata (setup.py) ... \u001b[?25l\u001b[?25hdone\n",
            "Requirement already satisfied: cython>=0.29 in /usr/local/lib/python3.8/dist-packages (from GPy) (0.29.33)\n",
            "Requirement already satisfied: scipy>=1.3.0 in /usr/local/lib/python3.8/dist-packages (from GPy) (1.7.3)\n",
            "Requirement already satisfied: decorator>=4.0.10 in /usr/local/lib/python3.8/dist-packages (from paramz>=0.9.0->GPy) (4.4.2)\n",
            "Building wheels for collected packages: GPy, paramz\n",
            "  Building wheel for GPy (setup.py) ... \u001b[?25l\u001b[?25hdone\n",
            "  Created wheel for GPy: filename=GPy-1.10.0-cp38-cp38-linux_x86_64.whl size=3424783 sha256=77e44f7bf20a028d338cba0351c085f643a1d8355554bdce6f1329827372521b\n",
            "  Stored in directory: /root/.cache/pip/wheels/48/b3/22/31f07cfd7b182ea3703151b7e5a7d6447e3e1ac6aa5c529413\n",
            "  Building wheel for paramz (setup.py) ... \u001b[?25l\u001b[?25hdone\n",
            "  Created wheel for paramz: filename=paramz-0.9.5-py3-none-any.whl size=102566 sha256=f0130c8a992c7278c5f29b00eec3aa53301577abff91be059432debeaa5442b2\n",
            "  Stored in directory: /root/.cache/pip/wheels/66/78/6c/d98cb437834de5e29381786b4ba8a77ea68cca74653ab62713\n",
            "Successfully built GPy paramz\n",
            "Installing collected packages: paramz, GPy\n",
            "Successfully installed GPy-1.10.0 paramz-0.9.5\n"
          ]
        }
      ],
      "source": [
        "pip install GPy"
      ]
    },
    {
      "cell_type": "code",
      "source": [
        "pip install emukit"
      ],
      "metadata": {
        "colab": {
          "base_uri": "https://localhost:8080/"
        },
        "id": "UyW-SYQLqfuH",
        "outputId": "1bae3ba5-7783-4f1a-cee5-1646167c7d45"
      },
      "execution_count": 47,
      "outputs": [
        {
          "output_type": "stream",
          "name": "stdout",
          "text": [
            "Looking in indexes: https://pypi.org/simple, https://us-python.pkg.dev/colab-wheels/public/simple/\n",
            "Collecting emukit\n",
            "  Downloading emukit-0.4.10.tar.gz (170 kB)\n",
            "\u001b[2K     \u001b[90m━━━━━━━━━━━━━━━━━━━━━━━━━━━━━━━━━━━━━━━\u001b[0m \u001b[32m170.5/170.5 KB\u001b[0m \u001b[31m4.2 MB/s\u001b[0m eta \u001b[36m0:00:00\u001b[0m\n",
            "\u001b[?25h  Installing build dependencies ... \u001b[?25l\u001b[?25hdone\n",
            "  Getting requirements to build wheel ... \u001b[?25l\u001b[?25hdone\n",
            "  Preparing metadata (pyproject.toml) ... \u001b[?25l\u001b[?25hdone\n",
            "Requirement already satisfied: scipy>=1.1.0 in /usr/local/lib/python3.8/dist-packages (from emukit) (1.7.3)\n",
            "Collecting emcee>=2.2.1\n",
            "  Downloading emcee-3.1.4-py2.py3-none-any.whl (46 kB)\n",
            "\u001b[2K     \u001b[90m━━━━━━━━━━━━━━━━━━━━━━━━━━━━━━━━━━━━━━━━\u001b[0m \u001b[32m46.2/46.2 KB\u001b[0m \u001b[31m4.9 MB/s\u001b[0m eta \u001b[36m0:00:00\u001b[0m\n",
            "\u001b[?25hRequirement already satisfied: setuptools>=40.8.0 in /usr/local/lib/python3.8/dist-packages (from emukit) (57.4.0)\n",
            "Requirement already satisfied: numpy>=1.14.5 in /usr/local/lib/python3.8/dist-packages (from emukit) (1.21.6)\n",
            "Requirement already satisfied: GPy[plotting]>=1.10.0 in /usr/local/lib/python3.8/dist-packages (from emukit) (1.10.0)\n",
            "Requirement already satisfied: cython>=0.29 in /usr/local/lib/python3.8/dist-packages (from GPy[plotting]>=1.10.0->emukit) (0.29.33)\n",
            "Requirement already satisfied: six in /usr/local/lib/python3.8/dist-packages (from GPy[plotting]>=1.10.0->emukit) (1.15.0)\n",
            "Requirement already satisfied: paramz>=0.9.0 in /usr/local/lib/python3.8/dist-packages (from GPy[plotting]>=1.10.0->emukit) (0.9.5)\n",
            "Requirement already satisfied: plotly>=1.8.6 in /usr/local/lib/python3.8/dist-packages (from GPy[plotting]>=1.10.0->emukit) (5.5.0)\n",
            "Requirement already satisfied: matplotlib>=3.0 in /usr/local/lib/python3.8/dist-packages (from GPy[plotting]>=1.10.0->emukit) (3.2.2)\n",
            "Requirement already satisfied: kiwisolver>=1.0.1 in /usr/local/lib/python3.8/dist-packages (from matplotlib>=3.0->GPy[plotting]>=1.10.0->emukit) (1.4.4)\n",
            "Requirement already satisfied: pyparsing!=2.0.4,!=2.1.2,!=2.1.6,>=2.0.1 in /usr/local/lib/python3.8/dist-packages (from matplotlib>=3.0->GPy[plotting]>=1.10.0->emukit) (3.0.9)\n",
            "Requirement already satisfied: python-dateutil>=2.1 in /usr/local/lib/python3.8/dist-packages (from matplotlib>=3.0->GPy[plotting]>=1.10.0->emukit) (2.8.2)\n",
            "Requirement already satisfied: cycler>=0.10 in /usr/local/lib/python3.8/dist-packages (from matplotlib>=3.0->GPy[plotting]>=1.10.0->emukit) (0.11.0)\n",
            "Requirement already satisfied: decorator>=4.0.10 in /usr/local/lib/python3.8/dist-packages (from paramz>=0.9.0->GPy[plotting]>=1.10.0->emukit) (4.4.2)\n",
            "Requirement already satisfied: tenacity>=6.2.0 in /usr/local/lib/python3.8/dist-packages (from plotly>=1.8.6->GPy[plotting]>=1.10.0->emukit) (8.2.1)\n",
            "Building wheels for collected packages: emukit\n",
            "  Building wheel for emukit (pyproject.toml) ... \u001b[?25l\u001b[?25hdone\n",
            "  Created wheel for emukit: filename=emukit-0.4.10-py3-none-any.whl size=257070 sha256=e12156a80a4b3aecbcef0893dae826547c01f6e05d30d1990bcd324cb043f2bd\n",
            "  Stored in directory: /root/.cache/pip/wheels/9f/22/2f/daff2d230945e49b66d5bd44aa0860ee545d60f84823446cc1\n",
            "Successfully built emukit\n",
            "Installing collected packages: emcee, emukit\n",
            "Successfully installed emcee-3.1.4 emukit-0.4.10\n"
          ]
        }
      ]
    },
    {
      "cell_type": "code",
      "source": [
        "import GPy\n",
        "import emukit.multi_fidelity\n",
        "import emukit.test_functions\n",
        "from emukit.model_wrappers.gpy_model_wrappers import GPyMultiOutputWrapper\n",
        "from emukit.multi_fidelity.models import GPyLinearMultiFidelityModel\n",
        "import numpy as np\n",
        "import matplotlib.pyplot as plt\n",
        "from matplotlib import colors as mcolors\n",
        "colors = dict(mcolors.BASE_COLORS, **mcolors.CSS4_COLORS)\n",
        "%matplotlib inline"
      ],
      "metadata": {
        "id": "Iqa4CkVcrfFz"
      },
      "execution_count": 50,
      "outputs": []
    },
    {
      "cell_type": "code",
      "source": [
        "from google.colab import drive\n",
        "drive.mount('/content/drive')\n",
        "\n",
        "DNS_data=pd.read_csv('/content/drive/MyDrive/ColabNotebooks/DNS_data.csv') \n",
        "RANS_data=pd.read_csv('/content/drive/MyDrive/ColabNotebooks/RANS_data.csv') \n"
      ],
      "metadata": {
        "colab": {
          "base_uri": "https://localhost:8080/"
        },
        "id": "a_ARJ-ycgkir",
        "outputId": "c113b280-712f-447e-9760-c240cfbb613e"
      },
      "execution_count": 51,
      "outputs": [
        {
          "output_type": "stream",
          "name": "stdout",
          "text": [
            "Drive already mounted at /content/drive; to attempt to forcibly remount, call drive.mount(\"/content/drive\", force_remount=True).\n"
          ]
        }
      ]
    },
    {
      "cell_type": "code",
      "source": [
        "# Generate sample data\n",
        "\n",
        "x_train_l =  np.array([[70,100],[70,50],[70,0],[60,80],[60,30],[60,0],[50,80],[50,50],[40,100],[40,30],[40,0]])\n",
        "x_train_h = np.array([[70,100],[70,0],[60,30],[50,50],[40,100],[40,0]])\n",
        "\n",
        "DNS_full=DNS_data.dropna(axis=1)\n",
        "DNS_full=DNS_full.values\n",
        "DNS=DNS_full[:,[0,2,4,7,8,10]]\n",
        "\n",
        "DNS_test=DNS_full[:,[1,5,3,8,6,9]]\n",
        "RANS=RANS_data.dropna(axis=1)\n",
        "RANS=RANS.values\n",
        "#D_70_100=np.array(DNS_data['70_100'])\n",
        "#D_70_100=D_70_100.reshape(-1,1)\n",
        "#np.stack(())\n",
        "#print(column_values.shape)\n",
        "\n",
        "DNS_full=np.transpose(DNS_full)\n",
        "y_train_h=np.transpose(DNS)\n",
        "y_train_l=np.transpose(RANS)"
      ],
      "metadata": {
        "id": "QBnpzkCZrjuG"
      },
      "execution_count": 66,
      "outputs": []
    },
    {
      "cell_type": "code",
      "source": [
        "x_train_l=np.c_[ x_train_l, np.zeros(len(x_train_l)) ]   \n",
        "x_train_h=np.c_[ x_train_h, np.ones(len(x_train_h)) ]   \n",
        "X_train=np.append(x_train_l,x_train_h,axis=0)\n",
        "print(X_train)\n",
        "Y_train=np.append(y_train_l,y_train_h,axis=0)\n"
      ],
      "metadata": {
        "id": "1oG3xCaxrmTK",
        "colab": {
          "base_uri": "https://localhost:8080/"
        },
        "outputId": "663d5726-b0f7-4d02-87df-f5fe47665594"
      },
      "execution_count": 67,
      "outputs": [
        {
          "output_type": "stream",
          "name": "stdout",
          "text": [
            "[[ 70. 100.   0.]\n",
            " [ 70.  50.   0.]\n",
            " [ 70.   0.   0.]\n",
            " [ 60.  80.   0.]\n",
            " [ 60.  30.   0.]\n",
            " [ 60.   0.   0.]\n",
            " [ 50.  80.   0.]\n",
            " [ 50.  50.   0.]\n",
            " [ 40. 100.   0.]\n",
            " [ 40.  30.   0.]\n",
            " [ 40.   0.   0.]\n",
            " [ 70. 100.   1.]\n",
            " [ 70.   0.   1.]\n",
            " [ 60.  30.   1.]\n",
            " [ 50.  50.   1.]\n",
            " [ 40. 100.   1.]\n",
            " [ 40.   0.   1.]]\n"
          ]
        }
      ]
    },
    {
      "cell_type": "code",
      "source": [
        "kernels = [GPy.kern.RBF(2),GPy.kern.RBF(2)]\n",
        "lin_mf_kernel = emukit.multi_fidelity.kernels.LinearMultiFidelityKernel(kernels)\n",
        "gpy_lin_mf_model = GPyLinearMultiFidelityModel(X_train, Y_train, lin_mf_kernel, n_fidelities=2)\n",
        "gpy_lin_mf_model.mixed_noise.Gaussian_noise.fix(0)\n",
        "gpy_lin_mf_model.mixed_noise.Gaussian_noise_1.fix(0)\n",
        "\n",
        "lin_mf_model =model=GPyMultiOutputWrapper(gpy_lin_mf_model, 4, n_optimization_restarts=200)\n",
        "\n",
        "## Fit the model\n",
        "  \n",
        "lin_mf_model.optimize()"
      ],
      "metadata": {
        "id": "2ZB6GXYau8ua",
        "colab": {
          "base_uri": "https://localhost:8080/"
        },
        "outputId": "7c394d29-8b9a-4d5a-cb5f-b6103d917a7b"
      },
      "execution_count": 68,
      "outputs": [
        {
          "output_type": "stream",
          "name": "stderr",
          "text": [
            " /usr/local/lib/python3.8/dist-packages/paramz/transformations.py:111: RuntimeWarning:divide by zero encountered in log\n"
          ]
        },
        {
          "output_type": "stream",
          "name": "stdout",
          "text": [
            "Optimization restart 1/200, f = -24837.961137183567\n",
            "Optimization restart 2/200, f = -24837.961137183214\n",
            "Optimization restart 3/200, f = -24837.961137169084\n",
            "Optimization restart 4/200, f = -24837.961137182414\n",
            "Optimization restart 5/200, f = -24837.961136864436\n",
            "Optimization restart 6/200, f = -24837.96113718343\n",
            "Optimization restart 7/200, f = -24837.961137167014\n",
            "Optimization restart 8/200, f = -30340.26516926372\n",
            "Optimization restart 9/200, f = -24837.961136952672\n",
            "Optimization restart 10/200, f = -24837.961137181203\n",
            "Optimization restart 11/200, f = -24837.961137183043\n",
            "Optimization restart 12/200, f = -24837.961137182414\n",
            "Optimization restart 13/200, f = -24837.961137182443\n",
            "Optimization restart 14/200, f = -24837.961137183545\n",
            "Optimization restart 15/200, f = -24837.96113698172\n",
            "Optimization restart 16/200, f = -24837.961137497176\n",
            "Optimization restart 17/200, f = -24837.961137182894\n",
            "Optimization restart 18/200, f = -24837.96113717492\n",
            "Optimization restart 19/200, f = -24837.96113717622\n",
            "Optimization restart 20/200, f = -24837.961137183494\n",
            "Optimization restart 21/200, f = -24837.961137183538\n",
            "Optimization restart 22/200, f = -24837.961137183505\n",
            "Optimization restart 23/200, f = -24837.96113717714\n",
            "Optimization restart 24/200, f = -24837.961137183473\n",
            "Optimization restart 25/200, f = -24837.96113712745\n",
            "Optimization restart 26/200, f = -24837.961137119895\n",
            "Optimization restart 27/200, f = -24837.961136610364\n",
            "Optimization restart 28/200, f = -24837.96113718306\n",
            "Optimization restart 29/200, f = -24837.961137182894\n",
            "Optimization restart 30/200, f = -24837.961137167895\n",
            "Optimization restart 31/200, f = -24837.961137181628\n",
            "Optimization restart 32/200, f = -24837.962453433716\n",
            "Optimization restart 33/200, f = -24837.961137181905\n",
            "Optimization restart 34/200, f = -24837.961137182603\n",
            "Optimization restart 35/200, f = -24837.961406521616\n",
            "Optimization restart 36/200, f = -24837.9611371752\n",
            "Optimization restart 37/200, f = -30340.265169287803\n",
            "Optimization restart 38/200, f = -24837.96113716196\n",
            "Optimization restart 39/200, f = -24837.96113717663\n",
            "Optimization restart 40/200, f = -24837.961137183138\n",
            "Optimization restart 41/200, f = -24837.961137003134\n",
            "Optimization restart 42/200, f = -24837.961137156133\n",
            "Optimization restart 43/200, f = -24837.96113718152\n",
            "Optimization restart 44/200, f = -24837.9611371735\n",
            "Optimization restart 45/200, f = -24837.96113716715\n",
            "Optimization restart 46/200, f = -24837.9611369536\n",
            "Optimization restart 47/200, f = -24837.9611372679\n",
            "Optimization restart 48/200, f = -24837.96113718355\n",
            "Optimization restart 49/200, f = -24837.961197272016\n",
            "Optimization restart 50/200, f = -24837.961137183556\n",
            "Optimization restart 51/200, f = -24837.961137181606\n",
            "Optimization restart 52/200, f = -24837.961137183498\n",
            "Optimization restart 53/200, f = -24837.961137152917\n",
            "Optimization restart 54/200, f = -24837.961137177626\n",
            "Optimization restart 55/200, f = -24837.961137183338\n",
            "Optimization restart 56/200, f = -24837.96113716197\n",
            "Optimization restart 57/200, f = -24837.961137578503\n",
            "Optimization restart 58/200, f = -24837.96113718341\n",
            "Optimization restart 59/200, f = -24837.961137177408\n",
            "Optimization restart 60/200, f = -24837.961137177776\n",
            "Optimization restart 61/200, f = -24837.961136977763\n",
            "Optimization restart 62/200, f = -24837.96113718029\n",
            "Optimization restart 63/200, f = -24837.961137087583\n",
            "Optimization restart 64/200, f = -30340.26516924431\n",
            "Optimization restart 65/200, f = -24837.961137183345\n",
            "Optimization restart 66/200, f = -24837.96113715269\n",
            "Optimization restart 67/200, f = -24837.96113714535\n",
            "Optimization restart 68/200, f = -24837.96113718267\n",
            "Optimization restart 69/200, f = -24837.961137030557\n",
            "Optimization restart 70/200, f = -24837.961137172635\n",
            "Optimization restart 71/200, f = -24837.961137143728\n",
            "Optimization restart 72/200, f = -24837.961137183538\n",
            "Optimization restart 73/200, f = -24837.96113713065\n",
            "Optimization restart 74/200, f = -24837.961137181126\n",
            "Optimization restart 75/200, f = -24837.961136572812\n",
            "Optimization restart 76/200, f = -24837.96113706502\n",
            "Optimization restart 77/200, f = -24837.961137114886\n",
            "Optimization restart 78/200, f = -24837.961137180202\n",
            "Optimization restart 79/200, f = -24837.961137162572\n",
            "Optimization restart 80/200, f = -24837.96113718515\n",
            "Optimization restart 81/200, f = -24837.961137111968\n",
            "Optimization restart 82/200, f = -24837.961137181723\n",
            "Optimization restart 83/200, f = -24837.961137168422\n",
            "Optimization restart 84/200, f = -24837.96113688283\n",
            "Optimization restart 85/200, f = -24837.963992970363\n",
            "Optimization restart 86/200, f = -24837.961137148923\n",
            "Optimization restart 87/200, f = -24837.961137199225\n",
            "Optimization restart 88/200, f = -24837.961137170194\n",
            "Optimization restart 89/200, f = -24837.96113511788\n",
            "Optimization restart 90/200, f = -24837.96113717227\n",
            "Optimization restart 91/200, f = -24837.96113718285\n",
            "Optimization restart 92/200, f = -24837.9611371745\n",
            "Optimization restart 93/200, f = -24837.961137172515\n",
            "Optimization restart 94/200, f = -24837.961137181912\n",
            "Optimization restart 95/200, f = -24837.96113718344\n",
            "Optimization restart 96/200, f = -24837.96113720876\n",
            "Optimization restart 97/200, f = -24837.961139478513\n",
            "Optimization restart 98/200, f = -24837.961176944013\n",
            "Optimization restart 99/200, f = -24837.96113718354\n",
            "Optimization restart 100/200, f = -24837.961137183516\n",
            "Optimization restart 101/200, f = -24837.961137182156\n",
            "Optimization restart 102/200, f = -24837.96113712498\n",
            "Optimization restart 103/200, f = -24837.961137183254\n",
            "Optimization restart 104/200, f = -24837.961137095204\n",
            "Optimization restart 105/200, f = -24837.961137180046\n",
            "Optimization restart 106/200, f = -24837.99999940948\n",
            "Optimization restart 107/200, f = -24837.961136819948\n",
            "Optimization restart 108/200, f = -24837.961137182097\n",
            "Optimization restart 109/200, f = -24837.961137092683\n",
            "Optimization restart 110/200, f = -24837.96109623697\n",
            "Optimization restart 111/200, f = -24837.961137148188\n",
            "Optimization restart 112/200, f = -24837.961136364964\n",
            "Optimization restart 113/200, f = -24837.961136909547\n",
            "Optimization restart 114/200, f = -24837.96113718356\n",
            "Optimization restart 115/200, f = -24837.96113693137\n",
            "Optimization restart 116/200, f = -24837.961137183403\n",
            "Optimization restart 117/200, f = -24837.961137182254\n",
            "Optimization restart 118/200, f = -24837.961137183265\n",
            "Optimization restart 119/200, f = -24837.96113714259\n",
            "Optimization restart 120/200, f = -24837.96113717658\n",
            "Optimization restart 121/200, f = -24837.9611371835\n",
            "Optimization restart 122/200, f = -24837.96113523201\n",
            "Optimization restart 123/200, f = -24837.961137183553\n",
            "Optimization restart 124/200, f = -24837.961137139748\n",
            "Optimization restart 125/200, f = -24838.000099197798\n",
            "Optimization restart 126/200, f = -24837.961137183418\n",
            "Optimization restart 127/200, f = -24837.9611371768\n",
            "Optimization restart 128/200, f = -24837.96113716392\n",
            "Optimization restart 129/200, f = -24837.961137183564\n",
            "Optimization restart 130/200, f = -24837.961136798105\n",
            "Optimization restart 131/200, f = -24837.961137294933\n",
            "Optimization restart 132/200, f = -24837.96113717994\n",
            "Optimization restart 133/200, f = -24837.96113712835\n",
            "Optimization restart 134/200, f = -24837.96113704904\n",
            "Optimization restart 135/200, f = -24837.961137155733\n",
            "Optimization restart 136/200, f = -24837.96113717966\n",
            "Optimization restart 137/200, f = -24837.961137157807\n",
            "Optimization restart 138/200, f = -24837.961137178874\n",
            "Optimization restart 139/200, f = -24837.96113718256\n",
            "Optimization restart 140/200, f = -24837.9611371827\n",
            "Optimization restart 141/200, f = -24837.961137171493\n",
            "Optimization restart 142/200, f = -24837.961137181046\n",
            "Optimization restart 143/200, f = -24837.96113717561\n",
            "Optimization restart 144/200, f = -24837.961137183564\n",
            "Optimization restart 145/200, f = -24837.961135450685\n",
            "Optimization restart 146/200, f = -24837.96113695429\n",
            "Optimization restart 147/200, f = -24837.96115315109\n",
            "Optimization restart 148/200, f = -24837.961137058643\n",
            "Optimization restart 149/200, f = -30340.26516926882\n",
            "Optimization restart 150/200, f = -24837.961137180322\n",
            "Optimization restart 151/200, f = -24837.96113716501\n",
            "Optimization restart 152/200, f = -24837.961140409752\n",
            "Optimization restart 153/200, f = -24837.961137177168\n",
            "Optimization restart 154/200, f = -24837.961137182378\n",
            "Optimization restart 155/200, f = -24837.961137181646\n",
            "Optimization restart 156/200, f = -24837.96113714671\n",
            "Optimization restart 157/200, f = -24837.961137177786\n",
            "Optimization restart 158/200, f = -24837.96113694873\n",
            "Optimization restart 159/200, f = -24837.961629730573\n",
            "Optimization restart 160/200, f = -24837.961137181614\n",
            "Optimization restart 161/200, f = -24837.96113718277\n",
            "Optimization restart 162/200, f = -24837.961137183527\n",
            "Optimization restart 163/200, f = -24837.961137183323\n",
            "Optimization restart 164/200, f = -24837.961137183556\n",
            "Optimization restart 165/200, f = -24837.961137162118\n",
            "Optimization restart 166/200, f = -24837.961137183564\n",
            "Optimization restart 167/200, f = -24837.96113717995\n",
            "Optimization restart 168/200, f = -24837.96113718347\n",
            "Optimization restart 169/200, f = -24837.96113717989\n",
            "Optimization restart 170/200, f = -24837.961137180388\n",
            "Optimization restart 171/200, f = -24837.961137141167\n",
            "Optimization restart 172/200, f = -24837.961137183018\n",
            "Optimization restart 173/200, f = -24837.961137078913\n",
            "Optimization restart 174/200, f = -24837.96113718355\n",
            "Optimization restart 175/200, f = -24837.961137164413\n",
            "Optimization restart 176/200, f = -24837.961137169325\n",
            "Optimization restart 177/200, f = -24837.961137182472\n",
            "Optimization restart 178/200, f = -30340.265168904993\n",
            "Optimization restart 179/200, f = -24837.96113716961\n",
            "Optimization restart 180/200, f = -24837.961137180973\n",
            "Optimization restart 181/200, f = -24837.961137175407\n",
            "Optimization restart 182/200, f = -24837.96113717818\n",
            "Optimization restart 183/200, f = -24837.961172832496\n",
            "Optimization restart 184/200, f = -24837.961137183524\n",
            "Optimization restart 185/200, f = -24837.96113718068\n",
            "Optimization restart 186/200, f = -24837.961137183538\n",
            "Optimization restart 187/200, f = -24837.961137180413\n",
            "Optimization restart 188/200, f = -24837.961137115293\n",
            "Optimization restart 189/200, f = -24837.96113716143\n",
            "Optimization restart 190/200, f = -24837.9684903598\n",
            "Optimization restart 191/200, f = -24837.961137090973\n",
            "Optimization restart 192/200, f = -24837.961137183796\n",
            "Optimization restart 193/200, f = -24837.961137183564\n",
            "Optimization restart 194/200, f = -24837.96113717117\n",
            "Optimization restart 195/200, f = -24837.969469925913\n",
            "Optimization restart 196/200, f = -24837.961137183436\n",
            "Optimization restart 197/200, f = -24837.963390806373\n",
            "Optimization restart 198/200, f = -24837.961137173523\n",
            "Optimization restart 199/200, f = -24837.9611371781\n",
            "Optimization restart 200/200, f = -24837.9611371501\n"
          ]
        }
      ]
    },
    {
      "cell_type": "code",
      "source": [
        "#x_plot=np.reshape(x,[10000,2])\n",
        "x_plot=np.array([[70,50],[60,0],[60,80],[40,100],[50,80],[40,30]])\n",
        "X_plot_l=np.c_[ x_plot, np.zeros(len(x_plot)) ]   \n",
        "X_plot_h=np.c_[ x_plot, np.ones(len(x_plot)) ]  "
      ],
      "metadata": {
        "id": "KicGZ-2sqcAJ"
      },
      "execution_count": 58,
      "outputs": []
    },
    {
      "cell_type": "code",
      "source": [
        "hf_mean_lin_mf_model, hf_var_lin_mf_model = lin_mf_model.predict(X_plot_h)"
      ],
      "metadata": {
        "id": "bMLsVgQ7qduc"
      },
      "execution_count": 59,
      "outputs": []
    },
    {
      "cell_type": "code",
      "source": [
        "print(hf_mean_lin_mf_model.shape)"
      ],
      "metadata": {
        "colab": {
          "base_uri": "https://localhost:8080/"
        },
        "id": "n9JAj_hKrUye",
        "outputId": "9a8217b6-e86c-4968-c719-04d0f26d0c7e"
      },
      "execution_count": 61,
      "outputs": [
        {
          "output_type": "stream",
          "name": "stdout",
          "text": [
            "(6, 533)\n"
          ]
        }
      ]
    },
    {
      "cell_type": "code",
      "source": [
        "fig,ax=plt.subplots()\n",
        "for i in range(hf_mean_lin_mf_model.shape[0]):\n",
        "   ax.plot(hf_mean_lin_mf_model[i])\n",
        "ax.set_xlabel('X')\n",
        "ax.set_ylabel('Y')\n"
      ],
      "metadata": {
        "colab": {
          "base_uri": "https://localhost:8080/",
          "height": 296
        },
        "id": "6V3W84GqrbOw",
        "outputId": "c26b55d7-fa56-40e1-ffbf-e1ff2ee81686"
      },
      "execution_count": 65,
      "outputs": [
        {
          "output_type": "execute_result",
          "data": {
            "text/plain": [
              "Text(0, 0.5, 'Y')"
            ]
          },
          "metadata": {},
          "execution_count": 65
        },
        {
          "output_type": "display_data",
          "data": {
            "text/plain": [
              "<Figure size 432x288 with 1 Axes>"
            ],
            "image/png": "[encoded data removed]"
          },
          "metadata": {
            "needs_background": "light"
          }
        }
      ]
    },
    {
      "cell_type": "code",
      "source": [
        "DNS_test=np.transpose(DNS_test)\n",
        "fig,ax=plt.subplots()\n",
        "for i in range(DNS_test.shape[0]):\n",
        "   ax.plot(DNS_test[i])\n",
        "ax.set_xlabel('X')\n",
        "ax.set_ylabel('Y')\n"
      ],
      "metadata": {
        "colab": {
          "base_uri": "https://localhost:8080/",
          "height": 296
        },
        "id": "lIVZibQJsM1z",
        "outputId": "bbe9bfbd-75c0-465c-a60b-779a26254a8f"
      },
      "execution_count": 73,
      "outputs": [
        {
          "output_type": "execute_result",
          "data": {
            "text/plain": [
              "Text(0, 0.5, 'Y')"
            ]
          },
          "metadata": {},
          "execution_count": 73
        },
        {
          "output_type": "display_data",
          "data": {
            "text/plain": [
              "<Figure size 432x288 with 1 Axes>"
            ],
            "image/png": "[encoded data removed]"
          },
          "metadata": {
            "needs_background": "light"
          }
        }
      ]
    },
    {
      "cell_type": "code",
      "source": [
        "RANS_test=RANS[:,[1,5,3,8,6,9]]\n",
        "RANS_test=np.transpose(RANS_test)\n",
        "fig,ax=plt.subplots()\n",
        "for i in range(RANS_test.shape[0]):\n",
        "   ax.plot(RANS_test[i])\n",
        "ax.set_xlabel('X')\n",
        "ax.set_ylabel('Y')"
      ],
      "metadata": {
        "colab": {
          "base_uri": "https://localhost:8080/",
          "height": 296
        },
        "id": "LD4VvLdztM9h",
        "outputId": "3112928c-6758-466f-86f5-efa884661613"
      },
      "execution_count": 75,
      "outputs": [
        {
          "output_type": "execute_result",
          "data": {
            "text/plain": [
              "Text(0, 0.5, 'Y')"
            ]
          },
          "metadata": {},
          "execution_count": 75
        },
        {
          "output_type": "display_data",
          "data": {
            "text/plain": [
              "<Figure size 432x288 with 1 Axes>"
            ],
            "image/png": "[encoded data removed]"
          },
          "metadata": {
            "needs_background": "light"
          }
        }
      ]
    },
    {
      "cell_type": "code",
      "source": [
        "\n",
        "fig,ax=plt.subplots()\n",
        "#DNS_test.shape[0]\n",
        "\n",
        "#for i in range(1):\n",
        "ax.plot(hf_mean_lin_mf_model[0],color='r',label='Prediction')\n",
        "\n",
        "ax.plot(DNS_test[0],color='b',linestyle='dotted',label='DNS')\n",
        "ax.plot(RANS_test[0],color='k',linestyle='--',label='RANS')\n",
        "ax.set_xlabel('X')\n",
        "ax.set_ylabel('Y')\n",
        "ax.legend()\n"
      ],
      "metadata": {
        "colab": {
          "base_uri": "https://localhost:8080/",
          "height": 296
        },
        "id": "P3m-eQSDtYWO",
        "outputId": "91922c60-9ead-476a-8dee-e555d4178d88"
      },
      "execution_count": 88,
      "outputs": [
        {
          "output_type": "execute_result",
          "data": {
            "text/plain": [
              "<matplotlib.legend.Legend at 0x7fed0edf2bb0>"
            ]
          },
          "metadata": {},
          "execution_count": 88
        },
        {
          "output_type": "display_data",
          "data": {
            "text/plain": [
              "<Figure size 432x288 with 1 Axes>"
            ],
            "image/png": "[encoded data removed]"
          },
          "metadata": {
            "needs_background": "light"
          }
        }
      ]
    },
    {
      "cell_type": "code",
      "source": [],
      "metadata": {
        "id": "DNUwug11umCQ"
      },
      "execution_count": null,
      "outputs": []
    }
  ]
}